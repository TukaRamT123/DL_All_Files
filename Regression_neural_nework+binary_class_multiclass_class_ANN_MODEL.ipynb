{
 "cells": [
  {
   "cell_type": "code",
   "execution_count": 1,
   "id": "ec9becbf",
   "metadata": {},
   "outputs": [
    {
     "name": "stdout",
     "output_type": "stream",
     "text": [
      "Requirement already satisfied: keras in c:\\users\\administrator\\appdata\\roaming\\python\\python311\\site-packages (2.14.0)\n",
      "Note: you may need to restart the kernel to use updated packages.\n"
     ]
    }
   ],
   "source": [
    " pip install keras --user"
   ]
  },
  {
   "cell_type": "code",
   "execution_count": 58,
   "id": "ffe532e4",
   "metadata": {},
   "outputs": [],
   "source": [
    "from sklearn.datasets import make_regression\n",
    "X, Y = make_regression(n_samples=100,\n",
    "                n_features=10,\n",
    "                n_informative=6,\n",
    "                noise=8,random_state=21)"
   ]
  },
  {
   "cell_type": "code",
   "execution_count": 59,
   "id": "82ce19b1",
   "metadata": {},
   "outputs": [
    {
     "data": {
      "text/html": [
       "<div>\n",
       "<style scoped>\n",
       "    .dataframe tbody tr th:only-of-type {\n",
       "        vertical-align: middle;\n",
       "    }\n",
       "\n",
       "    .dataframe tbody tr th {\n",
       "        vertical-align: top;\n",
       "    }\n",
       "\n",
       "    .dataframe thead th {\n",
       "        text-align: right;\n",
       "    }\n",
       "</style>\n",
       "<table border=\"1\" class=\"dataframe\">\n",
       "  <thead>\n",
       "    <tr style=\"text-align: right;\">\n",
       "      <th></th>\n",
       "      <th>x1</th>\n",
       "      <th>x2</th>\n",
       "      <th>x3</th>\n",
       "      <th>x4</th>\n",
       "      <th>x5</th>\n",
       "      <th>x6</th>\n",
       "      <th>x7</th>\n",
       "      <th>x8</th>\n",
       "      <th>x9</th>\n",
       "      <th>x10</th>\n",
       "    </tr>\n",
       "  </thead>\n",
       "  <tbody>\n",
       "    <tr>\n",
       "      <th>0</th>\n",
       "      <td>-0.275170</td>\n",
       "      <td>1.637889</td>\n",
       "      <td>2.404714</td>\n",
       "      <td>-0.384765</td>\n",
       "      <td>1.782806</td>\n",
       "      <td>0.957342</td>\n",
       "      <td>-0.439692</td>\n",
       "      <td>1.741348</td>\n",
       "      <td>-1.240036</td>\n",
       "      <td>-0.546595</td>\n",
       "    </tr>\n",
       "    <tr>\n",
       "      <th>1</th>\n",
       "      <td>-0.926864</td>\n",
       "      <td>2.602813</td>\n",
       "      <td>0.210207</td>\n",
       "      <td>-1.983278</td>\n",
       "      <td>-0.693936</td>\n",
       "      <td>1.902740</td>\n",
       "      <td>-1.181434</td>\n",
       "      <td>0.376703</td>\n",
       "      <td>-0.129489</td>\n",
       "      <td>-0.368830</td>\n",
       "    </tr>\n",
       "    <tr>\n",
       "      <th>2</th>\n",
       "      <td>-1.006109</td>\n",
       "      <td>-0.311900</td>\n",
       "      <td>0.031493</td>\n",
       "      <td>-0.567888</td>\n",
       "      <td>-0.504862</td>\n",
       "      <td>-0.951802</td>\n",
       "      <td>0.327697</td>\n",
       "      <td>-1.023453</td>\n",
       "      <td>-0.996825</td>\n",
       "      <td>-0.352213</td>\n",
       "    </tr>\n",
       "    <tr>\n",
       "      <th>3</th>\n",
       "      <td>0.753899</td>\n",
       "      <td>-0.463593</td>\n",
       "      <td>-2.307581</td>\n",
       "      <td>-0.035329</td>\n",
       "      <td>0.012032</td>\n",
       "      <td>-1.074575</td>\n",
       "      <td>1.078478</td>\n",
       "      <td>1.380974</td>\n",
       "      <td>0.620528</td>\n",
       "      <td>-2.260315</td>\n",
       "    </tr>\n",
       "    <tr>\n",
       "      <th>4</th>\n",
       "      <td>-0.526516</td>\n",
       "      <td>2.519898</td>\n",
       "      <td>0.434308</td>\n",
       "      <td>0.570438</td>\n",
       "      <td>2.010793</td>\n",
       "      <td>-1.509082</td>\n",
       "      <td>0.285046</td>\n",
       "      <td>2.755003</td>\n",
       "      <td>-0.257867</td>\n",
       "      <td>-1.404590</td>\n",
       "    </tr>\n",
       "    <tr>\n",
       "      <th>...</th>\n",
       "      <td>...</td>\n",
       "      <td>...</td>\n",
       "      <td>...</td>\n",
       "      <td>...</td>\n",
       "      <td>...</td>\n",
       "      <td>...</td>\n",
       "      <td>...</td>\n",
       "      <td>...</td>\n",
       "      <td>...</td>\n",
       "      <td>...</td>\n",
       "    </tr>\n",
       "    <tr>\n",
       "      <th>95</th>\n",
       "      <td>-1.427289</td>\n",
       "      <td>0.758555</td>\n",
       "      <td>0.573830</td>\n",
       "      <td>0.335132</td>\n",
       "      <td>-0.361722</td>\n",
       "      <td>-0.882418</td>\n",
       "      <td>-0.217384</td>\n",
       "      <td>0.319751</td>\n",
       "      <td>-0.046958</td>\n",
       "      <td>-0.999412</td>\n",
       "    </tr>\n",
       "    <tr>\n",
       "      <th>96</th>\n",
       "      <td>-2.377465</td>\n",
       "      <td>-0.354489</td>\n",
       "      <td>-0.422632</td>\n",
       "      <td>0.141293</td>\n",
       "      <td>0.694067</td>\n",
       "      <td>1.302656</td>\n",
       "      <td>-0.285462</td>\n",
       "      <td>0.740013</td>\n",
       "      <td>-0.095867</td>\n",
       "      <td>-0.313218</td>\n",
       "    </tr>\n",
       "    <tr>\n",
       "      <th>97</th>\n",
       "      <td>-0.905639</td>\n",
       "      <td>-0.831998</td>\n",
       "      <td>-0.000267</td>\n",
       "      <td>-0.016413</td>\n",
       "      <td>-2.475892</td>\n",
       "      <td>-1.202989</td>\n",
       "      <td>0.937747</td>\n",
       "      <td>-0.608521</td>\n",
       "      <td>1.101853</td>\n",
       "      <td>0.048616</td>\n",
       "    </tr>\n",
       "    <tr>\n",
       "      <th>98</th>\n",
       "      <td>1.625891</td>\n",
       "      <td>-0.251844</td>\n",
       "      <td>-0.609316</td>\n",
       "      <td>0.047495</td>\n",
       "      <td>-0.574218</td>\n",
       "      <td>-0.369358</td>\n",
       "      <td>0.725413</td>\n",
       "      <td>-1.153061</td>\n",
       "      <td>-0.426582</td>\n",
       "      <td>-0.402654</td>\n",
       "    </tr>\n",
       "    <tr>\n",
       "      <th>99</th>\n",
       "      <td>0.064004</td>\n",
       "      <td>0.257229</td>\n",
       "      <td>0.691924</td>\n",
       "      <td>-1.275456</td>\n",
       "      <td>0.162342</td>\n",
       "      <td>-0.689228</td>\n",
       "      <td>1.373688</td>\n",
       "      <td>-0.448116</td>\n",
       "      <td>-0.613200</td>\n",
       "      <td>1.610992</td>\n",
       "    </tr>\n",
       "  </tbody>\n",
       "</table>\n",
       "<p>100 rows × 10 columns</p>\n",
       "</div>"
      ],
      "text/plain": [
       "          x1        x2        x3        x4        x5        x6        x7  \\\n",
       "0  -0.275170  1.637889  2.404714 -0.384765  1.782806  0.957342 -0.439692   \n",
       "1  -0.926864  2.602813  0.210207 -1.983278 -0.693936  1.902740 -1.181434   \n",
       "2  -1.006109 -0.311900  0.031493 -0.567888 -0.504862 -0.951802  0.327697   \n",
       "3   0.753899 -0.463593 -2.307581 -0.035329  0.012032 -1.074575  1.078478   \n",
       "4  -0.526516  2.519898  0.434308  0.570438  2.010793 -1.509082  0.285046   \n",
       "..       ...       ...       ...       ...       ...       ...       ...   \n",
       "95 -1.427289  0.758555  0.573830  0.335132 -0.361722 -0.882418 -0.217384   \n",
       "96 -2.377465 -0.354489 -0.422632  0.141293  0.694067  1.302656 -0.285462   \n",
       "97 -0.905639 -0.831998 -0.000267 -0.016413 -2.475892 -1.202989  0.937747   \n",
       "98  1.625891 -0.251844 -0.609316  0.047495 -0.574218 -0.369358  0.725413   \n",
       "99  0.064004  0.257229  0.691924 -1.275456  0.162342 -0.689228  1.373688   \n",
       "\n",
       "          x8        x9       x10  \n",
       "0   1.741348 -1.240036 -0.546595  \n",
       "1   0.376703 -0.129489 -0.368830  \n",
       "2  -1.023453 -0.996825 -0.352213  \n",
       "3   1.380974  0.620528 -2.260315  \n",
       "4   2.755003 -0.257867 -1.404590  \n",
       "..       ...       ...       ...  \n",
       "95  0.319751 -0.046958 -0.999412  \n",
       "96  0.740013 -0.095867 -0.313218  \n",
       "97 -0.608521  1.101853  0.048616  \n",
       "98 -1.153061 -0.426582 -0.402654  \n",
       "99 -0.448116 -0.613200  1.610992  \n",
       "\n",
       "[100 rows x 10 columns]"
      ]
     },
     "execution_count": 59,
     "metadata": {},
     "output_type": "execute_result"
    }
   ],
   "source": [
    "import pandas as pd\n",
    "X  = pd.DataFrame(X,columns=[\"x1\",\"x2\",\"x3\",\"x4\",\"x5\",\"x6\",\"x7\",\"x8\",\"x9\",\"x10\"])\n",
    "X"
   ]
  },
  {
   "cell_type": "code",
   "execution_count": 60,
   "id": "a51b65a0",
   "metadata": {},
   "outputs": [
    {
     "data": {
      "text/html": [
       "<div>\n",
       "<style scoped>\n",
       "    .dataframe tbody tr th:only-of-type {\n",
       "        vertical-align: middle;\n",
       "    }\n",
       "\n",
       "    .dataframe tbody tr th {\n",
       "        vertical-align: top;\n",
       "    }\n",
       "\n",
       "    .dataframe thead th {\n",
       "        text-align: right;\n",
       "    }\n",
       "</style>\n",
       "<table border=\"1\" class=\"dataframe\">\n",
       "  <thead>\n",
       "    <tr style=\"text-align: right;\">\n",
       "      <th></th>\n",
       "      <th>Target</th>\n",
       "    </tr>\n",
       "  </thead>\n",
       "  <tbody>\n",
       "    <tr>\n",
       "      <th>0</th>\n",
       "      <td>138.740209</td>\n",
       "    </tr>\n",
       "    <tr>\n",
       "      <th>1</th>\n",
       "      <td>35.002216</td>\n",
       "    </tr>\n",
       "    <tr>\n",
       "      <th>2</th>\n",
       "      <td>-138.793777</td>\n",
       "    </tr>\n",
       "    <tr>\n",
       "      <th>3</th>\n",
       "      <td>-5.795828</td>\n",
       "    </tr>\n",
       "    <tr>\n",
       "      <th>4</th>\n",
       "      <td>47.044816</td>\n",
       "    </tr>\n",
       "    <tr>\n",
       "      <th>...</th>\n",
       "      <td>...</td>\n",
       "    </tr>\n",
       "    <tr>\n",
       "      <th>95</th>\n",
       "      <td>-51.194867</td>\n",
       "    </tr>\n",
       "    <tr>\n",
       "      <th>96</th>\n",
       "      <td>76.566402</td>\n",
       "    </tr>\n",
       "    <tr>\n",
       "      <th>97</th>\n",
       "      <td>13.270319</td>\n",
       "    </tr>\n",
       "    <tr>\n",
       "      <th>98</th>\n",
       "      <td>-91.348628</td>\n",
       "    </tr>\n",
       "    <tr>\n",
       "      <th>99</th>\n",
       "      <td>71.806636</td>\n",
       "    </tr>\n",
       "  </tbody>\n",
       "</table>\n",
       "<p>100 rows × 1 columns</p>\n",
       "</div>"
      ],
      "text/plain": [
       "        Target\n",
       "0   138.740209\n",
       "1    35.002216\n",
       "2  -138.793777\n",
       "3    -5.795828\n",
       "4    47.044816\n",
       "..         ...\n",
       "95  -51.194867\n",
       "96   76.566402\n",
       "97   13.270319\n",
       "98  -91.348628\n",
       "99   71.806636\n",
       "\n",
       "[100 rows x 1 columns]"
      ]
     },
     "execution_count": 60,
     "metadata": {},
     "output_type": "execute_result"
    }
   ],
   "source": [
    "Y = pd.DataFrame(Y,columns=[\"Target\"])\n",
    "Y"
   ]
  },
  {
   "cell_type": "code",
   "execution_count": 61,
   "id": "5f723ae8",
   "metadata": {},
   "outputs": [
    {
     "data": {
      "text/plain": [
       "x1     0\n",
       "x2     0\n",
       "x3     0\n",
       "x4     0\n",
       "x5     0\n",
       "x6     0\n",
       "x7     0\n",
       "x8     0\n",
       "x9     0\n",
       "x10    0\n",
       "dtype: int64"
      ]
     },
     "execution_count": 61,
     "metadata": {},
     "output_type": "execute_result"
    }
   ],
   "source": [
    "X.isna().sum()"
   ]
  },
  {
   "cell_type": "code",
   "execution_count": 62,
   "id": "8fc0fa0a",
   "metadata": {},
   "outputs": [
    {
     "data": {
      "text/plain": [
       "Target    0\n",
       "dtype: int64"
      ]
     },
     "execution_count": 62,
     "metadata": {},
     "output_type": "execute_result"
    }
   ],
   "source": [
    "Y.isna().sum()"
   ]
  },
  {
   "cell_type": "code",
   "execution_count": 63,
   "id": "4abd143d",
   "metadata": {},
   "outputs": [],
   "source": [
    "from sklearn.model_selection import train_test_split\n",
    "xtrain,xtest,ytrain,ytest = train_test_split(X,Y,test_size=0.2,random_state=21)"
   ]
  },
  {
   "cell_type": "code",
   "execution_count": 64,
   "id": "a554e077",
   "metadata": {},
   "outputs": [],
   "source": [
    "from sklearn.preprocessing import StandardScaler\n",
    "ss = StandardScaler()\n",
    "xtrain = pd.DataFrame(ss.fit_transform(xtrain),columns = xtrain.columns)\n",
    "xtest = pd.DataFrame(ss.transform(xtest),columns = xtest.columns)"
   ]
  },
  {
   "cell_type": "code",
   "execution_count": 65,
   "id": "0f411438",
   "metadata": {},
   "outputs": [],
   "source": [
    "from keras.models import Sequential\n",
    "from keras.layers import Dense"
   ]
  },
  {
   "cell_type": "code",
   "execution_count": 66,
   "id": "d31dc254",
   "metadata": {},
   "outputs": [],
   "source": [
    "model =  Sequential()\n",
    "model.add(Dense(64,input_dim =xtrain.shape[1],activation=\"relu\"))\n",
    "model.add(Dense(32,activation=\"relu\"))\n",
    "model.add(Dense(1,activation=\"linear\"))"
   ]
  },
  {
   "cell_type": "code",
   "execution_count": 67,
   "id": "67e30ad0",
   "metadata": {},
   "outputs": [
    {
     "name": "stdout",
     "output_type": "stream",
     "text": [
      "Model: \"sequential_1\"\n",
      "_________________________________________________________________\n",
      " Layer (type)                Output Shape              Param #   \n",
      "=================================================================\n",
      " dense_4 (Dense)             (None, 64)                704       \n",
      "                                                                 \n",
      " dense_5 (Dense)             (None, 32)                2080      \n",
      "                                                                 \n",
      " dense_6 (Dense)             (None, 1)                 33        \n",
      "                                                                 \n",
      "=================================================================\n",
      "Total params: 2817 (11.00 KB)\n",
      "Trainable params: 2817 (11.00 KB)\n",
      "Non-trainable params: 0 (0.00 Byte)\n",
      "_________________________________________________________________\n"
     ]
    }
   ],
   "source": [
    "model.summary()"
   ]
  },
  {
   "cell_type": "code",
   "execution_count": 68,
   "id": "21613bff",
   "metadata": {},
   "outputs": [],
   "source": [
    "model.compile(loss=\"mae\",optimizer = \"adam\")"
   ]
  },
  {
   "cell_type": "code",
   "execution_count": 69,
   "id": "739fb089",
   "metadata": {},
   "outputs": [
    {
     "name": "stdout",
     "output_type": "stream",
     "text": [
      "Epoch 1/100\n",
      "2/2 [==============================] - 1s 164ms/step - loss: 91.6652 - val_loss: 81.3147\n",
      "Epoch 2/100\n",
      "2/2 [==============================] - 0s 32ms/step - loss: 91.6339 - val_loss: 81.3042\n",
      "Epoch 3/100\n",
      "2/2 [==============================] - 0s 33ms/step - loss: 91.6051 - val_loss: 81.2930\n",
      "Epoch 4/100\n",
      "2/2 [==============================] - 0s 36ms/step - loss: 91.5757 - val_loss: 81.2813\n",
      "Epoch 5/100\n",
      "2/2 [==============================] - 0s 33ms/step - loss: 91.5460 - val_loss: 81.2695\n",
      "Epoch 6/100\n",
      "2/2 [==============================] - 0s 35ms/step - loss: 91.5172 - val_loss: 81.2559\n",
      "Epoch 7/100\n",
      "2/2 [==============================] - 0s 34ms/step - loss: 91.4858 - val_loss: 81.2427\n",
      "Epoch 8/100\n",
      "2/2 [==============================] - 0s 34ms/step - loss: 91.4537 - val_loss: 81.2285\n",
      "Epoch 9/100\n",
      "2/2 [==============================] - 0s 36ms/step - loss: 91.4224 - val_loss: 81.2125\n",
      "Epoch 10/100\n",
      "2/2 [==============================] - 0s 35ms/step - loss: 91.3879 - val_loss: 81.1969\n",
      "Epoch 11/100\n",
      "2/2 [==============================] - 0s 35ms/step - loss: 91.3511 - val_loss: 81.1794\n",
      "Epoch 12/100\n",
      "2/2 [==============================] - 0s 37ms/step - loss: 91.3118 - val_loss: 81.1618\n",
      "Epoch 13/100\n",
      "2/2 [==============================] - 0s 45ms/step - loss: 91.2712 - val_loss: 81.1428\n",
      "Epoch 14/100\n",
      "2/2 [==============================] - 0s 35ms/step - loss: 91.2261 - val_loss: 81.1219\n",
      "Epoch 15/100\n",
      "2/2 [==============================] - 0s 35ms/step - loss: 91.1809 - val_loss: 81.1000\n",
      "Epoch 16/100\n",
      "2/2 [==============================] - 0s 33ms/step - loss: 91.1294 - val_loss: 81.0775\n",
      "Epoch 17/100\n",
      "2/2 [==============================] - 0s 32ms/step - loss: 91.0791 - val_loss: 81.0497\n",
      "Epoch 18/100\n",
      "2/2 [==============================] - 0s 34ms/step - loss: 91.0225 - val_loss: 81.0206\n",
      "Epoch 19/100\n",
      "2/2 [==============================] - 0s 34ms/step - loss: 90.9650 - val_loss: 80.9895\n",
      "Epoch 20/100\n",
      "2/2 [==============================] - 0s 34ms/step - loss: 90.9034 - val_loss: 80.9551\n",
      "Epoch 21/100\n",
      "2/2 [==============================] - 0s 35ms/step - loss: 90.8365 - val_loss: 80.9175\n",
      "Epoch 22/100\n",
      "2/2 [==============================] - 0s 36ms/step - loss: 90.7648 - val_loss: 80.8761\n",
      "Epoch 23/100\n",
      "2/2 [==============================] - 0s 40ms/step - loss: 90.6872 - val_loss: 80.8316\n",
      "Epoch 24/100\n",
      "2/2 [==============================] - 0s 41ms/step - loss: 90.6087 - val_loss: 80.7836\n",
      "Epoch 25/100\n",
      "2/2 [==============================] - 0s 34ms/step - loss: 90.5247 - val_loss: 80.7301\n",
      "Epoch 26/100\n",
      "2/2 [==============================] - 0s 36ms/step - loss: 90.4321 - val_loss: 80.6739\n",
      "Epoch 27/100\n",
      "2/2 [==============================] - 0s 34ms/step - loss: 90.3290 - val_loss: 80.6117\n",
      "Epoch 28/100\n",
      "2/2 [==============================] - 0s 32ms/step - loss: 90.2251 - val_loss: 80.5436\n",
      "Epoch 29/100\n",
      "2/2 [==============================] - 0s 32ms/step - loss: 90.1136 - val_loss: 80.4688\n",
      "Epoch 30/100\n",
      "2/2 [==============================] - 0s 33ms/step - loss: 89.9926 - val_loss: 80.3876\n",
      "Epoch 31/100\n",
      "2/2 [==============================] - 0s 37ms/step - loss: 89.8625 - val_loss: 80.3006\n",
      "Epoch 32/100\n",
      "2/2 [==============================] - 0s 32ms/step - loss: 89.7265 - val_loss: 80.2063\n",
      "Epoch 33/100\n",
      "2/2 [==============================] - 0s 43ms/step - loss: 89.5838 - val_loss: 80.1007\n",
      "Epoch 34/100\n",
      "2/2 [==============================] - 0s 35ms/step - loss: 89.4214 - val_loss: 79.9910\n",
      "Epoch 35/100\n",
      "2/2 [==============================] - 0s 34ms/step - loss: 89.2512 - val_loss: 79.8737\n",
      "Epoch 36/100\n",
      "2/2 [==============================] - 0s 34ms/step - loss: 89.0715 - val_loss: 79.7472\n",
      "Epoch 37/100\n",
      "2/2 [==============================] - 0s 35ms/step - loss: 88.8883 - val_loss: 79.6092\n",
      "Epoch 38/100\n",
      "2/2 [==============================] - 0s 35ms/step - loss: 88.6808 - val_loss: 79.4615\n",
      "Epoch 39/100\n",
      "2/2 [==============================] - 0s 36ms/step - loss: 88.4630 - val_loss: 79.3063\n",
      "Epoch 40/100\n",
      "2/2 [==============================] - 0s 36ms/step - loss: 88.2413 - val_loss: 79.1380\n",
      "Epoch 41/100\n",
      "2/2 [==============================] - 0s 35ms/step - loss: 88.0124 - val_loss: 78.9602\n",
      "Epoch 42/100\n",
      "2/2 [==============================] - 0s 35ms/step - loss: 87.7666 - val_loss: 78.7740\n",
      "Epoch 43/100\n",
      "2/2 [==============================] - 0s 34ms/step - loss: 87.5175 - val_loss: 78.5751\n",
      "Epoch 44/100\n",
      "2/2 [==============================] - 0s 35ms/step - loss: 87.2273 - val_loss: 78.3722\n",
      "Epoch 45/100\n",
      "2/2 [==============================] - 0s 34ms/step - loss: 86.9628 - val_loss: 78.1570\n",
      "Epoch 46/100\n",
      "2/2 [==============================] - 0s 35ms/step - loss: 86.6553 - val_loss: 77.9290\n",
      "Epoch 47/100\n",
      "2/2 [==============================] - 0s 36ms/step - loss: 86.3441 - val_loss: 77.6875\n",
      "Epoch 48/100\n",
      "2/2 [==============================] - 0s 32ms/step - loss: 86.0226 - val_loss: 77.4347\n",
      "Epoch 49/100\n",
      "2/2 [==============================] - 0s 34ms/step - loss: 85.6883 - val_loss: 77.1717\n",
      "Epoch 50/100\n",
      "2/2 [==============================] - 0s 31ms/step - loss: 85.3214 - val_loss: 76.8931\n",
      "Epoch 51/100\n",
      "2/2 [==============================] - 0s 34ms/step - loss: 84.9338 - val_loss: 76.5992\n",
      "Epoch 52/100\n",
      "2/2 [==============================] - 0s 32ms/step - loss: 84.5501 - val_loss: 76.2936\n",
      "Epoch 53/100\n",
      "2/2 [==============================] - 0s 35ms/step - loss: 84.1444 - val_loss: 75.9773\n",
      "Epoch 54/100\n",
      "2/2 [==============================] - 0s 34ms/step - loss: 83.7068 - val_loss: 75.6627\n",
      "Epoch 55/100\n",
      "2/2 [==============================] - 0s 31ms/step - loss: 83.2502 - val_loss: 75.3299\n",
      "Epoch 56/100\n",
      "2/2 [==============================] - 0s 33ms/step - loss: 82.8015 - val_loss: 74.9763\n",
      "Epoch 57/100\n",
      "2/2 [==============================] - 0s 31ms/step - loss: 82.3421 - val_loss: 74.5998\n",
      "Epoch 58/100\n",
      "2/2 [==============================] - 0s 31ms/step - loss: 81.8698 - val_loss: 74.2237\n",
      "Epoch 59/100\n",
      "2/2 [==============================] - 0s 32ms/step - loss: 81.3977 - val_loss: 73.8154\n",
      "Epoch 60/100\n",
      "2/2 [==============================] - 0s 33ms/step - loss: 80.8869 - val_loss: 73.4043\n",
      "Epoch 61/100\n",
      "2/2 [==============================] - 0s 31ms/step - loss: 80.3732 - val_loss: 72.9733\n",
      "Epoch 62/100\n",
      "2/2 [==============================] - 0s 31ms/step - loss: 79.8414 - val_loss: 72.5277\n",
      "Epoch 63/100\n",
      "2/2 [==============================] - 0s 32ms/step - loss: 79.2705 - val_loss: 72.0572\n",
      "Epoch 64/100\n",
      "2/2 [==============================] - 0s 31ms/step - loss: 78.6722 - val_loss: 71.5865\n",
      "Epoch 65/100\n",
      "2/2 [==============================] - 0s 31ms/step - loss: 78.0830 - val_loss: 71.0876\n",
      "Epoch 66/100\n",
      "2/2 [==============================] - 0s 31ms/step - loss: 77.4487 - val_loss: 70.5838\n",
      "Epoch 67/100\n",
      "2/2 [==============================] - 0s 32ms/step - loss: 76.8129 - val_loss: 70.0530\n",
      "Epoch 68/100\n",
      "2/2 [==============================] - 0s 30ms/step - loss: 76.1761 - val_loss: 69.5101\n",
      "Epoch 69/100\n",
      "2/2 [==============================] - 0s 31ms/step - loss: 75.4950 - val_loss: 68.9368\n",
      "Epoch 70/100\n",
      "2/2 [==============================] - 0s 31ms/step - loss: 74.7867 - val_loss: 68.3433\n",
      "Epoch 71/100\n",
      "2/2 [==============================] - 0s 31ms/step - loss: 74.0624 - val_loss: 67.7475\n",
      "Epoch 72/100\n",
      "2/2 [==============================] - 0s 34ms/step - loss: 73.3171 - val_loss: 67.1040\n",
      "Epoch 73/100\n",
      "2/2 [==============================] - 0s 32ms/step - loss: 72.5239 - val_loss: 66.4811\n",
      "Epoch 74/100\n",
      "2/2 [==============================] - 0s 35ms/step - loss: 71.7365 - val_loss: 65.8274\n",
      "Epoch 75/100\n",
      "2/2 [==============================] - 0s 30ms/step - loss: 70.8668 - val_loss: 65.1354\n",
      "Epoch 76/100\n",
      "2/2 [==============================] - 0s 31ms/step - loss: 70.0518 - val_loss: 64.4124\n",
      "Epoch 77/100\n",
      "2/2 [==============================] - 0s 32ms/step - loss: 69.1849 - val_loss: 63.6598\n",
      "Epoch 78/100\n",
      "2/2 [==============================] - 0s 31ms/step - loss: 68.2831 - val_loss: 62.8974\n",
      "Epoch 79/100\n",
      "2/2 [==============================] - 0s 30ms/step - loss: 67.3052 - val_loss: 62.1132\n",
      "Epoch 80/100\n",
      "2/2 [==============================] - 0s 31ms/step - loss: 66.3204 - val_loss: 61.3085\n",
      "Epoch 81/100\n",
      "2/2 [==============================] - 0s 32ms/step - loss: 65.3555 - val_loss: 60.4733\n",
      "Epoch 82/100\n",
      "2/2 [==============================] - 0s 31ms/step - loss: 64.3029 - val_loss: 59.7212\n",
      "Epoch 83/100\n",
      "2/2 [==============================] - 0s 32ms/step - loss: 63.2674 - val_loss: 58.9193\n",
      "Epoch 84/100\n",
      "2/2 [==============================] - 0s 31ms/step - loss: 62.1549 - val_loss: 58.1081\n",
      "Epoch 85/100\n",
      "2/2 [==============================] - 0s 32ms/step - loss: 61.0484 - val_loss: 57.2661\n",
      "Epoch 86/100\n",
      "2/2 [==============================] - 0s 33ms/step - loss: 59.9390 - val_loss: 56.4050\n",
      "Epoch 87/100\n",
      "2/2 [==============================] - 0s 31ms/step - loss: 58.7828 - val_loss: 55.4588\n",
      "Epoch 88/100\n",
      "2/2 [==============================] - 0s 33ms/step - loss: 57.6010 - val_loss: 54.5083\n",
      "Epoch 89/100\n",
      "2/2 [==============================] - 0s 31ms/step - loss: 56.3533 - val_loss: 53.4773\n",
      "Epoch 90/100\n",
      "2/2 [==============================] - 0s 31ms/step - loss: 55.0794 - val_loss: 52.4034\n",
      "Epoch 91/100\n",
      "2/2 [==============================] - 0s 32ms/step - loss: 53.8336 - val_loss: 51.2957\n",
      "Epoch 92/100\n",
      "2/2 [==============================] - 0s 31ms/step - loss: 52.5403 - val_loss: 50.2722\n",
      "Epoch 93/100\n",
      "2/2 [==============================] - 0s 33ms/step - loss: 51.2255 - val_loss: 49.2831\n",
      "Epoch 94/100\n",
      "2/2 [==============================] - 0s 31ms/step - loss: 49.8276 - val_loss: 48.2637\n",
      "Epoch 95/100\n",
      "2/2 [==============================] - 0s 31ms/step - loss: 48.4401 - val_loss: 47.2256\n",
      "Epoch 96/100\n",
      "2/2 [==============================] - 0s 32ms/step - loss: 46.9717 - val_loss: 46.1378\n",
      "Epoch 97/100\n",
      "2/2 [==============================] - 0s 30ms/step - loss: 45.5371 - val_loss: 44.9954\n",
      "Epoch 98/100\n",
      "2/2 [==============================] - 0s 31ms/step - loss: 44.0407 - val_loss: 43.8359\n",
      "Epoch 99/100\n",
      "2/2 [==============================] - 0s 29ms/step - loss: 42.6058 - val_loss: 42.9187\n",
      "Epoch 100/100\n",
      "2/2 [==============================] - 0s 32ms/step - loss: 41.1819 - val_loss: 41.9793\n"
     ]
    }
   ],
   "source": [
    "hist = model.fit(xtrain,ytrain,validation_split = 0.2,epochs = 100)"
   ]
  },
  {
   "cell_type": "code",
   "execution_count": 70,
   "id": "a509cc12",
   "metadata": {},
   "outputs": [
    {
     "data": {
      "image/png": "[encoded data removed]",
      "text/plain": [
       "<Figure size 1200x800 with 1 Axes>"
      ]
     },
     "metadata": {},
     "output_type": "display_data"
    }
   ],
   "source": [
    "import matplotlib.pyplot as plt\n",
    "plt.figure(figsize=(12,8))\n",
    "plt.plot(hist.history[\"loss\"],c=\"red\")\n",
    "plt.plot(hist.history[\"val_loss\"],c=\"blue\")\n",
    "plt.xlabel(\"Epochs\")\n",
    "plt.ylabel(\"loss function or mae\")\n",
    "plt.title(\"learning curve\")\n",
    "plt.show()\n"
   ]
  },
  {
   "cell_type": "code",
   "execution_count": 71,
   "id": "aeb51b3f",
   "metadata": {},
   "outputs": [
    {
     "name": "stdout",
     "output_type": "stream",
     "text": [
      "3/3 [==============================] - 0s 2ms/step\n",
      "1/1 [==============================] - 0s 22ms/step\n"
     ]
    }
   ],
   "source": [
    "tr_pred = model.predict(xtrain)\n",
    "ts_pred = model.predict(xtest)"
   ]
  },
  {
   "cell_type": "code",
   "execution_count": 72,
   "id": "21434100",
   "metadata": {},
   "outputs": [
    {
     "name": "stdout",
     "output_type": "stream",
     "text": [
      "3/3 [==============================] - 0s 3ms/step - loss: 40.4824\n"
     ]
    },
    {
     "data": {
      "text/plain": [
       "40.4824333190918"
      ]
     },
     "execution_count": 72,
     "metadata": {},
     "output_type": "execute_result"
    }
   ],
   "source": [
    "model.evaluate(xtrain,ytrain)"
   ]
  },
  {
   "cell_type": "code",
   "execution_count": 73,
   "id": "d39d8c7d",
   "metadata": {},
   "outputs": [
    {
     "name": "stdout",
     "output_type": "stream",
     "text": [
      "1/1 [==============================] - 0s 27ms/step - loss: 50.0140\n"
     ]
    },
    {
     "data": {
      "text/plain": [
       "50.014041900634766"
      ]
     },
     "execution_count": 73,
     "metadata": {},
     "output_type": "execute_result"
    }
   ],
   "source": [
    "model.evaluate(xtest,ytest)"
   ]
  },
  {
   "cell_type": "code",
   "execution_count": 74,
   "id": "601a77f2",
   "metadata": {},
   "outputs": [
    {
     "name": "stdout",
     "output_type": "stream",
     "text": [
      "training_mae: 40.48\n",
      "training_mse: 2952.69\n"
     ]
    }
   ],
   "source": [
    "from sklearn.metrics import mean_absolute_error,mean_squared_error\n",
    "tr_mae =mean_absolute_error(ytrain,tr_pred)\n",
    "tr_mse =mean_squared_error(ytrain,tr_pred)\n",
    "print(\"training_mae:\",round(tr_mae,2))\n",
    "print(\"training_mse:\" ,round(tr_mse,2))"
   ]
  },
  {
   "cell_type": "code",
   "execution_count": 75,
   "id": "d2599eaa",
   "metadata": {},
   "outputs": [
    {
     "name": "stdout",
     "output_type": "stream",
     "text": [
      "testing_mae: 50.01\n",
      "testing_mse: 4716.16\n"
     ]
    }
   ],
   "source": [
    "#Testing \n",
    "ts_mae =mean_absolute_error(ytest,ts_pred)\n",
    "ts_mse =mean_squared_error(ytest,ts_pred)\n",
    "print(\"testing_mae:\",round(ts_mae,2))\n",
    "print(\"testing_mse:\" ,round(ts_mse,2))"
   ]
  },
  {
   "cell_type": "code",
   "execution_count": 76,
   "id": "12a8b4ad",
   "metadata": {},
   "outputs": [],
   "source": [
    "from sklearn.datasets import make_classification\n",
    "X,Y = make_classification(n_samples=1000, #Total number of rows\n",
    "                    n_features = 10, # Number of columns\n",
    "                    n_classes = 2, # Number of Target Classes\n",
    "                    n_informative = 5 , # Number of Informative classes\n",
    "                    random_state=42) # Random State )"
   ]
  },
  {
   "cell_type": "code",
   "execution_count": 77,
   "id": "bf5646ad",
   "metadata": {},
   "outputs": [
    {
     "data": {
      "text/plain": [
       "array([[ 1.12510039,  1.17812384,  0.49351604, ...,  1.35732466,\n",
       "         0.9660408 , -1.98113862],\n",
       "       [-0.56464086,  3.6386291 , -1.52241469, ..., -0.89025442,\n",
       "         1.43882638, -3.82874758],\n",
       "       [ 0.51631285,  2.16542633, -0.62848571, ..., -1.95817543,\n",
       "        -0.34880315, -1.8041241 ],\n",
       "       ...,\n",
       "       [ 1.65015307, -0.69216458, -2.04920577, ..., -1.30257748,\n",
       "        -1.28550452,  3.32856934],\n",
       "       [-1.18660302, -1.41459786, -0.12151968, ..., -1.42146469,\n",
       "        -0.02833985,  3.41393228],\n",
       "       [ 0.78867591, -0.22254747,  0.32856985, ..., -1.29103957,\n",
       "        -2.33817245,  2.03602059]])"
      ]
     },
     "execution_count": 77,
     "metadata": {},
     "output_type": "execute_result"
    }
   ],
   "source": [
    "X"
   ]
  },
  {
   "cell_type": "code",
   "execution_count": 78,
   "id": "3287d5ca",
   "metadata": {},
   "outputs": [
    {
     "data": {
      "text/plain": [
       "array([1, 0, 0, 1, 0, 1, 0, 1, 0, 0, 0, 0, 0, 1, 0, 0, 1, 0, 0, 0, 0, 1,\n",
       "       0, 0, 0, 0, 0, 0, 1, 1, 0, 0, 1, 1, 0, 1, 0, 0, 1, 0, 0, 0, 0, 1,\n",
       "       1, 0, 1, 0, 1, 1, 0, 1, 0, 1, 0, 1, 0, 1, 0, 1, 0, 0, 0, 1, 0, 1,\n",
       "       0, 1, 0, 1, 0, 1, 0, 1, 1, 1, 1, 1, 1, 1, 1, 1, 0, 0, 1, 1, 1, 1,\n",
       "       1, 0, 1, 1, 1, 0, 1, 1, 1, 1, 0, 0, 1, 1, 1, 0, 1, 1, 0, 1, 0, 0,\n",
       "       1, 1, 1, 0, 1, 0, 0, 0, 0, 0, 0, 0, 1, 1, 0, 1, 1, 1, 1, 1, 1, 0,\n",
       "       1, 1, 0, 0, 1, 1, 0, 0, 0, 0, 1, 1, 1, 0, 1, 1, 0, 1, 1, 1, 0, 0,\n",
       "       1, 1, 1, 0, 0, 0, 0, 1, 1, 1, 0, 1, 1, 1, 0, 0, 0, 0, 1, 0, 0, 1,\n",
       "       0, 0, 0, 1, 0, 1, 1, 1, 0, 1, 1, 1, 0, 1, 1, 1, 0, 0, 0, 1, 0, 0,\n",
       "       0, 0, 1, 0, 1, 1, 1, 0, 0, 1, 1, 0, 0, 0, 1, 0, 0, 1, 1, 1, 0, 1,\n",
       "       1, 0, 1, 1, 1, 1, 1, 0, 1, 1, 0, 0, 1, 0, 0, 1, 0, 0, 1, 0, 1, 1,\n",
       "       0, 0, 1, 1, 1, 0, 0, 0, 1, 0, 1, 1, 0, 1, 1, 0, 1, 0, 1, 1, 0, 1,\n",
       "       0, 1, 1, 1, 1, 0, 1, 1, 1, 1, 1, 1, 0, 0, 1, 1, 1, 1, 1, 1, 1, 0,\n",
       "       0, 1, 0, 0, 1, 0, 0, 1, 1, 0, 0, 0, 1, 0, 1, 0, 0, 0, 0, 1, 0, 1,\n",
       "       1, 0, 0, 0, 0, 0, 1, 0, 1, 0, 0, 0, 1, 0, 1, 1, 0, 0, 0, 0, 0, 0,\n",
       "       1, 1, 0, 1, 1, 1, 1, 0, 0, 1, 0, 1, 0, 0, 1, 0, 0, 0, 1, 1, 1, 1,\n",
       "       0, 1, 0, 1, 1, 0, 1, 0, 1, 1, 1, 1, 0, 1, 1, 0, 1, 0, 0, 0, 0, 0,\n",
       "       1, 1, 0, 0, 1, 0, 0, 1, 0, 1, 0, 0, 0, 0, 1, 1, 0, 0, 1, 0, 0, 0,\n",
       "       1, 1, 0, 0, 0, 0, 1, 1, 1, 1, 1, 0, 0, 0, 0, 0, 0, 1, 0, 0, 0, 1,\n",
       "       0, 0, 1, 0, 0, 1, 1, 0, 1, 0, 1, 0, 1, 1, 0, 1, 0, 1, 1, 0, 1, 0,\n",
       "       0, 0, 1, 0, 0, 0, 0, 1, 1, 1, 1, 1, 1, 1, 0, 0, 1, 1, 0, 1, 1, 1,\n",
       "       1, 0, 1, 0, 1, 0, 1, 0, 0, 0, 1, 1, 1, 1, 0, 0, 0, 1, 1, 1, 1, 0,\n",
       "       1, 0, 0, 0, 1, 1, 0, 1, 0, 1, 0, 1, 1, 0, 0, 1, 1, 1, 1, 0, 1, 0,\n",
       "       1, 1, 1, 1, 0, 0, 1, 1, 1, 1, 1, 1, 0, 1, 0, 0, 1, 0, 0, 0, 0, 0,\n",
       "       1, 1, 1, 1, 0, 1, 1, 0, 0, 1, 1, 1, 1, 1, 0, 0, 1, 1, 1, 1, 1, 0,\n",
       "       1, 1, 1, 0, 1, 1, 1, 0, 0, 0, 1, 0, 1, 0, 0, 0, 0, 1, 1, 0, 0, 0,\n",
       "       0, 1, 1, 0, 0, 0, 0, 1, 1, 0, 1, 1, 0, 1, 1, 0, 1, 0, 0, 1, 1, 0,\n",
       "       1, 0, 1, 0, 0, 0, 0, 1, 0, 0, 1, 1, 1, 1, 0, 1, 0, 0, 1, 1, 1, 1,\n",
       "       1, 1, 1, 0, 1, 0, 1, 1, 0, 1, 0, 1, 0, 0, 0, 0, 1, 1, 1, 0, 1, 1,\n",
       "       1, 1, 1, 1, 1, 1, 0, 1, 0, 0, 0, 0, 1, 0, 1, 0, 0, 0, 1, 1, 0, 0,\n",
       "       0, 1, 1, 0, 1, 1, 0, 1, 1, 1, 0, 1, 1, 0, 1, 0, 0, 0, 0, 1, 1, 0,\n",
       "       0, 1, 1, 0, 1, 1, 0, 1, 0, 0, 0, 1, 0, 0, 0, 0, 0, 1, 1, 1, 1, 0,\n",
       "       0, 0, 1, 0, 0, 1, 1, 1, 0, 1, 0, 0, 0, 0, 0, 1, 1, 0, 0, 1, 0, 1,\n",
       "       0, 1, 0, 0, 1, 0, 0, 1, 1, 1, 1, 1, 0, 1, 0, 0, 0, 0, 1, 1, 1, 0,\n",
       "       0, 1, 1, 1, 1, 1, 0, 0, 0, 0, 1, 1, 0, 0, 0, 0, 1, 1, 1, 0, 0, 0,\n",
       "       1, 1, 0, 0, 0, 1, 1, 1, 1, 1, 1, 1, 1, 1, 0, 1, 1, 0, 0, 1, 0, 1,\n",
       "       1, 1, 0, 1, 0, 0, 0, 0, 0, 0, 1, 0, 1, 0, 0, 0, 1, 0, 0, 1, 1, 0,\n",
       "       1, 0, 0, 1, 1, 0, 1, 1, 0, 0, 1, 0, 1, 1, 1, 0, 1, 0, 0, 0, 0, 0,\n",
       "       1, 1, 1, 1, 1, 0, 0, 0, 0, 1, 1, 0, 0, 0, 0, 1, 0, 0, 0, 1, 1, 1,\n",
       "       0, 1, 0, 0, 0, 1, 1, 0, 0, 0, 1, 1, 1, 0, 0, 0, 0, 0, 1, 1, 0, 0,\n",
       "       1, 0, 0, 1, 1, 0, 1, 0, 1, 1, 1, 1, 0, 0, 1, 1, 1, 0, 0, 1, 0, 1,\n",
       "       0, 0, 0, 0, 0, 0, 1, 1, 1, 0, 1, 0, 1, 0, 1, 1, 1, 0, 0, 0, 1, 1,\n",
       "       1, 1, 0, 1, 1, 0, 1, 0, 1, 0, 1, 0, 1, 0, 0, 0, 1, 1, 0, 1, 0, 0,\n",
       "       1, 1, 0, 0, 1, 0, 1, 1, 0, 0, 0, 1, 0, 1, 0, 1, 0, 1, 0, 0, 1, 0,\n",
       "       0, 1, 0, 0, 0, 0, 0, 0, 0, 0, 1, 1, 1, 1, 0, 1, 0, 0, 0, 0, 1, 0,\n",
       "       1, 0, 1, 1, 0, 0, 1, 1, 1, 0])"
      ]
     },
     "execution_count": 78,
     "metadata": {},
     "output_type": "execute_result"
    }
   ],
   "source": [
    "Y"
   ]
  },
  {
   "cell_type": "code",
   "execution_count": 79,
   "id": "d8cb5220",
   "metadata": {},
   "outputs": [
    {
     "data": {
      "text/html": [
       "<div>\n",
       "<style scoped>\n",
       "    .dataframe tbody tr th:only-of-type {\n",
       "        vertical-align: middle;\n",
       "    }\n",
       "\n",
       "    .dataframe tbody tr th {\n",
       "        vertical-align: top;\n",
       "    }\n",
       "\n",
       "    .dataframe thead th {\n",
       "        text-align: right;\n",
       "    }\n",
       "</style>\n",
       "<table border=\"1\" class=\"dataframe\">\n",
       "  <thead>\n",
       "    <tr style=\"text-align: right;\">\n",
       "      <th></th>\n",
       "      <th>x1</th>\n",
       "      <th>x2</th>\n",
       "      <th>x3</th>\n",
       "      <th>x4</th>\n",
       "      <th>x5</th>\n",
       "      <th>x6</th>\n",
       "      <th>x7</th>\n",
       "      <th>x8</th>\n",
       "      <th>x9</th>\n",
       "      <th>x10</th>\n",
       "    </tr>\n",
       "  </thead>\n",
       "  <tbody>\n",
       "    <tr>\n",
       "      <th>0</th>\n",
       "      <td>1.125100</td>\n",
       "      <td>1.178124</td>\n",
       "      <td>0.493516</td>\n",
       "      <td>0.790880</td>\n",
       "      <td>-0.614278</td>\n",
       "      <td>1.347020</td>\n",
       "      <td>1.419515</td>\n",
       "      <td>1.357325</td>\n",
       "      <td>0.966041</td>\n",
       "      <td>-1.981139</td>\n",
       "    </tr>\n",
       "    <tr>\n",
       "      <th>1</th>\n",
       "      <td>-0.564641</td>\n",
       "      <td>3.638629</td>\n",
       "      <td>-1.522415</td>\n",
       "      <td>-1.541705</td>\n",
       "      <td>1.616697</td>\n",
       "      <td>4.781310</td>\n",
       "      <td>3.190292</td>\n",
       "      <td>-0.890254</td>\n",
       "      <td>1.438826</td>\n",
       "      <td>-3.828748</td>\n",
       "    </tr>\n",
       "    <tr>\n",
       "      <th>2</th>\n",
       "      <td>0.516313</td>\n",
       "      <td>2.165426</td>\n",
       "      <td>-0.628486</td>\n",
       "      <td>-0.386923</td>\n",
       "      <td>0.492518</td>\n",
       "      <td>1.442381</td>\n",
       "      <td>1.332905</td>\n",
       "      <td>-1.958175</td>\n",
       "      <td>-0.348803</td>\n",
       "      <td>-1.804124</td>\n",
       "    </tr>\n",
       "    <tr>\n",
       "      <th>3</th>\n",
       "      <td>0.537282</td>\n",
       "      <td>0.966618</td>\n",
       "      <td>-0.115420</td>\n",
       "      <td>0.670755</td>\n",
       "      <td>-0.958516</td>\n",
       "      <td>0.871440</td>\n",
       "      <td>0.508186</td>\n",
       "      <td>-1.034471</td>\n",
       "      <td>-1.654176</td>\n",
       "      <td>-1.910503</td>\n",
       "    </tr>\n",
       "    <tr>\n",
       "      <th>4</th>\n",
       "      <td>0.278385</td>\n",
       "      <td>1.065828</td>\n",
       "      <td>-1.724917</td>\n",
       "      <td>-2.235667</td>\n",
       "      <td>0.715107</td>\n",
       "      <td>0.731249</td>\n",
       "      <td>-0.674119</td>\n",
       "      <td>0.598330</td>\n",
       "      <td>-0.524283</td>\n",
       "      <td>1.047610</td>\n",
       "    </tr>\n",
       "  </tbody>\n",
       "</table>\n",
       "</div>"
      ],
      "text/plain": [
       "         x1        x2        x3        x4        x5        x6        x7  \\\n",
       "0  1.125100  1.178124  0.493516  0.790880 -0.614278  1.347020  1.419515   \n",
       "1 -0.564641  3.638629 -1.522415 -1.541705  1.616697  4.781310  3.190292   \n",
       "2  0.516313  2.165426 -0.628486 -0.386923  0.492518  1.442381  1.332905   \n",
       "3  0.537282  0.966618 -0.115420  0.670755 -0.958516  0.871440  0.508186   \n",
       "4  0.278385  1.065828 -1.724917 -2.235667  0.715107  0.731249 -0.674119   \n",
       "\n",
       "         x8        x9       x10  \n",
       "0  1.357325  0.966041 -1.981139  \n",
       "1 -0.890254  1.438826 -3.828748  \n",
       "2 -1.958175 -0.348803 -1.804124  \n",
       "3 -1.034471 -1.654176 -1.910503  \n",
       "4  0.598330 -0.524283  1.047610  "
      ]
     },
     "execution_count": 79,
     "metadata": {},
     "output_type": "execute_result"
    }
   ],
   "source": [
    "import pandas as pd\n",
    "from warnings import filterwarnings\n",
    "filterwarnings('ignore')\n",
    "features = ['x1','x2','x3','x4','x5','x6','x7','x8','x9','x10']\n",
    "X = pd.DataFrame(X,columns=features)\n",
    "X.head()"
   ]
  },
  {
   "cell_type": "code",
   "execution_count": 80,
   "id": "4150b3e3",
   "metadata": {},
   "outputs": [
    {
     "data": {
      "text/html": [
       "<div>\n",
       "<style scoped>\n",
       "    .dataframe tbody tr th:only-of-type {\n",
       "        vertical-align: middle;\n",
       "    }\n",
       "\n",
       "    .dataframe tbody tr th {\n",
       "        vertical-align: top;\n",
       "    }\n",
       "\n",
       "    .dataframe thead th {\n",
       "        text-align: right;\n",
       "    }\n",
       "</style>\n",
       "<table border=\"1\" class=\"dataframe\">\n",
       "  <thead>\n",
       "    <tr style=\"text-align: right;\">\n",
       "      <th></th>\n",
       "      <th>Target</th>\n",
       "    </tr>\n",
       "  </thead>\n",
       "  <tbody>\n",
       "    <tr>\n",
       "      <th>0</th>\n",
       "      <td>1</td>\n",
       "    </tr>\n",
       "    <tr>\n",
       "      <th>1</th>\n",
       "      <td>0</td>\n",
       "    </tr>\n",
       "    <tr>\n",
       "      <th>2</th>\n",
       "      <td>0</td>\n",
       "    </tr>\n",
       "    <tr>\n",
       "      <th>3</th>\n",
       "      <td>1</td>\n",
       "    </tr>\n",
       "    <tr>\n",
       "      <th>4</th>\n",
       "      <td>0</td>\n",
       "    </tr>\n",
       "  </tbody>\n",
       "</table>\n",
       "</div>"
      ],
      "text/plain": [
       "   Target\n",
       "0       1\n",
       "1       0\n",
       "2       0\n",
       "3       1\n",
       "4       0"
      ]
     },
     "execution_count": 80,
     "metadata": {},
     "output_type": "execute_result"
    }
   ],
   "source": [
    "Y = pd.DataFrame(Y,columns=[\"Target\"])\n",
    "Y.head()"
   ]
  },
  {
   "cell_type": "code",
   "execution_count": 81,
   "id": "22e187c6",
   "metadata": {},
   "outputs": [
    {
     "data": {
      "text/plain": [
       "x1     0\n",
       "x2     0\n",
       "x3     0\n",
       "x4     0\n",
       "x5     0\n",
       "x6     0\n",
       "x7     0\n",
       "x8     0\n",
       "x9     0\n",
       "x10    0\n",
       "dtype: int64"
      ]
     },
     "execution_count": 81,
     "metadata": {},
     "output_type": "execute_result"
    }
   ],
   "source": [
    "X.isna().sum()"
   ]
  },
  {
   "cell_type": "code",
   "execution_count": 82,
   "id": "2842f615",
   "metadata": {},
   "outputs": [
    {
     "data": {
      "text/plain": [
       "Target    0\n",
       "dtype: int64"
      ]
     },
     "execution_count": 82,
     "metadata": {},
     "output_type": "execute_result"
    }
   ],
   "source": [
    "Y.isna().sum()"
   ]
  },
  {
   "cell_type": "code",
   "execution_count": 83,
   "id": "562fbc49",
   "metadata": {},
   "outputs": [],
   "source": [
    "from sklearn.model_selection import train_test_split\n",
    "xtrain, xtest, ytrain, ytest = train_test_split(X, Y, test_size=0.3, random_state=42)"
   ]
  },
  {
   "cell_type": "code",
   "execution_count": 84,
   "id": "4741227f",
   "metadata": {},
   "outputs": [],
   "source": [
    "from sklearn.preprocessing import StandardScaler\n",
    "ss = StandardScaler()\n",
    "xtrain = pd.DataFrame(ss.fit_transform(xtrain),columns=xtrain.columns)\n",
    "xtest = pd.DataFrame(ss.transform(xtest),columns=xtest.columns)"
   ]
  },
  {
   "cell_type": "code",
   "execution_count": 85,
   "id": "f4b1b8df",
   "metadata": {},
   "outputs": [],
   "source": [
    "from keras.models import Sequential\n",
    "from keras.layers import Dense,Dropout"
   ]
  },
  {
   "cell_type": "code",
   "execution_count": 86,
   "id": "a56ebd74",
   "metadata": {},
   "outputs": [],
   "source": [
    "model = Sequential()\n",
    "model.add(Dense(128,input_dim=xtrain.shape[1],activation='relu'))\n",
    "model.add(Dropout(0.5))   \n",
    "model.add(Dense(64, activation='relu'))\n",
    "model.add(Dropout(0.5))\n",
    "model.add(Dense(32, activation='relu'))\n",
    "model.add(Dropout(0.5))\n",
    "model.add(Dense(1,activation='sigmoid'))"
   ]
  },
  {
   "cell_type": "code",
   "execution_count": 87,
   "id": "33d2d495",
   "metadata": {},
   "outputs": [
    {
     "name": "stdout",
     "output_type": "stream",
     "text": [
      "Model: \"sequential_2\"\n",
      "_________________________________________________________________\n",
      " Layer (type)                Output Shape              Param #   \n",
      "=================================================================\n",
      " dense_7 (Dense)             (None, 128)               1408      \n",
      "                                                                 \n",
      " dropout_3 (Dropout)         (None, 128)               0         \n",
      "                                                                 \n",
      " dense_8 (Dense)             (None, 64)                8256      \n",
      "                                                                 \n",
      " dropout_4 (Dropout)         (None, 64)                0         \n",
      "                                                                 \n",
      " dense_9 (Dense)             (None, 32)                2080      \n",
      "                                                                 \n",
      " dropout_5 (Dropout)         (None, 32)                0         \n",
      "                                                                 \n",
      " dense_10 (Dense)            (None, 1)                 33        \n",
      "                                                                 \n",
      "=================================================================\n",
      "Total params: 11777 (46.00 KB)\n",
      "Trainable params: 11777 (46.00 KB)\n",
      "Non-trainable params: 0 (0.00 Byte)\n",
      "_________________________________________________________________\n"
     ]
    }
   ],
   "source": [
    "model.summary()"
   ]
  },
  {
   "cell_type": "code",
   "execution_count": 88,
   "id": "758996e4",
   "metadata": {},
   "outputs": [],
   "source": [
    "model.compile(loss='binary_crossentropy',optimizer='adam',metrics=['accuracy'])"
   ]
  },
  {
   "cell_type": "code",
   "execution_count": 89,
   "id": "fecd7f94",
   "metadata": {
    "scrolled": false
   },
   "outputs": [
    {
     "name": "stdout",
     "output_type": "stream",
     "text": [
      "Epoch 1/100\n",
      "18/18 [==============================] - 1s 15ms/step - loss: 0.7297 - accuracy: 0.5286 - val_loss: 0.6524 - val_accuracy: 0.6643\n",
      "Epoch 2/100\n",
      "18/18 [==============================] - 0s 5ms/step - loss: 0.6875 - accuracy: 0.5500 - val_loss: 0.6314 - val_accuracy: 0.7000\n",
      "Epoch 3/100\n",
      "18/18 [==============================] - 0s 5ms/step - loss: 0.6355 - accuracy: 0.6304 - val_loss: 0.5989 - val_accuracy: 0.7857\n",
      "Epoch 4/100\n",
      "18/18 [==============================] - 0s 5ms/step - loss: 0.6081 - accuracy: 0.6661 - val_loss: 0.5546 - val_accuracy: 0.8286\n",
      "Epoch 5/100\n",
      "18/18 [==============================] - 0s 5ms/step - loss: 0.5555 - accuracy: 0.7125 - val_loss: 0.5023 - val_accuracy: 0.8286\n",
      "Epoch 6/100\n",
      "18/18 [==============================] - 0s 5ms/step - loss: 0.5193 - accuracy: 0.7500 - val_loss: 0.4484 - val_accuracy: 0.8429\n",
      "Epoch 7/100\n",
      "18/18 [==============================] - 0s 5ms/step - loss: 0.4763 - accuracy: 0.7946 - val_loss: 0.4031 - val_accuracy: 0.8286\n",
      "Epoch 8/100\n",
      "18/18 [==============================] - 0s 5ms/step - loss: 0.4907 - accuracy: 0.7911 - val_loss: 0.3789 - val_accuracy: 0.8500\n",
      "Epoch 9/100\n",
      "18/18 [==============================] - 0s 5ms/step - loss: 0.4320 - accuracy: 0.7929 - val_loss: 0.3682 - val_accuracy: 0.8500\n",
      "Epoch 10/100\n",
      "18/18 [==============================] - 0s 5ms/step - loss: 0.4037 - accuracy: 0.8232 - val_loss: 0.3530 - val_accuracy: 0.8429\n",
      "Epoch 11/100\n",
      "18/18 [==============================] - 0s 5ms/step - loss: 0.3945 - accuracy: 0.8339 - val_loss: 0.3414 - val_accuracy: 0.8500\n",
      "Epoch 12/100\n",
      "18/18 [==============================] - 0s 5ms/step - loss: 0.3823 - accuracy: 0.8321 - val_loss: 0.3368 - val_accuracy: 0.8500\n",
      "Epoch 13/100\n",
      "18/18 [==============================] - 0s 5ms/step - loss: 0.3796 - accuracy: 0.8357 - val_loss: 0.3310 - val_accuracy: 0.8500\n",
      "Epoch 14/100\n",
      "18/18 [==============================] - 0s 5ms/step - loss: 0.3517 - accuracy: 0.8536 - val_loss: 0.3270 - val_accuracy: 0.8500\n",
      "Epoch 15/100\n",
      "18/18 [==============================] - 0s 6ms/step - loss: 0.3575 - accuracy: 0.8768 - val_loss: 0.3260 - val_accuracy: 0.8500\n",
      "Epoch 16/100\n",
      "18/18 [==============================] - 0s 5ms/step - loss: 0.3358 - accuracy: 0.8625 - val_loss: 0.3190 - val_accuracy: 0.8571\n",
      "Epoch 17/100\n",
      "18/18 [==============================] - 0s 5ms/step - loss: 0.3212 - accuracy: 0.8679 - val_loss: 0.3191 - val_accuracy: 0.8500\n",
      "Epoch 18/100\n",
      "18/18 [==============================] - 0s 6ms/step - loss: 0.3255 - accuracy: 0.8750 - val_loss: 0.3187 - val_accuracy: 0.8571\n",
      "Epoch 19/100\n",
      "18/18 [==============================] - 0s 5ms/step - loss: 0.2940 - accuracy: 0.8768 - val_loss: 0.3186 - val_accuracy: 0.8643\n",
      "Epoch 20/100\n",
      "18/18 [==============================] - 0s 5ms/step - loss: 0.3029 - accuracy: 0.8821 - val_loss: 0.3186 - val_accuracy: 0.8643\n",
      "Epoch 21/100\n",
      "18/18 [==============================] - 0s 6ms/step - loss: 0.2951 - accuracy: 0.8768 - val_loss: 0.3170 - val_accuracy: 0.8643\n",
      "Epoch 22/100\n",
      "18/18 [==============================] - 0s 4ms/step - loss: 0.2917 - accuracy: 0.8607 - val_loss: 0.3167 - val_accuracy: 0.8643\n",
      "Epoch 23/100\n",
      "18/18 [==============================] - 0s 5ms/step - loss: 0.2785 - accuracy: 0.8893 - val_loss: 0.3160 - val_accuracy: 0.8714\n",
      "Epoch 24/100\n",
      "18/18 [==============================] - 0s 5ms/step - loss: 0.3004 - accuracy: 0.8768 - val_loss: 0.3122 - val_accuracy: 0.8786\n",
      "Epoch 25/100\n",
      "18/18 [==============================] - 0s 5ms/step - loss: 0.2832 - accuracy: 0.8929 - val_loss: 0.3098 - val_accuracy: 0.9071\n",
      "Epoch 26/100\n",
      "18/18 [==============================] - 0s 5ms/step - loss: 0.3117 - accuracy: 0.8804 - val_loss: 0.3100 - val_accuracy: 0.9000\n",
      "Epoch 27/100\n",
      "18/18 [==============================] - 0s 6ms/step - loss: 0.2616 - accuracy: 0.8946 - val_loss: 0.3092 - val_accuracy: 0.9000\n",
      "Epoch 28/100\n",
      "18/18 [==============================] - 0s 6ms/step - loss: 0.2717 - accuracy: 0.9000 - val_loss: 0.3089 - val_accuracy: 0.9000\n",
      "Epoch 29/100\n",
      "18/18 [==============================] - 0s 6ms/step - loss: 0.2530 - accuracy: 0.8821 - val_loss: 0.3103 - val_accuracy: 0.8929\n",
      "Epoch 30/100\n",
      "18/18 [==============================] - 0s 5ms/step - loss: 0.2669 - accuracy: 0.9000 - val_loss: 0.3096 - val_accuracy: 0.8857\n",
      "Epoch 31/100\n",
      "18/18 [==============================] - 0s 5ms/step - loss: 0.2641 - accuracy: 0.8821 - val_loss: 0.3042 - val_accuracy: 0.9071\n",
      "Epoch 32/100\n",
      "18/18 [==============================] - 0s 5ms/step - loss: 0.2725 - accuracy: 0.8911 - val_loss: 0.2975 - val_accuracy: 0.9214\n",
      "Epoch 33/100\n",
      "18/18 [==============================] - 0s 4ms/step - loss: 0.2633 - accuracy: 0.8804 - val_loss: 0.2992 - val_accuracy: 0.9143\n",
      "Epoch 34/100\n",
      "18/18 [==============================] - 0s 5ms/step - loss: 0.2685 - accuracy: 0.8929 - val_loss: 0.2982 - val_accuracy: 0.9143\n",
      "Epoch 35/100\n",
      "18/18 [==============================] - 0s 5ms/step - loss: 0.2549 - accuracy: 0.9000 - val_loss: 0.2931 - val_accuracy: 0.9143\n",
      "Epoch 36/100\n",
      "18/18 [==============================] - 0s 4ms/step - loss: 0.2332 - accuracy: 0.9000 - val_loss: 0.2927 - val_accuracy: 0.9143\n",
      "Epoch 37/100\n",
      "18/18 [==============================] - 0s 4ms/step - loss: 0.2648 - accuracy: 0.8946 - val_loss: 0.2942 - val_accuracy: 0.9214\n",
      "Epoch 38/100\n",
      "18/18 [==============================] - 0s 4ms/step - loss: 0.2522 - accuracy: 0.8964 - val_loss: 0.2941 - val_accuracy: 0.9214\n",
      "Epoch 39/100\n",
      "18/18 [==============================] - 0s 4ms/step - loss: 0.2734 - accuracy: 0.8911 - val_loss: 0.2974 - val_accuracy: 0.9143\n",
      "Epoch 40/100\n",
      "18/18 [==============================] - 0s 5ms/step - loss: 0.2268 - accuracy: 0.9036 - val_loss: 0.2996 - val_accuracy: 0.9214\n",
      "Epoch 41/100\n",
      "18/18 [==============================] - 0s 4ms/step - loss: 0.2474 - accuracy: 0.9036 - val_loss: 0.2984 - val_accuracy: 0.9143\n",
      "Epoch 42/100\n",
      "18/18 [==============================] - 0s 5ms/step - loss: 0.2392 - accuracy: 0.9018 - val_loss: 0.2965 - val_accuracy: 0.9214\n",
      "Epoch 43/100\n",
      "18/18 [==============================] - 0s 4ms/step - loss: 0.2421 - accuracy: 0.8982 - val_loss: 0.2932 - val_accuracy: 0.9286\n",
      "Epoch 44/100\n",
      "18/18 [==============================] - 0s 4ms/step - loss: 0.2473 - accuracy: 0.9179 - val_loss: 0.2930 - val_accuracy: 0.9357\n",
      "Epoch 45/100\n",
      "18/18 [==============================] - 0s 5ms/step - loss: 0.2124 - accuracy: 0.9250 - val_loss: 0.2944 - val_accuracy: 0.9357\n",
      "Epoch 46/100\n",
      "18/18 [==============================] - 0s 4ms/step - loss: 0.2235 - accuracy: 0.9179 - val_loss: 0.3044 - val_accuracy: 0.9214\n",
      "Epoch 47/100\n",
      "18/18 [==============================] - 0s 4ms/step - loss: 0.2252 - accuracy: 0.9268 - val_loss: 0.2976 - val_accuracy: 0.9286\n",
      "Epoch 48/100\n",
      "18/18 [==============================] - 0s 5ms/step - loss: 0.2337 - accuracy: 0.9232 - val_loss: 0.2922 - val_accuracy: 0.9357\n",
      "Epoch 49/100\n",
      "18/18 [==============================] - 0s 5ms/step - loss: 0.2273 - accuracy: 0.9214 - val_loss: 0.2974 - val_accuracy: 0.9429\n",
      "Epoch 50/100\n",
      "18/18 [==============================] - 0s 4ms/step - loss: 0.2168 - accuracy: 0.9214 - val_loss: 0.2955 - val_accuracy: 0.9357\n",
      "Epoch 51/100\n",
      "18/18 [==============================] - 0s 4ms/step - loss: 0.2195 - accuracy: 0.9125 - val_loss: 0.2931 - val_accuracy: 0.9571\n",
      "Epoch 52/100\n",
      "18/18 [==============================] - 0s 6ms/step - loss: 0.2139 - accuracy: 0.9268 - val_loss: 0.2890 - val_accuracy: 0.9571\n",
      "Epoch 53/100\n",
      "18/18 [==============================] - 0s 5ms/step - loss: 0.2264 - accuracy: 0.9179 - val_loss: 0.2906 - val_accuracy: 0.9571\n",
      "Epoch 54/100\n",
      "18/18 [==============================] - 0s 5ms/step - loss: 0.1961 - accuracy: 0.9214 - val_loss: 0.2889 - val_accuracy: 0.9429\n",
      "Epoch 55/100\n",
      "18/18 [==============================] - 0s 5ms/step - loss: 0.1914 - accuracy: 0.9375 - val_loss: 0.2879 - val_accuracy: 0.9500\n",
      "Epoch 56/100\n",
      "18/18 [==============================] - 0s 4ms/step - loss: 0.2113 - accuracy: 0.9179 - val_loss: 0.2839 - val_accuracy: 0.9429\n",
      "Epoch 57/100\n",
      "18/18 [==============================] - 0s 4ms/step - loss: 0.1824 - accuracy: 0.9304 - val_loss: 0.2811 - val_accuracy: 0.9429\n",
      "Epoch 58/100\n",
      "18/18 [==============================] - 0s 4ms/step - loss: 0.1867 - accuracy: 0.9179 - val_loss: 0.2851 - val_accuracy: 0.9429\n",
      "Epoch 59/100\n",
      "18/18 [==============================] - 0s 5ms/step - loss: 0.2102 - accuracy: 0.9268 - val_loss: 0.2909 - val_accuracy: 0.9429\n",
      "Epoch 60/100\n",
      "18/18 [==============================] - 0s 4ms/step - loss: 0.2141 - accuracy: 0.9286 - val_loss: 0.2910 - val_accuracy: 0.9429\n",
      "Epoch 61/100\n",
      "18/18 [==============================] - 0s 4ms/step - loss: 0.1748 - accuracy: 0.9304 - val_loss: 0.3013 - val_accuracy: 0.9429\n",
      "Epoch 62/100\n",
      "18/18 [==============================] - 0s 4ms/step - loss: 0.1758 - accuracy: 0.9286 - val_loss: 0.3073 - val_accuracy: 0.9500\n",
      "Epoch 63/100\n",
      "18/18 [==============================] - 0s 4ms/step - loss: 0.1841 - accuracy: 0.9500 - val_loss: 0.3011 - val_accuracy: 0.9500\n",
      "Epoch 64/100\n",
      "18/18 [==============================] - 0s 4ms/step - loss: 0.1924 - accuracy: 0.9429 - val_loss: 0.3018 - val_accuracy: 0.9571\n",
      "Epoch 65/100\n",
      "18/18 [==============================] - 0s 4ms/step - loss: 0.1761 - accuracy: 0.9429 - val_loss: 0.3031 - val_accuracy: 0.9571\n",
      "Epoch 66/100\n",
      "18/18 [==============================] - 0s 4ms/step - loss: 0.1893 - accuracy: 0.9393 - val_loss: 0.2979 - val_accuracy: 0.9571\n",
      "Epoch 67/100\n",
      "18/18 [==============================] - 0s 4ms/step - loss: 0.1639 - accuracy: 0.9250 - val_loss: 0.2975 - val_accuracy: 0.9500\n",
      "Epoch 68/100\n",
      "18/18 [==============================] - 0s 4ms/step - loss: 0.1828 - accuracy: 0.9375 - val_loss: 0.2992 - val_accuracy: 0.9500\n",
      "Epoch 69/100\n",
      "18/18 [==============================] - 0s 4ms/step - loss: 0.1980 - accuracy: 0.9339 - val_loss: 0.3011 - val_accuracy: 0.9571\n",
      "Epoch 70/100\n",
      "18/18 [==============================] - 0s 4ms/step - loss: 0.1820 - accuracy: 0.9304 - val_loss: 0.3074 - val_accuracy: 0.9571\n",
      "Epoch 71/100\n",
      "18/18 [==============================] - 0s 4ms/step - loss: 0.1855 - accuracy: 0.9196 - val_loss: 0.3114 - val_accuracy: 0.9429\n",
      "Epoch 72/100\n",
      "18/18 [==============================] - 0s 4ms/step - loss: 0.1588 - accuracy: 0.9411 - val_loss: 0.3124 - val_accuracy: 0.9429\n",
      "Epoch 73/100\n",
      "18/18 [==============================] - 0s 4ms/step - loss: 0.1683 - accuracy: 0.9446 - val_loss: 0.3147 - val_accuracy: 0.9500\n",
      "Epoch 74/100\n",
      "18/18 [==============================] - 0s 4ms/step - loss: 0.1961 - accuracy: 0.9250 - val_loss: 0.3186 - val_accuracy: 0.9357\n",
      "Epoch 75/100\n",
      "18/18 [==============================] - 0s 4ms/step - loss: 0.1615 - accuracy: 0.9321 - val_loss: 0.3076 - val_accuracy: 0.9286\n",
      "Epoch 76/100\n",
      "18/18 [==============================] - 0s 4ms/step - loss: 0.1563 - accuracy: 0.9482 - val_loss: 0.3053 - val_accuracy: 0.9429\n",
      "Epoch 77/100\n",
      "18/18 [==============================] - 0s 4ms/step - loss: 0.1864 - accuracy: 0.9411 - val_loss: 0.3099 - val_accuracy: 0.9357\n",
      "Epoch 78/100\n",
      "18/18 [==============================] - 0s 4ms/step - loss: 0.1823 - accuracy: 0.9429 - val_loss: 0.3160 - val_accuracy: 0.9357\n",
      "Epoch 79/100\n",
      "18/18 [==============================] - 0s 5ms/step - loss: 0.1613 - accuracy: 0.9339 - val_loss: 0.3192 - val_accuracy: 0.9357\n",
      "Epoch 80/100\n",
      "18/18 [==============================] - 0s 4ms/step - loss: 0.1586 - accuracy: 0.9446 - val_loss: 0.3148 - val_accuracy: 0.9429\n",
      "Epoch 81/100\n",
      "18/18 [==============================] - 0s 6ms/step - loss: 0.1513 - accuracy: 0.9411 - val_loss: 0.3144 - val_accuracy: 0.9357\n",
      "Epoch 82/100\n",
      "18/18 [==============================] - 0s 5ms/step - loss: 0.1499 - accuracy: 0.9393 - val_loss: 0.3094 - val_accuracy: 0.9357\n",
      "Epoch 83/100\n",
      "18/18 [==============================] - 0s 5ms/step - loss: 0.1503 - accuracy: 0.9518 - val_loss: 0.3125 - val_accuracy: 0.9357\n",
      "Epoch 84/100\n",
      "18/18 [==============================] - 0s 5ms/step - loss: 0.1676 - accuracy: 0.9571 - val_loss: 0.3223 - val_accuracy: 0.9357\n",
      "Epoch 85/100\n",
      "18/18 [==============================] - 0s 4ms/step - loss: 0.1718 - accuracy: 0.9321 - val_loss: 0.3249 - val_accuracy: 0.9429\n",
      "Epoch 86/100\n",
      "18/18 [==============================] - 0s 4ms/step - loss: 0.1325 - accuracy: 0.9571 - val_loss: 0.3229 - val_accuracy: 0.9429\n",
      "Epoch 87/100\n",
      "18/18 [==============================] - 0s 4ms/step - loss: 0.1509 - accuracy: 0.9411 - val_loss: 0.3312 - val_accuracy: 0.9571\n",
      "Epoch 88/100\n",
      "18/18 [==============================] - 0s 4ms/step - loss: 0.1539 - accuracy: 0.9411 - val_loss: 0.3381 - val_accuracy: 0.9429\n",
      "Epoch 89/100\n",
      "18/18 [==============================] - 0s 4ms/step - loss: 0.1464 - accuracy: 0.9482 - val_loss: 0.3324 - val_accuracy: 0.9500\n",
      "Epoch 90/100\n",
      "18/18 [==============================] - 0s 4ms/step - loss: 0.1662 - accuracy: 0.9411 - val_loss: 0.3306 - val_accuracy: 0.9429\n",
      "Epoch 91/100\n",
      "18/18 [==============================] - 0s 5ms/step - loss: 0.1373 - accuracy: 0.9571 - val_loss: 0.3327 - val_accuracy: 0.9286\n",
      "Epoch 92/100\n",
      "18/18 [==============================] - 0s 4ms/step - loss: 0.1644 - accuracy: 0.9464 - val_loss: 0.3439 - val_accuracy: 0.9286\n",
      "Epoch 93/100\n",
      "18/18 [==============================] - 0s 4ms/step - loss: 0.1422 - accuracy: 0.9357 - val_loss: 0.3398 - val_accuracy: 0.9357\n",
      "Epoch 94/100\n",
      "18/18 [==============================] - 0s 4ms/step - loss: 0.1498 - accuracy: 0.9446 - val_loss: 0.3381 - val_accuracy: 0.9429\n",
      "Epoch 95/100\n",
      "18/18 [==============================] - 0s 4ms/step - loss: 0.1170 - accuracy: 0.9589 - val_loss: 0.3488 - val_accuracy: 0.9429\n",
      "Epoch 96/100\n",
      "18/18 [==============================] - 0s 4ms/step - loss: 0.1198 - accuracy: 0.9536 - val_loss: 0.3533 - val_accuracy: 0.9357\n",
      "Epoch 97/100\n",
      "18/18 [==============================] - 0s 5ms/step - loss: 0.1415 - accuracy: 0.9607 - val_loss: 0.3398 - val_accuracy: 0.9357\n",
      "Epoch 98/100\n",
      "18/18 [==============================] - 0s 4ms/step - loss: 0.1375 - accuracy: 0.9607 - val_loss: 0.3412 - val_accuracy: 0.9357\n",
      "Epoch 99/100\n",
      "18/18 [==============================] - 0s 4ms/step - loss: 0.1383 - accuracy: 0.9482 - val_loss: 0.3421 - val_accuracy: 0.9357\n",
      "Epoch 100/100\n",
      "18/18 [==============================] - 0s 4ms/step - loss: 0.1214 - accuracy: 0.9500 - val_loss: 0.3400 - val_accuracy: 0.9357\n"
     ]
    }
   ],
   "source": [
    "hist = model.fit(xtrain, ytrain, validation_split=0.2, epochs=100)"
   ]
  },
  {
   "cell_type": "code",
   "execution_count": 90,
   "id": "5f9dc6a8",
   "metadata": {},
   "outputs": [
    {
     "data": {
      "image/png": "[encoded data removed]",
      "text/plain": [
       "<Figure size 1600x800 with 1 Axes>"
      ]
     },
     "metadata": {},
     "output_type": "display_data"
    }
   ],
   "source": [
    "import matplotlib.pyplot as plt\n",
    "plt.figure(figsize=(16,8))\n",
    "plt.plot(hist.history['loss'],label='Training Loss')\n",
    "plt.plot(hist.history['val_loss'], label='Validation Loss',alpha=0.7)\n",
    "plt.xlabel('Epochs')\n",
    "plt.ylabel('Binary Cross Entropy')\n",
    "plt.title('Learning Curve')\n",
    "plt.legend()\n",
    "plt.show()"
   ]
  },
  {
   "cell_type": "code",
   "execution_count": 91,
   "id": "00820e4f",
   "metadata": {},
   "outputs": [
    {
     "name": "stdout",
     "output_type": "stream",
     "text": [
      "22/22 [==============================] - 0s 2ms/step - loss: 0.1261 - accuracy: 0.9700\n"
     ]
    },
    {
     "data": {
      "text/plain": [
       "[0.12610653042793274, 0.9700000286102295]"
      ]
     },
     "execution_count": 91,
     "metadata": {},
     "output_type": "execute_result"
    }
   ],
   "source": [
    "model.evaluate(xtrain,ytrain)"
   ]
  },
  {
   "cell_type": "code",
   "execution_count": 92,
   "id": "568ad5ef",
   "metadata": {},
   "outputs": [
    {
     "name": "stdout",
     "output_type": "stream",
     "text": [
      "10/10 [==============================] - 0s 2ms/step - loss: 0.1049 - accuracy: 0.9500\n"
     ]
    },
    {
     "data": {
      "text/plain": [
       "[0.10494414716959, 0.949999988079071]"
      ]
     },
     "execution_count": 92,
     "metadata": {},
     "output_type": "execute_result"
    }
   ],
   "source": [
    "model.evaluate(xtest,ytest)"
   ]
  },
  {
   "cell_type": "code",
   "execution_count": 93,
   "id": "7d1ccb92",
   "metadata": {},
   "outputs": [
    {
     "name": "stdout",
     "output_type": "stream",
     "text": [
      "22/22 [==============================] - 0s 1ms/step\n",
      "10/10 [==============================] - 0s 1ms/step\n"
     ]
    }
   ],
   "source": [
    "tr_pred = model.predict(xtrain)\n",
    "ts_pred = model.predict(xtest)"
   ]
  },
  {
   "cell_type": "code",
   "execution_count": 94,
   "id": "b3b5b884",
   "metadata": {},
   "outputs": [],
   "source": [
    "threshold = 0.5\n",
    "tr_pred_class = []\n",
    "for i in tr_pred:\n",
    "    if(i>=0.5):\n",
    "        tr_pred_class.append(1)\n",
    "    else:\n",
    "        tr_pred_class.append(0)"
   ]
  },
  {
   "cell_type": "code",
   "execution_count": 95,
   "id": "0ecdd7eb",
   "metadata": {},
   "outputs": [
    {
     "data": {
      "text/plain": [
       "[1, 0, 1, 0, 1]"
      ]
     },
     "execution_count": 95,
     "metadata": {},
     "output_type": "execute_result"
    }
   ],
   "source": [
    "tr_pred_class[0:5]"
   ]
  },
  {
   "cell_type": "code",
   "execution_count": 96,
   "id": "12966be1",
   "metadata": {},
   "outputs": [
    {
     "data": {
      "text/plain": [
       "array([[1.0000000e+00],\n",
       "       [3.1548279e-06],\n",
       "       [9.9996632e-01],\n",
       "       [5.0448445e-03],\n",
       "       [9.9999988e-01]], dtype=float32)"
      ]
     },
     "execution_count": 96,
     "metadata": {},
     "output_type": "execute_result"
    }
   ],
   "source": [
    "tr_pred[0:5]"
   ]
  },
  {
   "cell_type": "code",
   "execution_count": 109,
   "id": "8aff6548",
   "metadata": {},
   "outputs": [],
   "source": [
    "threshold = 0.5\n",
    "ts_pred_class = []\n",
    "for i in ts_pred:\n",
    "    if(i>=0.5):\n",
    "        ts_pred_class.append(1)\n",
    "    else:\n",
    "        ts_pred_class.append(0)"
   ]
  },
  {
   "cell_type": "code",
   "execution_count": 110,
   "id": "0bf63ed2",
   "metadata": {},
   "outputs": [
    {
     "data": {
      "text/plain": [
       "[0, 1, 0, 0, 0]"
      ]
     },
     "execution_count": 110,
     "metadata": {},
     "output_type": "execute_result"
    }
   ],
   "source": [
    "ts_pred_class[0:5]"
   ]
  },
  {
   "cell_type": "code",
   "execution_count": 111,
   "id": "539cfa7e",
   "metadata": {},
   "outputs": [
    {
     "data": {
      "text/plain": [
       "array([[1.1880776e-03],\n",
       "       [9.9971920e-01],\n",
       "       [1.4060096e-02],\n",
       "       [6.5089932e-07],\n",
       "       [1.1015256e-01]], dtype=float32)"
      ]
     },
     "execution_count": 111,
     "metadata": {},
     "output_type": "execute_result"
    }
   ],
   "source": [
    "ts_pred[0:5]"
   ]
  },
  {
   "cell_type": "code",
   "execution_count": 112,
   "id": "d6aafbbb",
   "metadata": {},
   "outputs": [
    {
     "data": {
      "text/plain": [
       "(0.9926457479051524, 0.993630443131583)"
      ]
     },
     "execution_count": 112,
     "metadata": {},
     "output_type": "execute_result"
    }
   ],
   "source": [
    "from sklearn.metrics import roc_auc_score\n",
    "ts_acc = roc_auc_score(ytrain,tr_pred)\n",
    "tr_acc = roc_auc_score(ytest,ts_pred)\n",
    "tr_acc,ts_acc"
   ]
  },
  {
   "cell_type": "code",
   "execution_count": 116,
   "id": "b1de55d6",
   "metadata": {},
   "outputs": [
    {
     "data": {
      "text/plain": [
       "array([[151,   7],\n",
       "       [  8, 134]], dtype=int64)"
      ]
     },
     "execution_count": 116,
     "metadata": {},
     "output_type": "execute_result"
    }
   ],
   "source": [
    "from sklearn.metrics import confusion_matrix\n",
    "cf = confusion_matrix(ytest,ts_pred_class)\n",
    "cf"
   ]
  },
  {
   "cell_type": "code",
   "execution_count": 118,
   "id": "b2a2a929",
   "metadata": {},
   "outputs": [
    {
     "data": {
      "text/plain": [
       "<Axes: >"
      ]
     },
     "execution_count": 118,
     "metadata": {},
     "output_type": "execute_result"
    },
    {
     "data": {
      "image/png": "[encoded data removed]",
      "text/plain": [
       "<Figure size 640x480 with 2 Axes>"
      ]
     },
     "metadata": {},
     "output_type": "display_data"
    }
   ],
   "source": [
    "import seaborn as sb\n",
    "sb.heatmap(cf,annot=True,fmt=\"d\")"
   ]
  },
  {
   "cell_type": "code",
   "execution_count": 120,
   "id": "ded0cf58",
   "metadata": {},
   "outputs": [
    {
     "name": "stdout",
     "output_type": "stream",
     "text": [
      "              precision    recall  f1-score   support\n",
      "\n",
      "           0       0.95      0.96      0.95       158\n",
      "           1       0.95      0.94      0.95       142\n",
      "\n",
      "    accuracy                           0.95       300\n",
      "   macro avg       0.95      0.95      0.95       300\n",
      "weighted avg       0.95      0.95      0.95       300\n",
      "\n"
     ]
    }
   ],
   "source": [
    "from sklearn.metrics import classification_report\n",
    "print(classification_report(ytest,ts_pred_class))"
   ]
  },
  {
   "cell_type": "code",
   "execution_count": 121,
   "id": "2a25e8dc",
   "metadata": {},
   "outputs": [],
   "source": [
    "from sklearn.datasets import make_classification\n",
    "X, Y = make_classification(n_samples=1000,\n",
    "                           n_features=15,\n",
    "                           n_informative=12,\n",
    "                           n_classes=3,\n",
    "                           random_state=21)"
   ]
  },
  {
   "cell_type": "code",
   "execution_count": 122,
   "id": "e535bbf1",
   "metadata": {},
   "outputs": [
    {
     "data": {
      "text/html": [
       "<div>\n",
       "<style scoped>\n",
       "    .dataframe tbody tr th:only-of-type {\n",
       "        vertical-align: middle;\n",
       "    }\n",
       "\n",
       "    .dataframe tbody tr th {\n",
       "        vertical-align: top;\n",
       "    }\n",
       "\n",
       "    .dataframe thead th {\n",
       "        text-align: right;\n",
       "    }\n",
       "</style>\n",
       "<table border=\"1\" class=\"dataframe\">\n",
       "  <thead>\n",
       "    <tr style=\"text-align: right;\">\n",
       "      <th></th>\n",
       "      <th>x1</th>\n",
       "      <th>x2</th>\n",
       "      <th>x3</th>\n",
       "      <th>x4</th>\n",
       "      <th>x5</th>\n",
       "      <th>x6</th>\n",
       "      <th>x7</th>\n",
       "      <th>x8</th>\n",
       "      <th>x9</th>\n",
       "      <th>x10</th>\n",
       "      <th>x11</th>\n",
       "      <th>x12</th>\n",
       "      <th>x13</th>\n",
       "      <th>x14</th>\n",
       "      <th>x15</th>\n",
       "    </tr>\n",
       "  </thead>\n",
       "  <tbody>\n",
       "    <tr>\n",
       "      <th>0</th>\n",
       "      <td>-0.038649</td>\n",
       "      <td>-6.128380</td>\n",
       "      <td>-1.975332</td>\n",
       "      <td>-3.349479</td>\n",
       "      <td>-1.842790</td>\n",
       "      <td>2.588859</td>\n",
       "      <td>-1.759425</td>\n",
       "      <td>-1.251231</td>\n",
       "      <td>-0.043914</td>\n",
       "      <td>-1.036508</td>\n",
       "      <td>-1.007567</td>\n",
       "      <td>1.469563</td>\n",
       "      <td>2.779833</td>\n",
       "      <td>-0.512789</td>\n",
       "      <td>-2.646432</td>\n",
       "    </tr>\n",
       "    <tr>\n",
       "      <th>1</th>\n",
       "      <td>1.054561</td>\n",
       "      <td>2.800112</td>\n",
       "      <td>0.383094</td>\n",
       "      <td>0.751510</td>\n",
       "      <td>-3.288005</td>\n",
       "      <td>-1.905142</td>\n",
       "      <td>1.837014</td>\n",
       "      <td>2.805468</td>\n",
       "      <td>-1.093106</td>\n",
       "      <td>-0.042542</td>\n",
       "      <td>1.143440</td>\n",
       "      <td>-0.912809</td>\n",
       "      <td>2.087458</td>\n",
       "      <td>0.232091</td>\n",
       "      <td>0.987047</td>\n",
       "    </tr>\n",
       "    <tr>\n",
       "      <th>2</th>\n",
       "      <td>0.531563</td>\n",
       "      <td>1.937161</td>\n",
       "      <td>-1.240814</td>\n",
       "      <td>-0.013826</td>\n",
       "      <td>1.590909</td>\n",
       "      <td>-4.051046</td>\n",
       "      <td>3.292370</td>\n",
       "      <td>0.466506</td>\n",
       "      <td>-1.865563</td>\n",
       "      <td>1.909655</td>\n",
       "      <td>-0.018490</td>\n",
       "      <td>1.629226</td>\n",
       "      <td>-0.258149</td>\n",
       "      <td>1.199167</td>\n",
       "      <td>-3.108431</td>\n",
       "    </tr>\n",
       "    <tr>\n",
       "      <th>3</th>\n",
       "      <td>-0.619250</td>\n",
       "      <td>-0.505557</td>\n",
       "      <td>5.961385</td>\n",
       "      <td>0.417560</td>\n",
       "      <td>-2.218507</td>\n",
       "      <td>1.383474</td>\n",
       "      <td>0.804475</td>\n",
       "      <td>0.348618</td>\n",
       "      <td>0.986619</td>\n",
       "      <td>3.541292</td>\n",
       "      <td>0.130104</td>\n",
       "      <td>-1.422179</td>\n",
       "      <td>2.087419</td>\n",
       "      <td>0.039672</td>\n",
       "      <td>-3.410622</td>\n",
       "    </tr>\n",
       "    <tr>\n",
       "      <th>4</th>\n",
       "      <td>1.665690</td>\n",
       "      <td>4.782543</td>\n",
       "      <td>6.796794</td>\n",
       "      <td>0.018288</td>\n",
       "      <td>1.407890</td>\n",
       "      <td>-2.268434</td>\n",
       "      <td>-0.234060</td>\n",
       "      <td>-2.391380</td>\n",
       "      <td>-4.121123</td>\n",
       "      <td>3.143179</td>\n",
       "      <td>1.154359</td>\n",
       "      <td>-2.917756</td>\n",
       "      <td>-0.022196</td>\n",
       "      <td>-3.079381</td>\n",
       "      <td>3.668867</td>\n",
       "    </tr>\n",
       "  </tbody>\n",
       "</table>\n",
       "</div>"
      ],
      "text/plain": [
       "         x1        x2        x3        x4        x5        x6        x7  \\\n",
       "0 -0.038649 -6.128380 -1.975332 -3.349479 -1.842790  2.588859 -1.759425   \n",
       "1  1.054561  2.800112  0.383094  0.751510 -3.288005 -1.905142  1.837014   \n",
       "2  0.531563  1.937161 -1.240814 -0.013826  1.590909 -4.051046  3.292370   \n",
       "3 -0.619250 -0.505557  5.961385  0.417560 -2.218507  1.383474  0.804475   \n",
       "4  1.665690  4.782543  6.796794  0.018288  1.407890 -2.268434 -0.234060   \n",
       "\n",
       "         x8        x9       x10       x11       x12       x13       x14  \\\n",
       "0 -1.251231 -0.043914 -1.036508 -1.007567  1.469563  2.779833 -0.512789   \n",
       "1  2.805468 -1.093106 -0.042542  1.143440 -0.912809  2.087458  0.232091   \n",
       "2  0.466506 -1.865563  1.909655 -0.018490  1.629226 -0.258149  1.199167   \n",
       "3  0.348618  0.986619  3.541292  0.130104 -1.422179  2.087419  0.039672   \n",
       "4 -2.391380 -4.121123  3.143179  1.154359 -2.917756 -0.022196 -3.079381   \n",
       "\n",
       "        x15  \n",
       "0 -2.646432  \n",
       "1  0.987047  \n",
       "2 -3.108431  \n",
       "3 -3.410622  \n",
       "4  3.668867  "
      ]
     },
     "execution_count": 122,
     "metadata": {},
     "output_type": "execute_result"
    }
   ],
   "source": [
    "import pandas as pd\n",
    "from warnings import filterwarnings\n",
    "filterwarnings('ignore')\n",
    "features = ['x1','x2','x3','x4','x5','x6','x7','x8','x9','x10',\"x11\",\"x12\",\"x13\",\"x14\",\"x15\"]\n",
    "X = pd.DataFrame(X,columns=features)\n",
    "X.head()"
   ]
  },
  {
   "cell_type": "code",
   "execution_count": 123,
   "id": "3f6ff3e4",
   "metadata": {},
   "outputs": [
    {
     "data": {
      "text/plain": [
       "array([[0., 0., 1.],\n",
       "       [1., 0., 0.],\n",
       "       [1., 0., 0.],\n",
       "       ...,\n",
       "       [0., 1., 0.],\n",
       "       [0., 0., 1.],\n",
       "       [1., 0., 0.]], dtype=float32)"
      ]
     },
     "execution_count": 123,
     "metadata": {},
     "output_type": "execute_result"
    }
   ],
   "source": [
    "from keras.utils import to_categorical\n",
    "Y = to_categorical(Y)\n",
    "Y"
   ]
  },
  {
   "cell_type": "code",
   "execution_count": 124,
   "id": "92f881fb",
   "metadata": {},
   "outputs": [
    {
     "data": {
      "text/plain": [
       "x1     0\n",
       "x2     0\n",
       "x3     0\n",
       "x4     0\n",
       "x5     0\n",
       "x6     0\n",
       "x7     0\n",
       "x8     0\n",
       "x9     0\n",
       "x10    0\n",
       "x11    0\n",
       "x12    0\n",
       "x13    0\n",
       "x14    0\n",
       "x15    0\n",
       "dtype: int64"
      ]
     },
     "execution_count": 124,
     "metadata": {},
     "output_type": "execute_result"
    }
   ],
   "source": [
    "X.isna().sum()"
   ]
  },
  {
   "cell_type": "code",
   "execution_count": 125,
   "id": "ef76cba5",
   "metadata": {},
   "outputs": [],
   "source": [
    "from sklearn.model_selection import train_test_split\n",
    "xtrain, xtest, ytrain, ytest = train_test_split(X,Y,test_size=0.2,random_state=42)"
   ]
  },
  {
   "cell_type": "code",
   "execution_count": 126,
   "id": "705a1a32",
   "metadata": {},
   "outputs": [],
   "source": [
    "from sklearn.preprocessing import StandardScaler\n",
    "scaler = StandardScaler()\n",
    "xtrain = pd.DataFrame(scaler.fit_transform(xtrain),columns=xtrain.columns)\n",
    "xtest = pd.DataFrame(scaler.transform(xtest),columns=xtest.columns)"
   ]
  },
  {
   "cell_type": "code",
   "execution_count": 127,
   "id": "9bba3abd",
   "metadata": {},
   "outputs": [],
   "source": [
    "from keras.models import Sequential\n",
    "from keras.layers import Dense, Dropout\n",
    "from keras.callbacks import EarlyStopping"
   ]
  },
  {
   "cell_type": "code",
   "execution_count": 128,
   "id": "a567d1e2",
   "metadata": {},
   "outputs": [],
   "source": [
    "model = Sequential()\n",
    "model.add(Dense(64,input_dim=xtrain.shape[1],activation='relu'))\n",
    "model.add(Dropout(0.2))\n",
    "model.add(Dense(32,activation='relu'))\n",
    "model.add(Dropout(0.2))\n",
    "model.add(Dense(3,activation='softmax'))"
   ]
  },
  {
   "cell_type": "code",
   "execution_count": 129,
   "id": "a0568643",
   "metadata": {},
   "outputs": [],
   "source": [
    "early_stop = EarlyStopping(monitor='val_loss', patience=10)"
   ]
  },
  {
   "cell_type": "code",
   "execution_count": 130,
   "id": "19532c68",
   "metadata": {},
   "outputs": [],
   "source": [
    "model.compile(loss='categorical_crossentropy',optimizer='adam',metrics=['accuracy'])"
   ]
  },
  {
   "cell_type": "code",
   "execution_count": 131,
   "id": "833d6458",
   "metadata": {},
   "outputs": [
    {
     "name": "stdout",
     "output_type": "stream",
     "text": [
      "Model: \"sequential_3\"\n",
      "_________________________________________________________________\n",
      " Layer (type)                Output Shape              Param #   \n",
      "=================================================================\n",
      " dense_11 (Dense)            (None, 64)                1024      \n",
      "                                                                 \n",
      " dropout_6 (Dropout)         (None, 64)                0         \n",
      "                                                                 \n",
      " dense_12 (Dense)            (None, 32)                2080      \n",
      "                                                                 \n",
      " dropout_7 (Dropout)         (None, 32)                0         \n",
      "                                                                 \n",
      " dense_13 (Dense)            (None, 3)                 99        \n",
      "                                                                 \n",
      "=================================================================\n",
      "Total params: 3203 (12.51 KB)\n",
      "Trainable params: 3203 (12.51 KB)\n",
      "Non-trainable params: 0 (0.00 Byte)\n",
      "_________________________________________________________________\n"
     ]
    }
   ],
   "source": [
    "model.summary()"
   ]
  },
  {
   "cell_type": "code",
   "execution_count": 132,
   "id": "dd69f56b",
   "metadata": {
    "scrolled": false
   },
   "outputs": [
    {
     "name": "stdout",
     "output_type": "stream",
     "text": [
      "Epoch 1/200\n",
      "10/10 [==============================] - 1s 27ms/step - loss: 1.1353 - accuracy: 0.3313 - val_loss: 1.0591 - val_accuracy: 0.4125\n",
      "Epoch 2/200\n",
      "10/10 [==============================] - 0s 6ms/step - loss: 1.0405 - accuracy: 0.4469 - val_loss: 1.0083 - val_accuracy: 0.5063\n",
      "Epoch 3/200\n",
      "10/10 [==============================] - 0s 6ms/step - loss: 0.9827 - accuracy: 0.5125 - val_loss: 0.9625 - val_accuracy: 0.5188\n",
      "Epoch 4/200\n",
      "10/10 [==============================] - 0s 6ms/step - loss: 0.9208 - accuracy: 0.5813 - val_loss: 0.9135 - val_accuracy: 0.5813\n",
      "Epoch 5/200\n",
      "10/10 [==============================] - 0s 7ms/step - loss: 0.8772 - accuracy: 0.6187 - val_loss: 0.8706 - val_accuracy: 0.6250\n",
      "Epoch 6/200\n",
      "10/10 [==============================] - 0s 5ms/step - loss: 0.8270 - accuracy: 0.6609 - val_loss: 0.8318 - val_accuracy: 0.6250\n",
      "Epoch 7/200\n",
      "10/10 [==============================] - 0s 6ms/step - loss: 0.7964 - accuracy: 0.6734 - val_loss: 0.7940 - val_accuracy: 0.6625\n",
      "Epoch 8/200\n",
      "10/10 [==============================] - 0s 5ms/step - loss: 0.7575 - accuracy: 0.7031 - val_loss: 0.7626 - val_accuracy: 0.6562\n",
      "Epoch 9/200\n",
      "10/10 [==============================] - 0s 5ms/step - loss: 0.7164 - accuracy: 0.7109 - val_loss: 0.7324 - val_accuracy: 0.6812\n",
      "Epoch 10/200\n",
      "10/10 [==============================] - 0s 5ms/step - loss: 0.6960 - accuracy: 0.7281 - val_loss: 0.7008 - val_accuracy: 0.6875\n",
      "Epoch 11/200\n",
      "10/10 [==============================] - 0s 6ms/step - loss: 0.6623 - accuracy: 0.7219 - val_loss: 0.6717 - val_accuracy: 0.7250\n",
      "Epoch 12/200\n",
      "10/10 [==============================] - 0s 6ms/step - loss: 0.6082 - accuracy: 0.7672 - val_loss: 0.6464 - val_accuracy: 0.7437\n",
      "Epoch 13/200\n",
      "10/10 [==============================] - 0s 6ms/step - loss: 0.6182 - accuracy: 0.7547 - val_loss: 0.6266 - val_accuracy: 0.7563\n",
      "Epoch 14/200\n",
      "10/10 [==============================] - 0s 5ms/step - loss: 0.5881 - accuracy: 0.7625 - val_loss: 0.6084 - val_accuracy: 0.7625\n",
      "Epoch 15/200\n",
      "10/10 [==============================] - 0s 6ms/step - loss: 0.5741 - accuracy: 0.7625 - val_loss: 0.5926 - val_accuracy: 0.7750\n",
      "Epoch 16/200\n",
      "10/10 [==============================] - 0s 5ms/step - loss: 0.5696 - accuracy: 0.7859 - val_loss: 0.5795 - val_accuracy: 0.7750\n",
      "Epoch 17/200\n",
      "10/10 [==============================] - 0s 6ms/step - loss: 0.5421 - accuracy: 0.7812 - val_loss: 0.5649 - val_accuracy: 0.7812\n",
      "Epoch 18/200\n",
      "10/10 [==============================] - 0s 6ms/step - loss: 0.5174 - accuracy: 0.8047 - val_loss: 0.5492 - val_accuracy: 0.7875\n",
      "Epoch 19/200\n",
      "10/10 [==============================] - 0s 6ms/step - loss: 0.4982 - accuracy: 0.8141 - val_loss: 0.5366 - val_accuracy: 0.7875\n",
      "Epoch 20/200\n",
      "10/10 [==============================] - 0s 6ms/step - loss: 0.4944 - accuracy: 0.8203 - val_loss: 0.5258 - val_accuracy: 0.7875\n",
      "Epoch 21/200\n",
      "10/10 [==============================] - 0s 6ms/step - loss: 0.5106 - accuracy: 0.8078 - val_loss: 0.5119 - val_accuracy: 0.7937\n",
      "Epoch 22/200\n",
      "10/10 [==============================] - 0s 6ms/step - loss: 0.4808 - accuracy: 0.8141 - val_loss: 0.5001 - val_accuracy: 0.8062\n",
      "Epoch 23/200\n",
      "10/10 [==============================] - 0s 6ms/step - loss: 0.4607 - accuracy: 0.8344 - val_loss: 0.4947 - val_accuracy: 0.8000\n",
      "Epoch 24/200\n",
      "10/10 [==============================] - 0s 6ms/step - loss: 0.4579 - accuracy: 0.8250 - val_loss: 0.4807 - val_accuracy: 0.8125\n",
      "Epoch 25/200\n",
      "10/10 [==============================] - 0s 6ms/step - loss: 0.4350 - accuracy: 0.8422 - val_loss: 0.4692 - val_accuracy: 0.8188\n",
      "Epoch 26/200\n",
      "10/10 [==============================] - 0s 6ms/step - loss: 0.4334 - accuracy: 0.8391 - val_loss: 0.4569 - val_accuracy: 0.8188\n",
      "Epoch 27/200\n",
      "10/10 [==============================] - 0s 6ms/step - loss: 0.4141 - accuracy: 0.8547 - val_loss: 0.4534 - val_accuracy: 0.8250\n",
      "Epoch 28/200\n",
      "10/10 [==============================] - 0s 6ms/step - loss: 0.4145 - accuracy: 0.8328 - val_loss: 0.4481 - val_accuracy: 0.8125\n",
      "Epoch 29/200\n",
      "10/10 [==============================] - 0s 6ms/step - loss: 0.4036 - accuracy: 0.8297 - val_loss: 0.4339 - val_accuracy: 0.8250\n",
      "Epoch 30/200\n",
      "10/10 [==============================] - 0s 6ms/step - loss: 0.3790 - accuracy: 0.8609 - val_loss: 0.4220 - val_accuracy: 0.8188\n",
      "Epoch 31/200\n",
      "10/10 [==============================] - 0s 6ms/step - loss: 0.3980 - accuracy: 0.8516 - val_loss: 0.4190 - val_accuracy: 0.8250\n",
      "Epoch 32/200\n",
      "10/10 [==============================] - 0s 6ms/step - loss: 0.3859 - accuracy: 0.8531 - val_loss: 0.4181 - val_accuracy: 0.8375\n",
      "Epoch 33/200\n",
      "10/10 [==============================] - 0s 6ms/step - loss: 0.3469 - accuracy: 0.8813 - val_loss: 0.4051 - val_accuracy: 0.8438\n",
      "Epoch 34/200\n",
      "10/10 [==============================] - 0s 6ms/step - loss: 0.3859 - accuracy: 0.8516 - val_loss: 0.4004 - val_accuracy: 0.8313\n",
      "Epoch 35/200\n",
      "10/10 [==============================] - 0s 6ms/step - loss: 0.3507 - accuracy: 0.8781 - val_loss: 0.3980 - val_accuracy: 0.8313\n",
      "Epoch 36/200\n",
      "10/10 [==============================] - 0s 6ms/step - loss: 0.3546 - accuracy: 0.8719 - val_loss: 0.3912 - val_accuracy: 0.8188\n",
      "Epoch 37/200\n",
      "10/10 [==============================] - 0s 6ms/step - loss: 0.3510 - accuracy: 0.8750 - val_loss: 0.3868 - val_accuracy: 0.8313\n",
      "Epoch 38/200\n",
      "10/10 [==============================] - 0s 6ms/step - loss: 0.3386 - accuracy: 0.8828 - val_loss: 0.3814 - val_accuracy: 0.8375\n",
      "Epoch 39/200\n",
      "10/10 [==============================] - 0s 6ms/step - loss: 0.3508 - accuracy: 0.8719 - val_loss: 0.3791 - val_accuracy: 0.8375\n",
      "Epoch 40/200\n",
      "10/10 [==============================] - 0s 6ms/step - loss: 0.3516 - accuracy: 0.8781 - val_loss: 0.3677 - val_accuracy: 0.8438\n",
      "Epoch 41/200\n",
      "10/10 [==============================] - 0s 6ms/step - loss: 0.3024 - accuracy: 0.9031 - val_loss: 0.3631 - val_accuracy: 0.8438\n",
      "Epoch 42/200\n",
      "10/10 [==============================] - 0s 6ms/step - loss: 0.3406 - accuracy: 0.8719 - val_loss: 0.3582 - val_accuracy: 0.8500\n",
      "Epoch 43/200\n",
      "10/10 [==============================] - 0s 6ms/step - loss: 0.3064 - accuracy: 0.8813 - val_loss: 0.3613 - val_accuracy: 0.8500\n",
      "Epoch 44/200\n",
      "10/10 [==============================] - 0s 6ms/step - loss: 0.3105 - accuracy: 0.8844 - val_loss: 0.3553 - val_accuracy: 0.8500\n",
      "Epoch 45/200\n",
      "10/10 [==============================] - 0s 6ms/step - loss: 0.3058 - accuracy: 0.8953 - val_loss: 0.3480 - val_accuracy: 0.8687\n",
      "Epoch 46/200\n",
      "10/10 [==============================] - 0s 6ms/step - loss: 0.3410 - accuracy: 0.8766 - val_loss: 0.3452 - val_accuracy: 0.8625\n",
      "Epoch 47/200\n",
      "10/10 [==============================] - 0s 6ms/step - loss: 0.2916 - accuracy: 0.9062 - val_loss: 0.3401 - val_accuracy: 0.8687\n",
      "Epoch 48/200\n",
      "10/10 [==============================] - 0s 6ms/step - loss: 0.2847 - accuracy: 0.9016 - val_loss: 0.3430 - val_accuracy: 0.8500\n",
      "Epoch 49/200\n",
      "10/10 [==============================] - 0s 6ms/step - loss: 0.3003 - accuracy: 0.8891 - val_loss: 0.3394 - val_accuracy: 0.8687\n",
      "Epoch 50/200\n",
      "10/10 [==============================] - 0s 6ms/step - loss: 0.2980 - accuracy: 0.8844 - val_loss: 0.3353 - val_accuracy: 0.8687\n",
      "Epoch 51/200\n",
      "10/10 [==============================] - 0s 6ms/step - loss: 0.2727 - accuracy: 0.9109 - val_loss: 0.3287 - val_accuracy: 0.8750\n",
      "Epoch 52/200\n",
      "10/10 [==============================] - 0s 6ms/step - loss: 0.2816 - accuracy: 0.8938 - val_loss: 0.3278 - val_accuracy: 0.8625\n",
      "Epoch 53/200\n",
      "10/10 [==============================] - 0s 6ms/step - loss: 0.2587 - accuracy: 0.9078 - val_loss: 0.3270 - val_accuracy: 0.8625\n",
      "Epoch 54/200\n",
      "10/10 [==============================] - 0s 6ms/step - loss: 0.2779 - accuracy: 0.8953 - val_loss: 0.3251 - val_accuracy: 0.8687\n",
      "Epoch 55/200\n",
      "10/10 [==============================] - 0s 6ms/step - loss: 0.2421 - accuracy: 0.9125 - val_loss: 0.3183 - val_accuracy: 0.8562\n",
      "Epoch 56/200\n",
      "10/10 [==============================] - 0s 6ms/step - loss: 0.2586 - accuracy: 0.9203 - val_loss: 0.3151 - val_accuracy: 0.8625\n",
      "Epoch 57/200\n",
      "10/10 [==============================] - 0s 7ms/step - loss: 0.2393 - accuracy: 0.9125 - val_loss: 0.3092 - val_accuracy: 0.8500\n",
      "Epoch 58/200\n",
      "10/10 [==============================] - 0s 6ms/step - loss: 0.2738 - accuracy: 0.9016 - val_loss: 0.3087 - val_accuracy: 0.8562\n",
      "Epoch 59/200\n",
      "10/10 [==============================] - 0s 7ms/step - loss: 0.2395 - accuracy: 0.9172 - val_loss: 0.3126 - val_accuracy: 0.8500\n",
      "Epoch 60/200\n",
      "10/10 [==============================] - 0s 7ms/step - loss: 0.2631 - accuracy: 0.9047 - val_loss: 0.3118 - val_accuracy: 0.8562\n",
      "Epoch 61/200\n",
      "10/10 [==============================] - 0s 6ms/step - loss: 0.2555 - accuracy: 0.9094 - val_loss: 0.3097 - val_accuracy: 0.8625\n",
      "Epoch 62/200\n",
      "10/10 [==============================] - 0s 6ms/step - loss: 0.2582 - accuracy: 0.9266 - val_loss: 0.3085 - val_accuracy: 0.8687\n",
      "Epoch 63/200\n",
      "10/10 [==============================] - 0s 7ms/step - loss: 0.2317 - accuracy: 0.9125 - val_loss: 0.3095 - val_accuracy: 0.8687\n",
      "Epoch 64/200\n",
      "10/10 [==============================] - 0s 7ms/step - loss: 0.2630 - accuracy: 0.9000 - val_loss: 0.3022 - val_accuracy: 0.8625\n",
      "Epoch 65/200\n",
      "10/10 [==============================] - 0s 7ms/step - loss: 0.2683 - accuracy: 0.8953 - val_loss: 0.3021 - val_accuracy: 0.8625\n",
      "Epoch 66/200\n",
      "10/10 [==============================] - 0s 6ms/step - loss: 0.2101 - accuracy: 0.9266 - val_loss: 0.3009 - val_accuracy: 0.8687\n",
      "Epoch 67/200\n",
      "10/10 [==============================] - 0s 7ms/step - loss: 0.2460 - accuracy: 0.9078 - val_loss: 0.2999 - val_accuracy: 0.8562\n",
      "Epoch 68/200\n",
      "10/10 [==============================] - 0s 6ms/step - loss: 0.2171 - accuracy: 0.9312 - val_loss: 0.2989 - val_accuracy: 0.8562\n",
      "Epoch 69/200\n",
      "10/10 [==============================] - 0s 7ms/step - loss: 0.2312 - accuracy: 0.9094 - val_loss: 0.3011 - val_accuracy: 0.8625\n",
      "Epoch 70/200\n",
      "10/10 [==============================] - 0s 7ms/step - loss: 0.2366 - accuracy: 0.9172 - val_loss: 0.2979 - val_accuracy: 0.8687\n",
      "Epoch 71/200\n",
      "10/10 [==============================] - 0s 8ms/step - loss: 0.2226 - accuracy: 0.9375 - val_loss: 0.2963 - val_accuracy: 0.8813\n",
      "Epoch 72/200\n",
      "10/10 [==============================] - 0s 6ms/step - loss: 0.2322 - accuracy: 0.9203 - val_loss: 0.2915 - val_accuracy: 0.8750\n",
      "Epoch 73/200\n",
      "10/10 [==============================] - 0s 6ms/step - loss: 0.2316 - accuracy: 0.9109 - val_loss: 0.2866 - val_accuracy: 0.8938\n",
      "Epoch 74/200\n",
      "10/10 [==============================] - 0s 7ms/step - loss: 0.2268 - accuracy: 0.9187 - val_loss: 0.2901 - val_accuracy: 0.8750\n",
      "Epoch 75/200\n",
      "10/10 [==============================] - 0s 6ms/step - loss: 0.2240 - accuracy: 0.9250 - val_loss: 0.2984 - val_accuracy: 0.8875\n",
      "Epoch 76/200\n",
      "10/10 [==============================] - 0s 6ms/step - loss: 0.2293 - accuracy: 0.9297 - val_loss: 0.2946 - val_accuracy: 0.8625\n",
      "Epoch 77/200\n",
      "10/10 [==============================] - 0s 6ms/step - loss: 0.1830 - accuracy: 0.9375 - val_loss: 0.2932 - val_accuracy: 0.8625\n",
      "Epoch 78/200\n",
      "10/10 [==============================] - 0s 6ms/step - loss: 0.1866 - accuracy: 0.9344 - val_loss: 0.2902 - val_accuracy: 0.8687\n",
      "Epoch 79/200\n",
      "10/10 [==============================] - 0s 5ms/step - loss: 0.1979 - accuracy: 0.9344 - val_loss: 0.2901 - val_accuracy: 0.8750\n",
      "Epoch 80/200\n",
      "10/10 [==============================] - 0s 5ms/step - loss: 0.1911 - accuracy: 0.9297 - val_loss: 0.2873 - val_accuracy: 0.8750\n",
      "Epoch 81/200\n",
      "10/10 [==============================] - 0s 6ms/step - loss: 0.2130 - accuracy: 0.9187 - val_loss: 0.2857 - val_accuracy: 0.8750\n",
      "Epoch 82/200\n",
      "10/10 [==============================] - 0s 5ms/step - loss: 0.1923 - accuracy: 0.9312 - val_loss: 0.2825 - val_accuracy: 0.8750\n",
      "Epoch 83/200\n",
      "10/10 [==============================] - 0s 5ms/step - loss: 0.1898 - accuracy: 0.9453 - val_loss: 0.2811 - val_accuracy: 0.8813\n",
      "Epoch 84/200\n",
      "10/10 [==============================] - 0s 6ms/step - loss: 0.1964 - accuracy: 0.9312 - val_loss: 0.2819 - val_accuracy: 0.8813\n",
      "Epoch 85/200\n",
      "10/10 [==============================] - 0s 6ms/step - loss: 0.2000 - accuracy: 0.9266 - val_loss: 0.2829 - val_accuracy: 0.8813\n",
      "Epoch 86/200\n",
      "10/10 [==============================] - 0s 6ms/step - loss: 0.2065 - accuracy: 0.9234 - val_loss: 0.2825 - val_accuracy: 0.8875\n",
      "Epoch 87/200\n",
      "10/10 [==============================] - 0s 6ms/step - loss: 0.1874 - accuracy: 0.9250 - val_loss: 0.2794 - val_accuracy: 0.8875\n",
      "Epoch 88/200\n",
      "10/10 [==============================] - 0s 6ms/step - loss: 0.1883 - accuracy: 0.9312 - val_loss: 0.2758 - val_accuracy: 0.8750\n",
      "Epoch 89/200\n",
      "10/10 [==============================] - 0s 6ms/step - loss: 0.1763 - accuracy: 0.9406 - val_loss: 0.2775 - val_accuracy: 0.8938\n",
      "Epoch 90/200\n",
      "10/10 [==============================] - 0s 6ms/step - loss: 0.2101 - accuracy: 0.9172 - val_loss: 0.2845 - val_accuracy: 0.8813\n",
      "Epoch 91/200\n",
      "10/10 [==============================] - 0s 6ms/step - loss: 0.2003 - accuracy: 0.9438 - val_loss: 0.2812 - val_accuracy: 0.8813\n",
      "Epoch 92/200\n",
      "10/10 [==============================] - 0s 6ms/step - loss: 0.1818 - accuracy: 0.9484 - val_loss: 0.2800 - val_accuracy: 0.8875\n",
      "Epoch 93/200\n",
      "10/10 [==============================] - 0s 6ms/step - loss: 0.1717 - accuracy: 0.9422 - val_loss: 0.2834 - val_accuracy: 0.8813\n",
      "Epoch 94/200\n",
      "10/10 [==============================] - 0s 6ms/step - loss: 0.1792 - accuracy: 0.9328 - val_loss: 0.2885 - val_accuracy: 0.8687\n",
      "Epoch 95/200\n",
      "10/10 [==============================] - 0s 6ms/step - loss: 0.1889 - accuracy: 0.9328 - val_loss: 0.2830 - val_accuracy: 0.8875\n",
      "Epoch 96/200\n",
      "10/10 [==============================] - 0s 6ms/step - loss: 0.1600 - accuracy: 0.9453 - val_loss: 0.2813 - val_accuracy: 0.8875\n",
      "Epoch 97/200\n",
      "10/10 [==============================] - 0s 6ms/step - loss: 0.1583 - accuracy: 0.9406 - val_loss: 0.2859 - val_accuracy: 0.8813\n",
      "Epoch 98/200\n",
      "10/10 [==============================] - 0s 7ms/step - loss: 0.1740 - accuracy: 0.9484 - val_loss: 0.2884 - val_accuracy: 0.8750\n"
     ]
    }
   ],
   "source": [
    "hist = model.fit(xtrain,ytrain,validation_split=0.2,epochs=200,callbacks=[early_stop], batch_size=64)"
   ]
  },
  {
   "cell_type": "code",
   "execution_count": 133,
   "id": "0c1d6046",
   "metadata": {},
   "outputs": [
    {
     "data": {
      "image/png": "[encoded data removed]",
      "text/plain": [
       "<Figure size 1600x800 with 1 Axes>"
      ]
     },
     "metadata": {},
     "output_type": "display_data"
    }
   ],
   "source": [
    "import matplotlib.pyplot as plt\n",
    "plt.figure(figsize=(16,8))\n",
    "plt.plot(hist.history['loss'],label='training loss')\n",
    "plt.plot(hist.history['val_loss'],label='validation loss')\n",
    "plt.title('Learning Curve')\n",
    "plt.xlabel('Epochs')\n",
    "plt.ylabel('Cateogorical Cross Entropy')\n",
    "plt.show()"
   ]
  },
  {
   "cell_type": "code",
   "execution_count": 134,
   "id": "e8a89278",
   "metadata": {},
   "outputs": [
    {
     "name": "stdout",
     "output_type": "stream",
     "text": [
      "25/25 [==============================] - 0s 2ms/step - loss: 0.1300 - accuracy: 0.9613\n"
     ]
    },
    {
     "data": {
      "text/plain": [
       "[0.13000355660915375, 0.9612500071525574]"
      ]
     },
     "execution_count": 134,
     "metadata": {},
     "output_type": "execute_result"
    }
   ],
   "source": [
    "model.evaluate(xtrain,ytrain)"
   ]
  },
  {
   "cell_type": "code",
   "execution_count": 135,
   "id": "2b87c5d5",
   "metadata": {},
   "outputs": [
    {
     "name": "stdout",
     "output_type": "stream",
     "text": [
      "7/7 [==============================] - 0s 2ms/step - loss: 0.2607 - accuracy: 0.9200\n"
     ]
    },
    {
     "data": {
      "text/plain": [
       "[0.2607022523880005, 0.9200000166893005]"
      ]
     },
     "execution_count": 135,
     "metadata": {},
     "output_type": "execute_result"
    }
   ],
   "source": [
    "model.evaluate(xtest,ytest)"
   ]
  },
  {
   "cell_type": "code",
   "execution_count": 136,
   "id": "4bfda61f",
   "metadata": {},
   "outputs": [
    {
     "name": "stdout",
     "output_type": "stream",
     "text": [
      "25/25 [==============================] - 0s 1ms/step\n",
      "7/7 [==============================] - 0s 1ms/step\n"
     ]
    }
   ],
   "source": [
    "tr_pred = model.predict(xtrain)\n",
    "ts_pred = model.predict(xtest)"
   ]
  },
  {
   "cell_type": "code",
   "execution_count": 137,
   "id": "43eaecb5",
   "metadata": {
    "scrolled": true
   },
   "outputs": [
    {
     "data": {
      "text/plain": [
       "array([0, 0, 1, 2, 2, 2, 0, 1, 2, 1, 1, 2, 1, 1, 2, 0, 2, 2, 2, 0, 0, 2,\n",
       "       1, 0, 2, 0, 0, 1, 0, 0, 1, 1, 1, 2, 0, 0, 1, 0, 0, 1, 0, 2, 1, 2,\n",
       "       0, 0, 2, 1, 2, 0, 0, 2, 2, 0, 1, 1, 2, 2, 1, 1, 2, 0, 2, 2, 0, 1,\n",
       "       2, 2, 0, 2, 0, 1, 0, 1, 1, 1, 0, 1, 2, 2, 0, 0, 1, 1, 2, 2, 2, 0,\n",
       "       1, 2, 2, 0, 1, 0, 1, 2, 2, 2, 2, 1, 1, 1, 1, 0, 1, 0, 0, 2, 0, 0,\n",
       "       2, 0, 0, 2, 2, 0, 2, 2, 1, 0, 2, 0, 0, 2, 1, 0, 1, 2, 0, 1, 2, 2,\n",
       "       2, 1, 0, 0, 1, 1, 0, 1, 1, 1, 2, 1, 2, 2, 2, 1, 2, 1, 1, 0, 2, 0,\n",
       "       1, 1, 1, 0, 0, 0, 1, 0, 0, 2, 2, 0, 0, 1, 0, 2, 2, 1, 1, 1, 1, 0,\n",
       "       1, 2, 1, 2, 0, 0, 0, 1, 1, 1, 0, 0, 1, 0, 2, 0, 1, 2, 2, 2, 2, 2,\n",
       "       0, 1], dtype=int64)"
      ]
     },
     "execution_count": 137,
     "metadata": {},
     "output_type": "execute_result"
    }
   ],
   "source": [
    "import numpy as np\n",
    "ts_pred_classes = np.argmax(ts_pred, axis=-1)\n",
    "ts_pred_classes"
   ]
  },
  {
   "cell_type": "code",
   "execution_count": 138,
   "id": "3d84dfd2",
   "metadata": {},
   "outputs": [
    {
     "data": {
      "text/plain": [
       "array([0, 0, 1, 2, 2, 2, 2, 0, 0, 1, 1, 2, 1, 1, 2, 0, 2, 2, 2, 2, 0, 1,\n",
       "       1, 0, 2, 0, 0, 1, 0, 0, 1, 1, 1, 2, 0, 0, 1, 0, 0, 1, 0, 2, 1, 2,\n",
       "       0, 1, 2, 1, 2, 0, 0, 2, 2, 0, 1, 1, 2, 2, 1, 1, 2, 0, 2, 2, 0, 1,\n",
       "       2, 2, 0, 2, 0, 1, 0, 1, 2, 1, 0, 1, 2, 2, 0, 0, 1, 1, 2, 2, 2, 0,\n",
       "       1, 2, 2, 0, 1, 0, 1, 2, 0, 2, 2, 1, 1, 1, 1, 0, 2, 0, 0, 2, 0, 0,\n",
       "       2, 0, 0, 2, 2, 0, 1, 2, 1, 0, 2, 0, 0, 2, 1, 0, 1, 2, 0, 1, 2, 1,\n",
       "       2, 1, 0, 2, 1, 1, 0, 1, 1, 1, 2, 1, 2, 2, 2, 1, 2, 1, 1, 0, 2, 0,\n",
       "       1, 2, 1, 2, 0, 0, 1, 0, 0, 2, 2, 0, 0, 1, 0, 2, 2, 0, 1, 1, 1, 0,\n",
       "       1, 2, 1, 2, 0, 0, 0, 1, 0, 1, 0, 0, 1, 0, 2, 0, 1, 2, 2, 2, 2, 2,\n",
       "       0, 1], dtype=int64)"
      ]
     },
     "execution_count": 138,
     "metadata": {},
     "output_type": "execute_result"
    }
   ],
   "source": [
    "ytest_classes = np.argmax(ytest,axis=1)\n",
    "ytest_classes"
   ]
  },
  {
   "cell_type": "code",
   "execution_count": 139,
   "id": "25827501",
   "metadata": {},
   "outputs": [
    {
     "data": {
      "text/plain": [
       "0.92"
      ]
     },
     "execution_count": 139,
     "metadata": {},
     "output_type": "execute_result"
    }
   ],
   "source": [
    "from sklearn.metrics import accuracy_score\n",
    "accuracy_score(ytest_classes, ts_pred_classes)"
   ]
  },
  {
   "cell_type": "code",
   "execution_count": 140,
   "id": "faee63da",
   "metadata": {},
   "outputs": [
    {
     "data": {
      "text/plain": [
       "array([[62,  3,  2],\n",
       "       [ 1, 60,  3],\n",
       "       [ 4,  3, 62]], dtype=int64)"
      ]
     },
     "execution_count": 140,
     "metadata": {},
     "output_type": "execute_result"
    }
   ],
   "source": [
    "cf =  confusion_matrix(ytest_classes, ts_pred_classes)\n",
    "cf"
   ]
  },
  {
   "cell_type": "code",
   "execution_count": 141,
   "id": "8af2c542",
   "metadata": {},
   "outputs": [
    {
     "data": {
      "text/plain": [
       "<Axes: >"
      ]
     },
     "execution_count": 141,
     "metadata": {},
     "output_type": "execute_result"
    },
    {
     "data": {
      "image/png": "[encoded data removed]",
      "text/plain": [
       "<Figure size 640x480 with 2 Axes>"
      ]
     },
     "metadata": {},
     "output_type": "display_data"
    }
   ],
   "source": [
    "sb.heatmap(cf,annot=True,fmt=\"d\")"
   ]
  },
  {
   "cell_type": "code",
   "execution_count": 142,
   "id": "a3a5578b",
   "metadata": {},
   "outputs": [
    {
     "name": "stdout",
     "output_type": "stream",
     "text": [
      "              precision    recall  f1-score   support\n",
      "\n",
      "           0       0.93      0.93      0.93        67\n",
      "           1       0.91      0.94      0.92        64\n",
      "           2       0.93      0.90      0.91        69\n",
      "\n",
      "    accuracy                           0.92       200\n",
      "   macro avg       0.92      0.92      0.92       200\n",
      "weighted avg       0.92      0.92      0.92       200\n",
      "\n"
     ]
    }
   ],
   "source": [
    "from sklearn.metrics import classification_report\n",
    "print(classification_report(ytest_classes,ts_pred_classes))"
   ]
  },
  {
   "cell_type": "code",
   "execution_count": null,
   "id": "ebdbfc4c",
   "metadata": {},
   "outputs": [],
   "source": []
  }
 ],
 "metadata": {
  "kernelspec": {
   "display_name": "Python 3 (ipykernel)",
   "language": "python",
   "name": "python3"
  },
  "language_info": {
   "codemirror_mode": {
    "name": "ipython",
    "version": 3
   },
   "file_extension": ".py",
   "mimetype": "text/x-python",
   "name": "python",
   "nbconvert_exporter": "python",
   "pygments_lexer": "ipython3",
   "version": "3.11.4"
  }
 },
 "nbformat": 4,
 "nbformat_minor": 5
}
