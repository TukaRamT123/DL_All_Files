{
  "nbformat": 4,
  "nbformat_minor": 0,
  "metadata": {
    "colab": {
      "provenance": []
    },
    "kernelspec": {
      "name": "python3",
      "display_name": "Python 3"
    },
    "language_info": {
      "name": "python"
    }
  },
  "cells": [
    {
      "cell_type": "code",
      "source": [
        "pip install contractions"
      ],
      "metadata": {
        "colab": {
          "base_uri": "https://localhost:8080/"
        },
        "id": "wWgBBjUYRj5p",
        "outputId": "f4639746-746f-4fa8-fef4-b6b978fdc865"
      },
      "execution_count": null,
      "outputs": [
        {
          "output_type": "stream",
          "name": "stdout",
          "text": [
            "Requirement already satisfied: contractions in /usr/local/lib/python3.10/dist-packages (0.1.73)\n",
            "Requirement already satisfied: textsearch>=0.0.21 in /usr/local/lib/python3.10/dist-packages (from contractions) (0.0.24)\n",
            "Requirement already satisfied: anyascii in /usr/local/lib/python3.10/dist-packages (from textsearch>=0.0.21->contractions) (0.3.2)\n",
            "Requirement already satisfied: pyahocorasick in /usr/local/lib/python3.10/dist-packages (from textsearch>=0.0.21->contractions) (2.0.0)\n"
          ]
        }
      ]
    },
    {
      "cell_type": "code",
      "source": [
        "pip install unidecode"
      ],
      "metadata": {
        "colab": {
          "base_uri": "https://localhost:8080/"
        },
        "id": "XSNA5VbqRl-g",
        "outputId": "2331b00d-0b64-4846-8df9-f836e3ae474e"
      },
      "execution_count": null,
      "outputs": [
        {
          "output_type": "stream",
          "name": "stdout",
          "text": [
            "Requirement already satisfied: unidecode in /usr/local/lib/python3.10/dist-packages (1.3.6)\n"
          ]
        }
      ]
    },
    {
      "cell_type": "code",
      "source": [
        "pip install autocorrect"
      ],
      "metadata": {
        "colab": {
          "base_uri": "https://localhost:8080/"
        },
        "id": "eFn4OqjSRpJ1",
        "outputId": "8c26b654-998a-4d60-a357-3b9697b18188"
      },
      "execution_count": null,
      "outputs": [
        {
          "output_type": "stream",
          "name": "stdout",
          "text": [
            "Requirement already satisfied: autocorrect in /usr/local/lib/python3.10/dist-packages (2.6.1)\n"
          ]
        }
      ]
    },
    {
      "cell_type": "code",
      "source": [
        "from nltk.tokenize import word_tokenize\n",
        "from nltk.stem import WordNetLemmatizer\n",
        "from nltk.corpus import stopwords\n",
        "from string import punctuation\n",
        "import contractions\n",
        "from unidecode import unidecode\n",
        "import pandas as pd\n",
        "from sklearn.feature_extraction.text import CountVectorizer, TfidfVectorizer\n",
        "from sklearn.naive_bayes import MultinomialNB\n",
        "from sklearn.metrics import accuracy_score\n",
        "from sklearn.model_selection import train_test_split\n",
        "from autocorrect import Speller"
      ],
      "metadata": {
        "id": "LNrNeTjSRrdI"
      },
      "execution_count": null,
      "outputs": []
    },
    {
      "cell_type": "code",
      "source": [
        "data = pd.read_csv('Train (1).csv',error_bad_lines=False, engine=\"python\")\n",
        "data.head(10)"
      ],
      "metadata": {
        "colab": {
          "base_uri": "https://localhost:8080/",
          "height": 452
        },
        "id": "qRBx-L25UCYC",
        "outputId": "76229ba6-6f5f-4725-e7a3-3c32a9641693"
      },
      "execution_count": null,
      "outputs": [
        {
          "output_type": "stream",
          "name": "stderr",
          "text": [
            "<ipython-input-13-1efcc4cc00b9>:1: FutureWarning: The error_bad_lines argument has been deprecated and will be removed in a future version. Use on_bad_lines in the future.\n",
            "\n",
            "\n",
            "  data = pd.read_csv('Train (1).csv',error_bad_lines=False, engine=\"python\")\n"
          ]
        },
        {
          "output_type": "execute_result",
          "data": {
            "text/plain": [
              "                                                text  label\n",
              "0  I grew up (b. 1965) watching and loving the Th...      0\n",
              "1  When I put this movie in my DVD player, and sa...      0\n",
              "2  Why do people who do not know what a particula...      0\n",
              "3  Even though I have great interest in Biblical ...      0\n",
              "4  Im a die hard Dads Army fan and nothing will e...      1\n",
              "5  A terrible movie as everyone has said. What ma...      0\n",
              "6  Finally watched this shocking movie last night...      1\n",
              "7  I caught this film on AZN on cable. It sounded...      0\n",
              "8  It may be the remake of 1987 Autumn's Tale aft...      1\n",
              "9  My Super Ex Girlfriend turned out to be a plea...      1"
            ],
            "text/html": [
              "\n",
              "  <div id=\"df-5abf36f1-f6a6-436b-a93e-733fde574686\" class=\"colab-df-container\">\n",
              "    <div>\n",
              "<style scoped>\n",
              "    .dataframe tbody tr th:only-of-type {\n",
              "        vertical-align: middle;\n",
              "    }\n",
              "\n",
              "    .dataframe tbody tr th {\n",
              "        vertical-align: top;\n",
              "    }\n",
              "\n",
              "    .dataframe thead th {\n",
              "        text-align: right;\n",
              "    }\n",
              "</style>\n",
              "<table border=\"1\" class=\"dataframe\">\n",
              "  <thead>\n",
              "    <tr style=\"text-align: right;\">\n",
              "      <th></th>\n",
              "      <th>text</th>\n",
              "      <th>label</th>\n",
              "    </tr>\n",
              "  </thead>\n",
              "  <tbody>\n",
              "    <tr>\n",
              "      <th>0</th>\n",
              "      <td>I grew up (b. 1965) watching and loving the Th...</td>\n",
              "      <td>0</td>\n",
              "    </tr>\n",
              "    <tr>\n",
              "      <th>1</th>\n",
              "      <td>When I put this movie in my DVD player, and sa...</td>\n",
              "      <td>0</td>\n",
              "    </tr>\n",
              "    <tr>\n",
              "      <th>2</th>\n",
              "      <td>Why do people who do not know what a particula...</td>\n",
              "      <td>0</td>\n",
              "    </tr>\n",
              "    <tr>\n",
              "      <th>3</th>\n",
              "      <td>Even though I have great interest in Biblical ...</td>\n",
              "      <td>0</td>\n",
              "    </tr>\n",
              "    <tr>\n",
              "      <th>4</th>\n",
              "      <td>Im a die hard Dads Army fan and nothing will e...</td>\n",
              "      <td>1</td>\n",
              "    </tr>\n",
              "    <tr>\n",
              "      <th>5</th>\n",
              "      <td>A terrible movie as everyone has said. What ma...</td>\n",
              "      <td>0</td>\n",
              "    </tr>\n",
              "    <tr>\n",
              "      <th>6</th>\n",
              "      <td>Finally watched this shocking movie last night...</td>\n",
              "      <td>1</td>\n",
              "    </tr>\n",
              "    <tr>\n",
              "      <th>7</th>\n",
              "      <td>I caught this film on AZN on cable. It sounded...</td>\n",
              "      <td>0</td>\n",
              "    </tr>\n",
              "    <tr>\n",
              "      <th>8</th>\n",
              "      <td>It may be the remake of 1987 Autumn's Tale aft...</td>\n",
              "      <td>1</td>\n",
              "    </tr>\n",
              "    <tr>\n",
              "      <th>9</th>\n",
              "      <td>My Super Ex Girlfriend turned out to be a plea...</td>\n",
              "      <td>1</td>\n",
              "    </tr>\n",
              "  </tbody>\n",
              "</table>\n",
              "</div>\n",
              "    <div class=\"colab-df-buttons\">\n",
              "\n",
              "  <div class=\"colab-df-container\">\n",
              "    <button class=\"colab-df-convert\" onclick=\"convertToInteractive('df-5abf36f1-f6a6-436b-a93e-733fde574686')\"\n",
              "            title=\"Convert this dataframe to an interactive table.\"\n",
              "            style=\"display:none;\">\n",
              "\n",
              "  <svg xmlns=\"http://www.w3.org/2000/svg\" height=\"24px\" viewBox=\"0 -960 960 960\">\n",
              "    <path d=\"M120-120v-720h720v720H120Zm60-500h600v-160H180v160Zm220 220h160v-160H400v160Zm0 220h160v-160H400v160ZM180-400h160v-160H180v160Zm440 0h160v-160H620v160ZM180-180h160v-160H180v160Zm440 0h160v-160H620v160Z\"/>\n",
              "  </svg>\n",
              "    </button>\n",
              "\n",
              "  <style>\n",
              "    .colab-df-container {\n",
              "      display:flex;\n",
              "      gap: 12px;\n",
              "    }\n",
              "\n",
              "    .colab-df-convert {\n",
              "      background-color: #E8F0FE;\n",
              "      border: none;\n",
              "      border-radius: 50%;\n",
              "      cursor: pointer;\n",
              "      display: none;\n",
              "      fill: #1967D2;\n",
              "      height: 32px;\n",
              "      padding: 0 0 0 0;\n",
              "      width: 32px;\n",
              "    }\n",
              "\n",
              "    .colab-df-convert:hover {\n",
              "      background-color: #E2EBFA;\n",
              "      box-shadow: 0px 1px 2px rgba(60, 64, 67, 0.3), 0px 1px 3px 1px rgba(60, 64, 67, 0.15);\n",
              "      fill: #174EA6;\n",
              "    }\n",
              "\n",
              "    .colab-df-buttons div {\n",
              "      margin-bottom: 4px;\n",
              "    }\n",
              "\n",
              "    [theme=dark] .colab-df-convert {\n",
              "      background-color: #3B4455;\n",
              "      fill: #D2E3FC;\n",
              "    }\n",
              "\n",
              "    [theme=dark] .colab-df-convert:hover {\n",
              "      background-color: #434B5C;\n",
              "      box-shadow: 0px 1px 3px 1px rgba(0, 0, 0, 0.15);\n",
              "      filter: drop-shadow(0px 1px 2px rgba(0, 0, 0, 0.3));\n",
              "      fill: #FFFFFF;\n",
              "    }\n",
              "  </style>\n",
              "\n",
              "    <script>\n",
              "      const buttonEl =\n",
              "        document.querySelector('#df-5abf36f1-f6a6-436b-a93e-733fde574686 button.colab-df-convert');\n",
              "      buttonEl.style.display =\n",
              "        google.colab.kernel.accessAllowed ? 'block' : 'none';\n",
              "\n",
              "      async function convertToInteractive(key) {\n",
              "        const element = document.querySelector('#df-5abf36f1-f6a6-436b-a93e-733fde574686');\n",
              "        const dataTable =\n",
              "          await google.colab.kernel.invokeFunction('convertToInteractive',\n",
              "                                                    [key], {});\n",
              "        if (!dataTable) return;\n",
              "\n",
              "        const docLinkHtml = 'Like what you see? Visit the ' +\n",
              "          '<a target=\"_blank\" href=https://colab.research.google.com/notebooks/data_table.ipynb>data table notebook</a>'\n",
              "          + ' to learn more about interactive tables.';\n",
              "        element.innerHTML = '';\n",
              "        dataTable['output_type'] = 'display_data';\n",
              "        await google.colab.output.renderOutput(dataTable, element);\n",
              "        const docLink = document.createElement('div');\n",
              "        docLink.innerHTML = docLinkHtml;\n",
              "        element.appendChild(docLink);\n",
              "      }\n",
              "    </script>\n",
              "  </div>\n",
              "\n",
              "\n",
              "<div id=\"df-e43795ed-9638-4fc5-8aab-0c17001ab4bf\">\n",
              "  <button class=\"colab-df-quickchart\" onclick=\"quickchart('df-e43795ed-9638-4fc5-8aab-0c17001ab4bf')\"\n",
              "            title=\"Suggest charts.\"\n",
              "            style=\"display:none;\">\n",
              "\n",
              "<svg xmlns=\"http://www.w3.org/2000/svg\" height=\"24px\"viewBox=\"0 0 24 24\"\n",
              "     width=\"24px\">\n",
              "    <g>\n",
              "        <path d=\"M19 3H5c-1.1 0-2 .9-2 2v14c0 1.1.9 2 2 2h14c1.1 0 2-.9 2-2V5c0-1.1-.9-2-2-2zM9 17H7v-7h2v7zm4 0h-2V7h2v10zm4 0h-2v-4h2v4z\"/>\n",
              "    </g>\n",
              "</svg>\n",
              "  </button>\n",
              "\n",
              "<style>\n",
              "  .colab-df-quickchart {\n",
              "      --bg-color: #E8F0FE;\n",
              "      --fill-color: #1967D2;\n",
              "      --hover-bg-color: #E2EBFA;\n",
              "      --hover-fill-color: #174EA6;\n",
              "      --disabled-fill-color: #AAA;\n",
              "      --disabled-bg-color: #DDD;\n",
              "  }\n",
              "\n",
              "  [theme=dark] .colab-df-quickchart {\n",
              "      --bg-color: #3B4455;\n",
              "      --fill-color: #D2E3FC;\n",
              "      --hover-bg-color: #434B5C;\n",
              "      --hover-fill-color: #FFFFFF;\n",
              "      --disabled-bg-color: #3B4455;\n",
              "      --disabled-fill-color: #666;\n",
              "  }\n",
              "\n",
              "  .colab-df-quickchart {\n",
              "    background-color: var(--bg-color);\n",
              "    border: none;\n",
              "    border-radius: 50%;\n",
              "    cursor: pointer;\n",
              "    display: none;\n",
              "    fill: var(--fill-color);\n",
              "    height: 32px;\n",
              "    padding: 0;\n",
              "    width: 32px;\n",
              "  }\n",
              "\n",
              "  .colab-df-quickchart:hover {\n",
              "    background-color: var(--hover-bg-color);\n",
              "    box-shadow: 0 1px 2px rgba(60, 64, 67, 0.3), 0 1px 3px 1px rgba(60, 64, 67, 0.15);\n",
              "    fill: var(--button-hover-fill-color);\n",
              "  }\n",
              "\n",
              "  .colab-df-quickchart-complete:disabled,\n",
              "  .colab-df-quickchart-complete:disabled:hover {\n",
              "    background-color: var(--disabled-bg-color);\n",
              "    fill: var(--disabled-fill-color);\n",
              "    box-shadow: none;\n",
              "  }\n",
              "\n",
              "  .colab-df-spinner {\n",
              "    border: 2px solid var(--fill-color);\n",
              "    border-color: transparent;\n",
              "    border-bottom-color: var(--fill-color);\n",
              "    animation:\n",
              "      spin 1s steps(1) infinite;\n",
              "  }\n",
              "\n",
              "  @keyframes spin {\n",
              "    0% {\n",
              "      border-color: transparent;\n",
              "      border-bottom-color: var(--fill-color);\n",
              "      border-left-color: var(--fill-color);\n",
              "    }\n",
              "    20% {\n",
              "      border-color: transparent;\n",
              "      border-left-color: var(--fill-color);\n",
              "      border-top-color: var(--fill-color);\n",
              "    }\n",
              "    30% {\n",
              "      border-color: transparent;\n",
              "      border-left-color: var(--fill-color);\n",
              "      border-top-color: var(--fill-color);\n",
              "      border-right-color: var(--fill-color);\n",
              "    }\n",
              "    40% {\n",
              "      border-color: transparent;\n",
              "      border-right-color: var(--fill-color);\n",
              "      border-top-color: var(--fill-color);\n",
              "    }\n",
              "    60% {\n",
              "      border-color: transparent;\n",
              "      border-right-color: var(--fill-color);\n",
              "    }\n",
              "    80% {\n",
              "      border-color: transparent;\n",
              "      border-right-color: var(--fill-color);\n",
              "      border-bottom-color: var(--fill-color);\n",
              "    }\n",
              "    90% {\n",
              "      border-color: transparent;\n",
              "      border-bottom-color: var(--fill-color);\n",
              "    }\n",
              "  }\n",
              "</style>\n",
              "\n",
              "  <script>\n",
              "    async function quickchart(key) {\n",
              "      const quickchartButtonEl =\n",
              "        document.querySelector('#' + key + ' button');\n",
              "      quickchartButtonEl.disabled = true;  // To prevent multiple clicks.\n",
              "      quickchartButtonEl.classList.add('colab-df-spinner');\n",
              "      try {\n",
              "        const charts = await google.colab.kernel.invokeFunction(\n",
              "            'suggestCharts', [key], {});\n",
              "      } catch (error) {\n",
              "        console.error('Error during call to suggestCharts:', error);\n",
              "      }\n",
              "      quickchartButtonEl.classList.remove('colab-df-spinner');\n",
              "      quickchartButtonEl.classList.add('colab-df-quickchart-complete');\n",
              "    }\n",
              "    (() => {\n",
              "      let quickchartButtonEl =\n",
              "        document.querySelector('#df-e43795ed-9638-4fc5-8aab-0c17001ab4bf button');\n",
              "      quickchartButtonEl.style.display =\n",
              "        google.colab.kernel.accessAllowed ? 'block' : 'none';\n",
              "    })();\n",
              "  </script>\n",
              "</div>\n",
              "    </div>\n",
              "  </div>\n"
            ]
          },
          "metadata": {},
          "execution_count": 13
        }
      ]
    },
    {
      "cell_type": "code",
      "source": [
        "data.text"
      ],
      "metadata": {
        "colab": {
          "base_uri": "https://localhost:8080/"
        },
        "id": "Z_N8oyW9Uubn",
        "outputId": "726e47fb-5f5c-4cd5-96ec-d398baf3c42b"
      },
      "execution_count": null,
      "outputs": [
        {
          "output_type": "execute_result",
          "data": {
            "text/plain": [
              "0        I grew up (b. 1965) watching and loving the Th...\n",
              "1        When I put this movie in my DVD player, and sa...\n",
              "2        Why do people who do not know what a particula...\n",
              "3        Even though I have great interest in Biblical ...\n",
              "4        Im a die hard Dads Army fan and nothing will e...\n",
              "                               ...                        \n",
              "39995    \"Western Union\" is something of a forgotten cl...\n",
              "39996    This movie is an incredible piece of work. It ...\n",
              "39997    My wife and I watched this movie because we pl...\n",
              "39998    When I first watched Flatliners, I was amazed....\n",
              "39999    Why would this film be so good, but only gross...\n",
              "Name: text, Length: 40000, dtype: object"
            ]
          },
          "metadata": {},
          "execution_count": 14
        }
      ]
    },
    {
      "cell_type": "code",
      "source": [
        "data.label"
      ],
      "metadata": {
        "colab": {
          "base_uri": "https://localhost:8080/"
        },
        "id": "XMrPF4FtUzqg",
        "outputId": "e77eafb8-2ef2-412c-d2a1-b9ce6a950cf7"
      },
      "execution_count": null,
      "outputs": [
        {
          "output_type": "execute_result",
          "data": {
            "text/plain": [
              "0        0\n",
              "1        0\n",
              "2        0\n",
              "3        0\n",
              "4        1\n",
              "        ..\n",
              "39995    1\n",
              "39996    1\n",
              "39997    0\n",
              "39998    1\n",
              "39999    1\n",
              "Name: label, Length: 40000, dtype: int64"
            ]
          },
          "metadata": {},
          "execution_count": 15
        }
      ]
    },
    {
      "cell_type": "code",
      "source": [
        "data['text'][1]"
      ],
      "metadata": {
        "colab": {
          "base_uri": "https://localhost:8080/",
          "height": 157
        },
        "id": "Iop00u1AUzsm",
        "outputId": "5bb81dc4-acfa-4e4d-c9fa-613b577f478f"
      },
      "execution_count": null,
      "outputs": [
        {
          "output_type": "execute_result",
          "data": {
            "text/plain": [
              "\"When I put this movie in my DVD player, and sat down with a coke and some chips, I had some expectations. I was hoping that this movie would contain some of the strong-points of the first movie: Awsome animation, good flowing story, excellent voice cast, funny comedy and a kick-ass soundtrack. But, to my disappointment, not any of this is to be found in Atlantis: Milo's Return. Had I read some reviews first, I might not have been so let down. The following paragraph will be directed to those who have seen the first movie, and who enjoyed it primarily for the points mentioned.<br /><br />When the first scene appears, your in for a shock if you just picked Atlantis: Milo's Return from the display-case at your local videoshop (or whatever), and had the expectations I had. The music feels as a bad imitation of the first movie, and the voice cast has been replaced by a not so fitting one. (With the exception of a few characters, like the voice of Sweet). The actual drawings isnt that bad, but the animation in particular is a sad sight. The storyline is also pretty weak, as its more like three episodes of Schooby-Doo than the single adventurous story we got the last time. But dont misunderstand, it's not very good Schooby-Doo episodes. I didnt laugh a single time, although I might have sniggered once or twice.<br /><br />To the audience who haven't seen the first movie, or don't especially care for a similar sequel, here is a fast review of this movie as a stand-alone product: If you liked schooby-doo, you might like this movie. If you didn't, you could still enjoy this movie if you have nothing else to do. And I suspect it might be a good kids movie, but I wouldn't know. It might have been better if Milo's Return had been a three-episode series on a cartoon channel, or on breakfast TV.\""
            ],
            "application/vnd.google.colaboratory.intrinsic+json": {
              "type": "string"
            }
          },
          "metadata": {},
          "execution_count": 16
        }
      ]
    },
    {
      "cell_type": "code",
      "source": [
        "from nltk.corpus import stopwords"
      ],
      "metadata": {
        "id": "h2plr9inUzvD"
      },
      "execution_count": null,
      "outputs": []
    },
    {
      "cell_type": "code",
      "source": [
        "#1. remove spaces,newlines\n",
        "def remove_spaces(data):\n",
        "    clean_text = data.replace('\\\\n',' ').replace('\\t',' ').replace('\\\\',' ')\n",
        "    return clean_text\n",
        "\n",
        "#2.contraction mapping\n",
        "def expand_text(data):\n",
        "    expanded_text = contractions.fix(data)\n",
        "    return expanded_text\n",
        "\n",
        "#3. handling accented characters\n",
        "def handling_accented(data):\n",
        "    fixed_text = unidecode(data)\n",
        "    return fixed_text\n",
        "\n",
        "\n",
        "\n",
        "def clean_data(data):\n",
        "    tokens = word_tokenize(data)\n",
        "    clean_text = [word.lower() for word in tokens if\n",
        "                  (word not in punctuation) and (word.lower()\n",
        "                  not in stopword_list) and (len(word)>2) and\n",
        "                  (word.isalpha())]\n",
        "    return clean_text\n",
        "\n",
        "# autocorrect\n",
        "def autocorrection(data):\n",
        "    spell = Speller(lang='en')\n",
        "    corrected_text = spell(data)\n",
        "    return corrected_text\n",
        "\n",
        "# lemmatization\n",
        "def lemmatization(data):\n",
        "    lemmatizer = WordNetLemmatizer()\n",
        "    final_data = []\n",
        "    for word in data:\n",
        "        lemmatized_word = lemmatizer.lemmatize(word)\n",
        "        final_data.append(lemmatized_word)\n",
        "    return ' '.join(final_data)"
      ],
      "metadata": {
        "id": "1ep38sFsUzzD"
      },
      "execution_count": null,
      "outputs": []
    },
    {
      "cell_type": "code",
      "source": [
        "import nltk"
      ],
      "metadata": {
        "id": "RgqsAzwuVE_S"
      },
      "execution_count": null,
      "outputs": []
    },
    {
      "cell_type": "code",
      "source": [
        "from nltk.corpus import stopwords\n",
        "nltk.download('stopwords')"
      ],
      "metadata": {
        "colab": {
          "base_uri": "https://localhost:8080/"
        },
        "id": "nPt5qh7RVFIJ",
        "outputId": "d882be7b-736e-47d2-bc3a-9f642fbd80b5"
      },
      "execution_count": null,
      "outputs": [
        {
          "output_type": "stream",
          "name": "stderr",
          "text": [
            "[nltk_data] Downloading package stopwords to /root/nltk_data...\n",
            "[nltk_data]   Unzipping corpora/stopwords.zip.\n"
          ]
        },
        {
          "output_type": "execute_result",
          "data": {
            "text/plain": [
              "True"
            ]
          },
          "metadata": {},
          "execution_count": 20
        }
      ]
    },
    {
      "cell_type": "code",
      "source": [
        "#4. Cleaning\n",
        "stopword_list = stopwords.words('english')\n",
        "stopword_list.remove('no')\n",
        "stopword_list.remove('nor')\n",
        "stopword_list.remove('not')"
      ],
      "metadata": {
        "id": "GJ3q3MnEVLpn"
      },
      "execution_count": null,
      "outputs": []
    },
    {
      "cell_type": "code",
      "source": [
        "def remove_spaces(data):\n",
        "    clean_text = data.replace('\\\\n',' ').replace('\\t',' ').replace('\\\\',' ')\n",
        "    return clean_text\n",
        "remove_spaces(data['text'][1])"
      ],
      "metadata": {
        "colab": {
          "base_uri": "https://localhost:8080/",
          "height": 157
        },
        "id": "rTvOPAQNVLrd",
        "outputId": "43cae2d1-ccc0-420e-c15f-98a92f0a99e2"
      },
      "execution_count": null,
      "outputs": [
        {
          "output_type": "execute_result",
          "data": {
            "text/plain": [
              "\"When I put this movie in my DVD player, and sat down with a coke and some chips, I had some expectations. I was hoping that this movie would contain some of the strong-points of the first movie: Awsome animation, good flowing story, excellent voice cast, funny comedy and a kick-ass soundtrack. But, to my disappointment, not any of this is to be found in Atlantis: Milo's Return. Had I read some reviews first, I might not have been so let down. The following paragraph will be directed to those who have seen the first movie, and who enjoyed it primarily for the points mentioned.<br /><br />When the first scene appears, your in for a shock if you just picked Atlantis: Milo's Return from the display-case at your local videoshop (or whatever), and had the expectations I had. The music feels as a bad imitation of the first movie, and the voice cast has been replaced by a not so fitting one. (With the exception of a few characters, like the voice of Sweet). The actual drawings isnt that bad, but the animation in particular is a sad sight. The storyline is also pretty weak, as its more like three episodes of Schooby-Doo than the single adventurous story we got the last time. But dont misunderstand, it's not very good Schooby-Doo episodes. I didnt laugh a single time, although I might have sniggered once or twice.<br /><br />To the audience who haven't seen the first movie, or don't especially care for a similar sequel, here is a fast review of this movie as a stand-alone product: If you liked schooby-doo, you might like this movie. If you didn't, you could still enjoy this movie if you have nothing else to do. And I suspect it might be a good kids movie, but I wouldn't know. It might have been better if Milo's Return had been a three-episode series on a cartoon channel, or on breakfast TV.\""
            ],
            "application/vnd.google.colaboratory.intrinsic+json": {
              "type": "string"
            }
          },
          "metadata": {},
          "execution_count": 22
        }
      ]
    },
    {
      "cell_type": "code",
      "source": [
        "#  to aviod the data leakage\n",
        "x_train,x_test,y_train,y_test = train_test_split(data.text,data.label,test_size=0.25,random_state=42)"
      ],
      "metadata": {
        "id": "kPEMM6TrVLvi"
      },
      "execution_count": null,
      "outputs": []
    },
    {
      "cell_type": "code",
      "source": [
        "import nltk\n",
        "nltk.download('punkt')"
      ],
      "metadata": {
        "colab": {
          "base_uri": "https://localhost:8080/"
        },
        "id": "Bk12HTJ4VVD9",
        "outputId": "4f52e57b-caee-49c8-d7ea-03d805be2ce8"
      },
      "execution_count": null,
      "outputs": [
        {
          "output_type": "stream",
          "name": "stderr",
          "text": [
            "[nltk_data] Downloading package punkt to /root/nltk_data...\n",
            "[nltk_data]   Unzipping tokenizers/punkt.zip.\n"
          ]
        },
        {
          "output_type": "execute_result",
          "data": {
            "text/plain": [
              "True"
            ]
          },
          "metadata": {},
          "execution_count": 24
        }
      ]
    },
    {
      "cell_type": "code",
      "source": [
        "import nltk\n",
        "nltk.download('wordnet')"
      ],
      "metadata": {
        "colab": {
          "base_uri": "https://localhost:8080/"
        },
        "id": "9FzCILOVVVFr",
        "outputId": "d9f81b2e-ae3c-43f4-8179-4d06fdfc62fc"
      },
      "execution_count": null,
      "outputs": [
        {
          "output_type": "stream",
          "name": "stderr",
          "text": [
            "[nltk_data] Downloading package wordnet to /root/nltk_data...\n"
          ]
        },
        {
          "output_type": "execute_result",
          "data": {
            "text/plain": [
              "True"
            ]
          },
          "metadata": {},
          "execution_count": 30
        }
      ]
    },
    {
      "cell_type": "code",
      "source": [
        "clean_text_train = x_train.apply(remove_spaces)\n",
        "clean_text_test = x_test.apply(remove_spaces)\n",
        "\n",
        "clean_text_train = clean_text_train.apply(expand_text)\n",
        "clean_text_test = clean_text_test.apply(expand_text)\n",
        "\n",
        "clean_text_train = clean_text_train.apply(handling_accented)\n",
        "clean_text_test = clean_text_test.apply(handling_accented)\n",
        "\n",
        "clean_text_train = clean_text_train.apply(clean_data)\n",
        "clean_text_test = clean_text_test.apply(clean_data)\n",
        "\n",
        "clean_text_train = clean_text_train.apply(lemmatization)\n",
        "clean_text_test = clean_text_test.apply(lemmatization)"
      ],
      "metadata": {
        "id": "x003_KPRZE-0"
      },
      "execution_count": null,
      "outputs": []
    },
    {
      "cell_type": "code",
      "source": [
        "clean_text_train"
      ],
      "metadata": {
        "id": "-JwRRJMzZW73",
        "colab": {
          "base_uri": "https://localhost:8080/"
        },
        "outputId": "2a46f520-02bd-440e-a5f6-59f98a2e1ed1"
      },
      "execution_count": null,
      "outputs": [
        {
          "output_type": "execute_result",
          "data": {
            "text/plain": [
              "26898    fifth grade language art teacher read book stu...\n",
              "27635    low budget brit pop melodrama focus girl want ...\n",
              "3036     well watched movie little year ago pulled dust...\n",
              "5604     would almost give however confusing part well ...\n",
              "36111    full length feature film world bridge found fi...\n",
              "                               ...                        \n",
              "6265     movie one worst movie ever seen life waste tim...\n",
              "11284    movie inspiring anyone tough jam whether finan...\n",
              "38158    east side story documentary musical comedy sta...\n",
              "860      one boot one point doctor assistant refers wor...\n",
              "15795    movie horrible lighting terrible camera moveme...\n",
              "Name: text, Length: 30000, dtype: object"
            ]
          },
          "metadata": {},
          "execution_count": 42
        }
      ]
    },
    {
      "cell_type": "code",
      "source": [
        "# count vectorizer\n",
        "count = CountVectorizer(max_df=0.95,max_features=1000)\n",
        "count_val_train = count.fit_transform(clean_text_train)\n",
        "count_val_test = count.transform(clean_text_test)\n",
        "\n",
        "\n",
        "#count vecorizers out put is in the sparse matrix"
      ],
      "metadata": {
        "id": "l7SUVX0kbgKO"
      },
      "execution_count": null,
      "outputs": []
    },
    {
      "cell_type": "code",
      "source": [
        "count_val_train\n",
        "#print(count_val_train)"
      ],
      "metadata": {
        "colab": {
          "base_uri": "https://localhost:8080/"
        },
        "id": "8As8GmnFbjEq",
        "outputId": "b60acbe3-029d-429a-87ba-122c4e69a7d3"
      },
      "execution_count": null,
      "outputs": [
        {
          "output_type": "execute_result",
          "data": {
            "text/plain": [
              "<30000x1000 sparse matrix of type '<class 'numpy.int64'>'\n",
              "\twith 1617756 stored elements in Compressed Sparse Row format>"
            ]
          },
          "metadata": {},
          "execution_count": 44
        }
      ]
    },
    {
      "cell_type": "code",
      "source": [
        "count_val_train.A"
      ],
      "metadata": {
        "colab": {
          "base_uri": "https://localhost:8080/"
        },
        "id": "MmQNESEMcKvB",
        "outputId": "ac07be7c-0806-4ef7-81a5-17a1bdae09db"
      },
      "execution_count": null,
      "outputs": [
        {
          "output_type": "execute_result",
          "data": {
            "text/plain": [
              "array([[0, 0, 0, ..., 0, 0, 0],\n",
              "       [0, 0, 0, ..., 0, 0, 0],\n",
              "       [0, 0, 0, ..., 0, 0, 0],\n",
              "       ...,\n",
              "       [0, 0, 0, ..., 0, 0, 0],\n",
              "       [0, 0, 0, ..., 0, 0, 0],\n",
              "       [0, 0, 0, ..., 0, 0, 0]])"
            ]
          },
          "metadata": {},
          "execution_count": 45
        }
      ]
    },
    {
      "cell_type": "code",
      "source": [
        "count_val_train.toarray()"
      ],
      "metadata": {
        "colab": {
          "base_uri": "https://localhost:8080/"
        },
        "id": "QyXeeG4gcNxg",
        "outputId": "d06606c6-72bc-48a4-d2fb-3ed424c4dc50"
      },
      "execution_count": null,
      "outputs": [
        {
          "output_type": "execute_result",
          "data": {
            "text/plain": [
              "array([[0, 0, 0, ..., 0, 0, 0],\n",
              "       [0, 0, 0, ..., 0, 0, 0],\n",
              "       [0, 0, 0, ..., 0, 0, 0],\n",
              "       ...,\n",
              "       [0, 0, 0, ..., 0, 0, 0],\n",
              "       [0, 0, 0, ..., 0, 0, 0],\n",
              "       [0, 0, 0, ..., 0, 0, 0]])"
            ]
          },
          "metadata": {},
          "execution_count": 46
        }
      ]
    },
    {
      "cell_type": "code",
      "source": [
        "from collections import Counter"
      ],
      "metadata": {
        "id": "FmR1RN3ocQuP"
      },
      "execution_count": null,
      "outputs": []
    },
    {
      "cell_type": "code",
      "source": [
        "#count.get_feature_names()\n",
        "count.get_feature_names_out()"
      ],
      "metadata": {
        "colab": {
          "base_uri": "https://localhost:8080/"
        },
        "id": "WKNzN9W6cUrE",
        "outputId": "51c373f3-c3dc-4486-ae64-421da96e636d"
      },
      "execution_count": null,
      "outputs": [
        {
          "output_type": "execute_result",
          "data": {
            "text/plain": [
              "array(['ability', 'able', 'absolutely', 'accent', 'across', 'act',\n",
              "       'acted', 'acting', 'action', 'actor', 'actress', 'actual',\n",
              "       'actually', 'adaptation', 'add', 'admit', 'adult', 'adventure',\n",
              "       'age', 'ago', 'agree', 'air', 'alien', 'alive', 'almost', 'alone',\n",
              "       'along', 'already', 'also', 'although', 'always', 'amazing',\n",
              "       'america', 'american', 'among', 'amount', 'animal', 'animation',\n",
              "       'annoying', 'another', 'answer', 'anyone', 'anything', 'anyway',\n",
              "       'apart', 'apparently', 'appeal', 'appear', 'appearance', 'appears',\n",
              "       'appreciate', 'army', 'around', 'art', 'aside', 'ask', 'aspect',\n",
              "       'atmosphere', 'attack', 'attempt', 'attention', 'audience',\n",
              "       'average', 'avoid', 'award', 'away', 'awesome', 'awful', 'baby',\n",
              "       'back', 'background', 'bad', 'badly', 'band', 'barely', 'based',\n",
              "       'basic', 'basically', 'battle', 'beautiful', 'beauty', 'became',\n",
              "       'become', 'becomes', 'begin', 'beginning', 'behind', 'belief',\n",
              "       'believable', 'believe', 'best', 'better', 'beyond', 'big',\n",
              "       'biggest', 'bill', 'bit', 'bizarre', 'black', 'blood', 'blue',\n",
              "       'body', 'book', 'bored', 'boring', 'bother', 'box', 'boy', 'brain',\n",
              "       'break', 'brilliant', 'bring', 'brings', 'british', 'brother',\n",
              "       'brought', 'budget', 'bunch', 'business', 'buy', 'call', 'called',\n",
              "       'came', 'camera', 'camp', 'car', 'care', 'career', 'carry',\n",
              "       'cartoon', 'case', 'cast', 'casting', 'cat', 'catch', 'caught',\n",
              "       'century', 'certain', 'certainly', 'chance', 'change', 'changed',\n",
              "       'channel', 'character', 'chase', 'cheap', 'check', 'cheesy',\n",
              "       'child', 'choice', 'christmas', 'cinema', 'cinematography', 'city',\n",
              "       'class', 'classic', 'clear', 'clearly', 'clever', 'cliche',\n",
              "       'close', 'college', 'color', 'come', 'comedy', 'comic', 'coming',\n",
              "       'comment', 'common', 'company', 'compared', 'complete',\n",
              "       'completely', 'computer', 'concept', 'conclusion', 'consider',\n",
              "       'considering', 'control', 'convincing', 'cool', 'cop', 'copy',\n",
              "       'costume', 'could', 'country', 'couple', 'course', 'cover', 'crap',\n",
              "       'crazy', 'create', 'created', 'creature', 'credit', 'creepy',\n",
              "       'crew', 'crime', 'critic', 'cry', 'culture', 'cut', 'cute',\n",
              "       'dance', 'dancing', 'dark', 'date', 'daughter', 'david', 'day',\n",
              "       'dead', 'deal', 'death', 'decent', 'decide', 'decided', 'decides',\n",
              "       'deep', 'definitely', 'depth', 'deserves', 'despite', 'detail',\n",
              "       'development', 'dialog', 'dialogue', 'die', 'died', 'different',\n",
              "       'difficult', 'directed', 'directing', 'direction', 'director',\n",
              "       'disappointed', 'disney', 'doctor', 'documentary', 'dog', 'done',\n",
              "       'door', 'doubt', 'drama', 'dramatic', 'dream', 'drive', 'drug',\n",
              "       'due', 'dull', 'dumb', 'dvd', 'earlier', 'early', 'earth',\n",
              "       'easily', 'easy', 'editing', 'effect', 'effort', 'either',\n",
              "       'element', 'else', 'emotion', 'emotional', 'end', 'ended',\n",
              "       'ending', 'english', 'enjoy', 'enjoyable', 'enjoyed', 'enough',\n",
              "       'entertaining', 'entertainment', 'entire', 'entirely', 'episode',\n",
              "       'era', 'escape', 'especially', 'etc', 'even', 'event',\n",
              "       'eventually', 'ever', 'every', 'everyone', 'everything', 'evil',\n",
              "       'exactly', 'example', 'excellent', 'except', 'exciting', 'expect',\n",
              "       'expected', 'expecting', 'experience', 'extra', 'extremely', 'eye',\n",
              "       'face', 'fact', 'fails', 'fairly', 'fall', 'familiar', 'family',\n",
              "       'famous', 'fan', 'fantastic', 'fantasy', 'far', 'fast', 'father',\n",
              "       'favorite', 'fear', 'feature', 'feel', 'feeling', 'felt', 'female',\n",
              "       'fight', 'fighting', 'figure', 'filled', 'film', 'filmed',\n",
              "       'filmmaker', 'final', 'finally', 'find', 'fine', 'fire', 'first',\n",
              "       'fit', 'five', 'flat', 'flaw', 'flick', 'focus', 'follow',\n",
              "       'following', 'follows', 'footage', 'force', 'forced', 'forget',\n",
              "       'form', 'former', 'forward', 'found', 'four', 'free', 'french',\n",
              "       'friend', 'front', 'full', 'fun', 'funny', 'future', 'game',\n",
              "       'gang', 'gave', 'gay', 'general', 'genius', 'genre', 'george',\n",
              "       'german', 'get', 'getting', 'ghost', 'girl', 'girlfriend', 'give',\n",
              "       'given', 'giving', 'go', 'god', 'going', 'gone', 'good', 'gore',\n",
              "       'got', 'great', 'greatest', 'group', 'guess', 'gun', 'guy', 'hair',\n",
              "       'half', 'hand', 'happen', 'happened', 'happens', 'happy', 'hard',\n",
              "       'hardly', 'hate', 'head', 'hear', 'heard', 'heart', 'hell', 'help',\n",
              "       'hero', 'high', 'highly', 'hilarious', 'history', 'hit', 'hold',\n",
              "       'hole', 'hollywood', 'home', 'honest', 'hope', 'horrible',\n",
              "       'horror', 'hot', 'hour', 'house', 'however', 'huge', 'human',\n",
              "       'humor', 'humour', 'hurt', 'husband', 'idea', 'image', 'imagine',\n",
              "       'imdb', 'important', 'impressive', 'including', 'incredible',\n",
              "       'incredibly', 'indeed', 'indian', 'inside', 'instead',\n",
              "       'intelligent', 'interest', 'interested', 'interesting', 'involved',\n",
              "       'involving', 'island', 'issue', 'italian', 'jack', 'james', 'jane',\n",
              "       'japanese', 'job', 'joe', 'john', 'joke', 'keep', 'kept', 'kid',\n",
              "       'kill', 'killed', 'killer', 'killing', 'kind', 'king', 'knew',\n",
              "       'know', 'known', 'lack', 'lady', 'lame', 'land', 'language',\n",
              "       'large', 'last', 'late', 'later', 'laugh', 'laughing', 'law', 'le',\n",
              "       'lead', 'leading', 'leaf', 'learn', 'least', 'leave', 'lee',\n",
              "       'left', 'let', 'level', 'lie', 'life', 'light', 'like', 'liked',\n",
              "       'line', 'list', 'little', 'live', 'living', 'local', 'location',\n",
              "       'long', 'longer', 'look', 'looked', 'looking', 'lost', 'lot',\n",
              "       'love', 'loved', 'lover', 'low', 'mad', 'made', 'main', 'major',\n",
              "       'make', 'maker', 'making', 'male', 'man', 'manages', 'many',\n",
              "       'mark', 'married', 'master', 'masterpiece', 'match', 'material',\n",
              "       'matter', 'may', 'maybe', 'mean', 'meaning', 'meant', 'meet',\n",
              "       'member', 'memorable', 'memory', 'men', 'mention', 'mentioned',\n",
              "       'mess', 'message', 'michael', 'middle', 'might', 'million', 'mind',\n",
              "       'minute', 'miss', 'missed', 'missing', 'mistake', 'modern',\n",
              "       'moment', 'money', 'monster', 'mostly', 'mother', 'move', 'movie',\n",
              "       'moving', 'much', 'murder', 'music', 'musical', 'must', 'mystery',\n",
              "       'name', 'named', 'nature', 'near', 'nearly', 'need', 'needed',\n",
              "       'neither', 'never', 'new', 'next', 'nice', 'night', 'none', 'nor',\n",
              "       'not', 'note', 'nothing', 'novel', 'nudity', 'number', 'obvious',\n",
              "       'obviously', 'odd', 'offer', 'office', 'often', 'okay', 'old',\n",
              "       'older', 'one', 'open', 'opening', 'opinion', 'opportunity',\n",
              "       'order', 'original', 'oscar', 'others', 'otherwise', 'outside',\n",
              "       'overall', 'pace', 'parent', 'park', 'part', 'particular',\n",
              "       'particularly', 'party', 'past', 'pathetic', 'paul', 'pay',\n",
              "       'people', 'perfect', 'perfectly', 'performance', 'perhaps',\n",
              "       'period', 'person', 'personal', 'peter', 'pick', 'picture',\n",
              "       'piece', 'place', 'plain', 'plan', 'play', 'played', 'player',\n",
              "       'playing', 'please', 'plenty', 'plot', 'plus', 'point',\n",
              "       'pointless', 'police', 'political', 'poor', 'poorly', 'popular',\n",
              "       'portrayal', 'portrayed', 'positive', 'possible', 'possibly',\n",
              "       'potential', 'power', 'powerful', 'predictable', 'premise',\n",
              "       'present', 'pretty', 'previous', 'prison', 'probably', 'problem',\n",
              "       'produced', 'producer', 'production', 'project', 'public', 'pull',\n",
              "       'pure', 'purpose', 'put', 'quality', 'question', 'quickly',\n",
              "       'quite', 'rate', 'rather', 'rating', 'read', 'reading', 'real',\n",
              "       'realistic', 'reality', 'realize', 'really', 'reason', 'recent',\n",
              "       'recently', 'recommend', 'recommended', 'red', 'relationship',\n",
              "       'release', 'released', 'remake', 'remember', 'rent', 'respect',\n",
              "       'rest', 'result', 'return', 'review', 'reviewer', 'rich',\n",
              "       'richard', 'ride', 'ridiculous', 'right', 'ring', 'road', 'robert',\n",
              "       'rock', 'role', 'romance', 'romantic', 'room', 'run', 'running',\n",
              "       'sad', 'sadly', 'said', 'save', 'saw', 'say', 'saying', 'scary',\n",
              "       'scene', 'school', 'science', 'scientist', 'score', 'scott',\n",
              "       'screen', 'screenplay', 'script', 'season', 'second', 'secret',\n",
              "       'see', 'seeing', 'seem', 'seemed', 'seems', 'seen', 'sense',\n",
              "       'sequel', 'sequence', 'series', 'serious', 'seriously', 'set',\n",
              "       'setting', 'several', 'sex', 'sexual', 'shame', 'ship', 'shoot',\n",
              "       'shooting', 'short', 'shot', 'show', 'showing', 'shown', 'sick',\n",
              "       'side', 'silly', 'similar', 'simple', 'simply', 'since', 'singing',\n",
              "       'single', 'sister', 'sit', 'situation', 'slightly', 'slow',\n",
              "       'small', 'society', 'soldier', 'solid', 'somehow', 'someone',\n",
              "       'something', 'sometimes', 'somewhat', 'son', 'song', 'soon',\n",
              "       'sorry', 'sort', 'soul', 'sound', 'soundtrack', 'space', 'speak',\n",
              "       'special', 'spend', 'spent', 'spirit', 'spoiler', 'spot', 'stage',\n",
              "       'stand', 'standard', 'star', 'start', 'started', 'state', 'stay',\n",
              "       'stick', 'still', 'stop', 'store', 'story', 'storyline',\n",
              "       'straight', 'strange', 'street', 'strong', 'student', 'studio',\n",
              "       'stuff', 'stupid', 'style', 'subject', 'success', 'successful',\n",
              "       'suck', 'suddenly', 'superb', 'supporting', 'supposed', 'sure',\n",
              "       'surprise', 'surprised', 'suspense', 'sweet', 'take', 'taken',\n",
              "       'taking', 'tale', 'talent', 'talented', 'talk', 'talking', 'taste',\n",
              "       'team', 'teen', 'teenager', 'television', 'tell', 'telling', 'ten',\n",
              "       'tension', 'term', 'terrible', 'thanks', 'theater', 'theme',\n",
              "       'thing', 'think', 'thinking', 'third', 'though', 'thought',\n",
              "       'three', 'thriller', 'throughout', 'throw', 'time', 'title',\n",
              "       'today', 'together', 'told', 'tom', 'tone', 'took', 'top', 'total',\n",
              "       'totally', 'touch', 'towards', 'town', 'track', 'trailer', 'train',\n",
              "       'tried', 'trip', 'trouble', 'true', 'truly', 'truth', 'try',\n",
              "       'trying', 'turn', 'turned', 'twist', 'two', 'type', 'typical',\n",
              "       'ultimately', 'understand', 'unfortunately', 'unique', 'unless',\n",
              "       'unlike', 'upon', 'us', 'use', 'used', 'using', 'usual', 'usually',\n",
              "       'value', 'vampire', 'van', 'various', 'version', 'victim', 'video',\n",
              "       'view', 'viewer', 'viewing', 'villain', 'violence', 'violent',\n",
              "       'visual', 'voice', 'wait', 'waiting', 'walk', 'want', 'wanted',\n",
              "       'war', 'waste', 'wasted', 'watch', 'watched', 'watching', 'water',\n",
              "       'way', 'weak', 'week', 'weird', 'well', 'went', 'western',\n",
              "       'whatever', 'whether', 'white', 'whole', 'whose', 'wife',\n",
              "       'william', 'win', 'wish', 'within', 'without', 'woman', 'wonder',\n",
              "       'wonderful', 'wood', 'word', 'work', 'worked', 'working', 'world',\n",
              "       'worse', 'worst', 'worth', 'would', 'write', 'writer', 'writing',\n",
              "       'written', 'wrong', 'wrote', 'yeah', 'year', 'yes', 'yet', 'york',\n",
              "       'young', 'younger', 'zombie'], dtype=object)"
            ]
          },
          "metadata": {},
          "execution_count": 48
        }
      ]
    },
    {
      "cell_type": "code",
      "source": [
        "len(count.get_feature_names_out())"
      ],
      "metadata": {
        "colab": {
          "base_uri": "https://localhost:8080/"
        },
        "id": "bSVJrOPNc2BQ",
        "outputId": "320a7e9e-a0e3-4892-b537-f9c73ab0c786"
      },
      "execution_count": null,
      "outputs": [
        {
          "output_type": "execute_result",
          "data": {
            "text/plain": [
              "1000"
            ]
          },
          "metadata": {},
          "execution_count": 49
        }
      ]
    },
    {
      "cell_type": "code",
      "source": [
        "pd.DataFrame(count_val_train.A,columns=count.get_feature_names_out())"
      ],
      "metadata": {
        "colab": {
          "base_uri": "https://localhost:8080/",
          "height": 443
        },
        "id": "6Lpi0EPwc5CN",
        "outputId": "6dae4d1f-3863-41eb-bd10-48c982e95747"
      },
      "execution_count": null,
      "outputs": [
        {
          "output_type": "execute_result",
          "data": {
            "text/plain": [
              "       ability  able  absolutely  accent  across  act  acted  acting  action  \\\n",
              "0            0     0           0       0       0    0      0       2       0   \n",
              "1            0     0           0       0       0    0      0       0       0   \n",
              "2            0     0           0       0       0    0      0       0       0   \n",
              "3            0     0           0       1       0    0      0       0       0   \n",
              "4            0     0           2       0       0    0      0       0       0   \n",
              "...        ...   ...         ...     ...     ...  ...    ...     ...     ...   \n",
              "29995        0     0           0       0       0    1      0       1       0   \n",
              "29996        0     0           0       0       0    0      0       0       0   \n",
              "29997        0     0           0       0       0    0      0       0       0   \n",
              "29998        0     0           0       0       0    0      0       1       0   \n",
              "29999        0     0           0       0       0    0      0       1       0   \n",
              "\n",
              "       actor  ...  wrong  wrote  yeah  year  yes  yet  york  young  younger  \\\n",
              "0          0  ...      0      0     0     0    0    0     0      0        0   \n",
              "1          0  ...      0      0     0     0    0    0     0      0        0   \n",
              "2          0  ...      0      0     0     1    0    0     0      0        0   \n",
              "3          0  ...      0      0     0     0    0    0     0      0        0   \n",
              "4          0  ...      0      0     0     0    0    0     0      0        0   \n",
              "...      ...  ...    ...    ...   ...   ...  ...  ...   ...    ...      ...   \n",
              "29995      0  ...      0      0     0     0    0    0     0      0        0   \n",
              "29996      0  ...      0      0     0     0    0    0     0      0        0   \n",
              "29997      0  ...      0      0     0     1    0    0     0      0        0   \n",
              "29998      0  ...      1      0     0     0    0    0     0      0        0   \n",
              "29999      0  ...      0      1     0     1    0    0     0      0        0   \n",
              "\n",
              "       zombie  \n",
              "0           0  \n",
              "1           0  \n",
              "2           0  \n",
              "3           0  \n",
              "4           0  \n",
              "...       ...  \n",
              "29995       0  \n",
              "29996       0  \n",
              "29997       0  \n",
              "29998       0  \n",
              "29999       0  \n",
              "\n",
              "[30000 rows x 1000 columns]"
            ],
            "text/html": [
              "\n",
              "  <div id=\"df-64e7c499-29c0-4525-b89f-8b189447d1f5\" class=\"colab-df-container\">\n",
              "    <div>\n",
              "<style scoped>\n",
              "    .dataframe tbody tr th:only-of-type {\n",
              "        vertical-align: middle;\n",
              "    }\n",
              "\n",
              "    .dataframe tbody tr th {\n",
              "        vertical-align: top;\n",
              "    }\n",
              "\n",
              "    .dataframe thead th {\n",
              "        text-align: right;\n",
              "    }\n",
              "</style>\n",
              "<table border=\"1\" class=\"dataframe\">\n",
              "  <thead>\n",
              "    <tr style=\"text-align: right;\">\n",
              "      <th></th>\n",
              "      <th>ability</th>\n",
              "      <th>able</th>\n",
              "      <th>absolutely</th>\n",
              "      <th>accent</th>\n",
              "      <th>across</th>\n",
              "      <th>act</th>\n",
              "      <th>acted</th>\n",
              "      <th>acting</th>\n",
              "      <th>action</th>\n",
              "      <th>actor</th>\n",
              "      <th>...</th>\n",
              "      <th>wrong</th>\n",
              "      <th>wrote</th>\n",
              "      <th>yeah</th>\n",
              "      <th>year</th>\n",
              "      <th>yes</th>\n",
              "      <th>yet</th>\n",
              "      <th>york</th>\n",
              "      <th>young</th>\n",
              "      <th>younger</th>\n",
              "      <th>zombie</th>\n",
              "    </tr>\n",
              "  </thead>\n",
              "  <tbody>\n",
              "    <tr>\n",
              "      <th>0</th>\n",
              "      <td>0</td>\n",
              "      <td>0</td>\n",
              "      <td>0</td>\n",
              "      <td>0</td>\n",
              "      <td>0</td>\n",
              "      <td>0</td>\n",
              "      <td>0</td>\n",
              "      <td>2</td>\n",
              "      <td>0</td>\n",
              "      <td>0</td>\n",
              "      <td>...</td>\n",
              "      <td>0</td>\n",
              "      <td>0</td>\n",
              "      <td>0</td>\n",
              "      <td>0</td>\n",
              "      <td>0</td>\n",
              "      <td>0</td>\n",
              "      <td>0</td>\n",
              "      <td>0</td>\n",
              "      <td>0</td>\n",
              "      <td>0</td>\n",
              "    </tr>\n",
              "    <tr>\n",
              "      <th>1</th>\n",
              "      <td>0</td>\n",
              "      <td>0</td>\n",
              "      <td>0</td>\n",
              "      <td>0</td>\n",
              "      <td>0</td>\n",
              "      <td>0</td>\n",
              "      <td>0</td>\n",
              "      <td>0</td>\n",
              "      <td>0</td>\n",
              "      <td>0</td>\n",
              "      <td>...</td>\n",
              "      <td>0</td>\n",
              "      <td>0</td>\n",
              "      <td>0</td>\n",
              "      <td>0</td>\n",
              "      <td>0</td>\n",
              "      <td>0</td>\n",
              "      <td>0</td>\n",
              "      <td>0</td>\n",
              "      <td>0</td>\n",
              "      <td>0</td>\n",
              "    </tr>\n",
              "    <tr>\n",
              "      <th>2</th>\n",
              "      <td>0</td>\n",
              "      <td>0</td>\n",
              "      <td>0</td>\n",
              "      <td>0</td>\n",
              "      <td>0</td>\n",
              "      <td>0</td>\n",
              "      <td>0</td>\n",
              "      <td>0</td>\n",
              "      <td>0</td>\n",
              "      <td>0</td>\n",
              "      <td>...</td>\n",
              "      <td>0</td>\n",
              "      <td>0</td>\n",
              "      <td>0</td>\n",
              "      <td>1</td>\n",
              "      <td>0</td>\n",
              "      <td>0</td>\n",
              "      <td>0</td>\n",
              "      <td>0</td>\n",
              "      <td>0</td>\n",
              "      <td>0</td>\n",
              "    </tr>\n",
              "    <tr>\n",
              "      <th>3</th>\n",
              "      <td>0</td>\n",
              "      <td>0</td>\n",
              "      <td>0</td>\n",
              "      <td>1</td>\n",
              "      <td>0</td>\n",
              "      <td>0</td>\n",
              "      <td>0</td>\n",
              "      <td>0</td>\n",
              "      <td>0</td>\n",
              "      <td>0</td>\n",
              "      <td>...</td>\n",
              "      <td>0</td>\n",
              "      <td>0</td>\n",
              "      <td>0</td>\n",
              "      <td>0</td>\n",
              "      <td>0</td>\n",
              "      <td>0</td>\n",
              "      <td>0</td>\n",
              "      <td>0</td>\n",
              "      <td>0</td>\n",
              "      <td>0</td>\n",
              "    </tr>\n",
              "    <tr>\n",
              "      <th>4</th>\n",
              "      <td>0</td>\n",
              "      <td>0</td>\n",
              "      <td>2</td>\n",
              "      <td>0</td>\n",
              "      <td>0</td>\n",
              "      <td>0</td>\n",
              "      <td>0</td>\n",
              "      <td>0</td>\n",
              "      <td>0</td>\n",
              "      <td>0</td>\n",
              "      <td>...</td>\n",
              "      <td>0</td>\n",
              "      <td>0</td>\n",
              "      <td>0</td>\n",
              "      <td>0</td>\n",
              "      <td>0</td>\n",
              "      <td>0</td>\n",
              "      <td>0</td>\n",
              "      <td>0</td>\n",
              "      <td>0</td>\n",
              "      <td>0</td>\n",
              "    </tr>\n",
              "    <tr>\n",
              "      <th>...</th>\n",
              "      <td>...</td>\n",
              "      <td>...</td>\n",
              "      <td>...</td>\n",
              "      <td>...</td>\n",
              "      <td>...</td>\n",
              "      <td>...</td>\n",
              "      <td>...</td>\n",
              "      <td>...</td>\n",
              "      <td>...</td>\n",
              "      <td>...</td>\n",
              "      <td>...</td>\n",
              "      <td>...</td>\n",
              "      <td>...</td>\n",
              "      <td>...</td>\n",
              "      <td>...</td>\n",
              "      <td>...</td>\n",
              "      <td>...</td>\n",
              "      <td>...</td>\n",
              "      <td>...</td>\n",
              "      <td>...</td>\n",
              "      <td>...</td>\n",
              "    </tr>\n",
              "    <tr>\n",
              "      <th>29995</th>\n",
              "      <td>0</td>\n",
              "      <td>0</td>\n",
              "      <td>0</td>\n",
              "      <td>0</td>\n",
              "      <td>0</td>\n",
              "      <td>1</td>\n",
              "      <td>0</td>\n",
              "      <td>1</td>\n",
              "      <td>0</td>\n",
              "      <td>0</td>\n",
              "      <td>...</td>\n",
              "      <td>0</td>\n",
              "      <td>0</td>\n",
              "      <td>0</td>\n",
              "      <td>0</td>\n",
              "      <td>0</td>\n",
              "      <td>0</td>\n",
              "      <td>0</td>\n",
              "      <td>0</td>\n",
              "      <td>0</td>\n",
              "      <td>0</td>\n",
              "    </tr>\n",
              "    <tr>\n",
              "      <th>29996</th>\n",
              "      <td>0</td>\n",
              "      <td>0</td>\n",
              "      <td>0</td>\n",
              "      <td>0</td>\n",
              "      <td>0</td>\n",
              "      <td>0</td>\n",
              "      <td>0</td>\n",
              "      <td>0</td>\n",
              "      <td>0</td>\n",
              "      <td>0</td>\n",
              "      <td>...</td>\n",
              "      <td>0</td>\n",
              "      <td>0</td>\n",
              "      <td>0</td>\n",
              "      <td>0</td>\n",
              "      <td>0</td>\n",
              "      <td>0</td>\n",
              "      <td>0</td>\n",
              "      <td>0</td>\n",
              "      <td>0</td>\n",
              "      <td>0</td>\n",
              "    </tr>\n",
              "    <tr>\n",
              "      <th>29997</th>\n",
              "      <td>0</td>\n",
              "      <td>0</td>\n",
              "      <td>0</td>\n",
              "      <td>0</td>\n",
              "      <td>0</td>\n",
              "      <td>0</td>\n",
              "      <td>0</td>\n",
              "      <td>0</td>\n",
              "      <td>0</td>\n",
              "      <td>0</td>\n",
              "      <td>...</td>\n",
              "      <td>0</td>\n",
              "      <td>0</td>\n",
              "      <td>0</td>\n",
              "      <td>1</td>\n",
              "      <td>0</td>\n",
              "      <td>0</td>\n",
              "      <td>0</td>\n",
              "      <td>0</td>\n",
              "      <td>0</td>\n",
              "      <td>0</td>\n",
              "    </tr>\n",
              "    <tr>\n",
              "      <th>29998</th>\n",
              "      <td>0</td>\n",
              "      <td>0</td>\n",
              "      <td>0</td>\n",
              "      <td>0</td>\n",
              "      <td>0</td>\n",
              "      <td>0</td>\n",
              "      <td>0</td>\n",
              "      <td>1</td>\n",
              "      <td>0</td>\n",
              "      <td>0</td>\n",
              "      <td>...</td>\n",
              "      <td>1</td>\n",
              "      <td>0</td>\n",
              "      <td>0</td>\n",
              "      <td>0</td>\n",
              "      <td>0</td>\n",
              "      <td>0</td>\n",
              "      <td>0</td>\n",
              "      <td>0</td>\n",
              "      <td>0</td>\n",
              "      <td>0</td>\n",
              "    </tr>\n",
              "    <tr>\n",
              "      <th>29999</th>\n",
              "      <td>0</td>\n",
              "      <td>0</td>\n",
              "      <td>0</td>\n",
              "      <td>0</td>\n",
              "      <td>0</td>\n",
              "      <td>0</td>\n",
              "      <td>0</td>\n",
              "      <td>1</td>\n",
              "      <td>0</td>\n",
              "      <td>0</td>\n",
              "      <td>...</td>\n",
              "      <td>0</td>\n",
              "      <td>1</td>\n",
              "      <td>0</td>\n",
              "      <td>1</td>\n",
              "      <td>0</td>\n",
              "      <td>0</td>\n",
              "      <td>0</td>\n",
              "      <td>0</td>\n",
              "      <td>0</td>\n",
              "      <td>0</td>\n",
              "    </tr>\n",
              "  </tbody>\n",
              "</table>\n",
              "<p>30000 rows × 1000 columns</p>\n",
              "</div>\n",
              "    <div class=\"colab-df-buttons\">\n",
              "\n",
              "  <div class=\"colab-df-container\">\n",
              "    <button class=\"colab-df-convert\" onclick=\"convertToInteractive('df-64e7c499-29c0-4525-b89f-8b189447d1f5')\"\n",
              "            title=\"Convert this dataframe to an interactive table.\"\n",
              "            style=\"display:none;\">\n",
              "\n",
              "  <svg xmlns=\"http://www.w3.org/2000/svg\" height=\"24px\" viewBox=\"0 -960 960 960\">\n",
              "    <path d=\"M120-120v-720h720v720H120Zm60-500h600v-160H180v160Zm220 220h160v-160H400v160Zm0 220h160v-160H400v160ZM180-400h160v-160H180v160Zm440 0h160v-160H620v160ZM180-180h160v-160H180v160Zm440 0h160v-160H620v160Z\"/>\n",
              "  </svg>\n",
              "    </button>\n",
              "\n",
              "  <style>\n",
              "    .colab-df-container {\n",
              "      display:flex;\n",
              "      gap: 12px;\n",
              "    }\n",
              "\n",
              "    .colab-df-convert {\n",
              "      background-color: #E8F0FE;\n",
              "      border: none;\n",
              "      border-radius: 50%;\n",
              "      cursor: pointer;\n",
              "      display: none;\n",
              "      fill: #1967D2;\n",
              "      height: 32px;\n",
              "      padding: 0 0 0 0;\n",
              "      width: 32px;\n",
              "    }\n",
              "\n",
              "    .colab-df-convert:hover {\n",
              "      background-color: #E2EBFA;\n",
              "      box-shadow: 0px 1px 2px rgba(60, 64, 67, 0.3), 0px 1px 3px 1px rgba(60, 64, 67, 0.15);\n",
              "      fill: #174EA6;\n",
              "    }\n",
              "\n",
              "    .colab-df-buttons div {\n",
              "      margin-bottom: 4px;\n",
              "    }\n",
              "\n",
              "    [theme=dark] .colab-df-convert {\n",
              "      background-color: #3B4455;\n",
              "      fill: #D2E3FC;\n",
              "    }\n",
              "\n",
              "    [theme=dark] .colab-df-convert:hover {\n",
              "      background-color: #434B5C;\n",
              "      box-shadow: 0px 1px 3px 1px rgba(0, 0, 0, 0.15);\n",
              "      filter: drop-shadow(0px 1px 2px rgba(0, 0, 0, 0.3));\n",
              "      fill: #FFFFFF;\n",
              "    }\n",
              "  </style>\n",
              "\n",
              "    <script>\n",
              "      const buttonEl =\n",
              "        document.querySelector('#df-64e7c499-29c0-4525-b89f-8b189447d1f5 button.colab-df-convert');\n",
              "      buttonEl.style.display =\n",
              "        google.colab.kernel.accessAllowed ? 'block' : 'none';\n",
              "\n",
              "      async function convertToInteractive(key) {\n",
              "        const element = document.querySelector('#df-64e7c499-29c0-4525-b89f-8b189447d1f5');\n",
              "        const dataTable =\n",
              "          await google.colab.kernel.invokeFunction('convertToInteractive',\n",
              "                                                    [key], {});\n",
              "        if (!dataTable) return;\n",
              "\n",
              "        const docLinkHtml = 'Like what you see? Visit the ' +\n",
              "          '<a target=\"_blank\" href=https://colab.research.google.com/notebooks/data_table.ipynb>data table notebook</a>'\n",
              "          + ' to learn more about interactive tables.';\n",
              "        element.innerHTML = '';\n",
              "        dataTable['output_type'] = 'display_data';\n",
              "        await google.colab.output.renderOutput(dataTable, element);\n",
              "        const docLink = document.createElement('div');\n",
              "        docLink.innerHTML = docLinkHtml;\n",
              "        element.appendChild(docLink);\n",
              "      }\n",
              "    </script>\n",
              "  </div>\n",
              "\n",
              "\n",
              "<div id=\"df-cca1a101-740f-4a2b-9512-5e52e44b3bfc\">\n",
              "  <button class=\"colab-df-quickchart\" onclick=\"quickchart('df-cca1a101-740f-4a2b-9512-5e52e44b3bfc')\"\n",
              "            title=\"Suggest charts.\"\n",
              "            style=\"display:none;\">\n",
              "\n",
              "<svg xmlns=\"http://www.w3.org/2000/svg\" height=\"24px\"viewBox=\"0 0 24 24\"\n",
              "     width=\"24px\">\n",
              "    <g>\n",
              "        <path d=\"M19 3H5c-1.1 0-2 .9-2 2v14c0 1.1.9 2 2 2h14c1.1 0 2-.9 2-2V5c0-1.1-.9-2-2-2zM9 17H7v-7h2v7zm4 0h-2V7h2v10zm4 0h-2v-4h2v4z\"/>\n",
              "    </g>\n",
              "</svg>\n",
              "  </button>\n",
              "\n",
              "<style>\n",
              "  .colab-df-quickchart {\n",
              "      --bg-color: #E8F0FE;\n",
              "      --fill-color: #1967D2;\n",
              "      --hover-bg-color: #E2EBFA;\n",
              "      --hover-fill-color: #174EA6;\n",
              "      --disabled-fill-color: #AAA;\n",
              "      --disabled-bg-color: #DDD;\n",
              "  }\n",
              "\n",
              "  [theme=dark] .colab-df-quickchart {\n",
              "      --bg-color: #3B4455;\n",
              "      --fill-color: #D2E3FC;\n",
              "      --hover-bg-color: #434B5C;\n",
              "      --hover-fill-color: #FFFFFF;\n",
              "      --disabled-bg-color: #3B4455;\n",
              "      --disabled-fill-color: #666;\n",
              "  }\n",
              "\n",
              "  .colab-df-quickchart {\n",
              "    background-color: var(--bg-color);\n",
              "    border: none;\n",
              "    border-radius: 50%;\n",
              "    cursor: pointer;\n",
              "    display: none;\n",
              "    fill: var(--fill-color);\n",
              "    height: 32px;\n",
              "    padding: 0;\n",
              "    width: 32px;\n",
              "  }\n",
              "\n",
              "  .colab-df-quickchart:hover {\n",
              "    background-color: var(--hover-bg-color);\n",
              "    box-shadow: 0 1px 2px rgba(60, 64, 67, 0.3), 0 1px 3px 1px rgba(60, 64, 67, 0.15);\n",
              "    fill: var(--button-hover-fill-color);\n",
              "  }\n",
              "\n",
              "  .colab-df-quickchart-complete:disabled,\n",
              "  .colab-df-quickchart-complete:disabled:hover {\n",
              "    background-color: var(--disabled-bg-color);\n",
              "    fill: var(--disabled-fill-color);\n",
              "    box-shadow: none;\n",
              "  }\n",
              "\n",
              "  .colab-df-spinner {\n",
              "    border: 2px solid var(--fill-color);\n",
              "    border-color: transparent;\n",
              "    border-bottom-color: var(--fill-color);\n",
              "    animation:\n",
              "      spin 1s steps(1) infinite;\n",
              "  }\n",
              "\n",
              "  @keyframes spin {\n",
              "    0% {\n",
              "      border-color: transparent;\n",
              "      border-bottom-color: var(--fill-color);\n",
              "      border-left-color: var(--fill-color);\n",
              "    }\n",
              "    20% {\n",
              "      border-color: transparent;\n",
              "      border-left-color: var(--fill-color);\n",
              "      border-top-color: var(--fill-color);\n",
              "    }\n",
              "    30% {\n",
              "      border-color: transparent;\n",
              "      border-left-color: var(--fill-color);\n",
              "      border-top-color: var(--fill-color);\n",
              "      border-right-color: var(--fill-color);\n",
              "    }\n",
              "    40% {\n",
              "      border-color: transparent;\n",
              "      border-right-color: var(--fill-color);\n",
              "      border-top-color: var(--fill-color);\n",
              "    }\n",
              "    60% {\n",
              "      border-color: transparent;\n",
              "      border-right-color: var(--fill-color);\n",
              "    }\n",
              "    80% {\n",
              "      border-color: transparent;\n",
              "      border-right-color: var(--fill-color);\n",
              "      border-bottom-color: var(--fill-color);\n",
              "    }\n",
              "    90% {\n",
              "      border-color: transparent;\n",
              "      border-bottom-color: var(--fill-color);\n",
              "    }\n",
              "  }\n",
              "</style>\n",
              "\n",
              "  <script>\n",
              "    async function quickchart(key) {\n",
              "      const quickchartButtonEl =\n",
              "        document.querySelector('#' + key + ' button');\n",
              "      quickchartButtonEl.disabled = true;  // To prevent multiple clicks.\n",
              "      quickchartButtonEl.classList.add('colab-df-spinner');\n",
              "      try {\n",
              "        const charts = await google.colab.kernel.invokeFunction(\n",
              "            'suggestCharts', [key], {});\n",
              "      } catch (error) {\n",
              "        console.error('Error during call to suggestCharts:', error);\n",
              "      }\n",
              "      quickchartButtonEl.classList.remove('colab-df-spinner');\n",
              "      quickchartButtonEl.classList.add('colab-df-quickchart-complete');\n",
              "    }\n",
              "    (() => {\n",
              "      let quickchartButtonEl =\n",
              "        document.querySelector('#df-cca1a101-740f-4a2b-9512-5e52e44b3bfc button');\n",
              "      quickchartButtonEl.style.display =\n",
              "        google.colab.kernel.accessAllowed ? 'block' : 'none';\n",
              "    })();\n",
              "  </script>\n",
              "</div>\n",
              "    </div>\n",
              "  </div>\n"
            ]
          },
          "metadata": {},
          "execution_count": 50
        }
      ]
    },
    {
      "cell_type": "code",
      "source": [
        "# build model\n",
        "count_mnb = MultinomialNB()\n",
        "count_mnb.fit(count_val_train.A,y_train)\n",
        "predict_count = count_mnb.predict(count_val_test.A)\n",
        "accuracy_count = accuracy_score(y_test,predict_count)*100\n",
        "accuracy_count"
      ],
      "metadata": {
        "colab": {
          "base_uri": "https://localhost:8080/"
        },
        "id": "Rq3S0YHBc7NY",
        "outputId": "2d4a637f-ce2c-420c-fbb6-3175f19b476f"
      },
      "execution_count": null,
      "outputs": [
        {
          "output_type": "execute_result",
          "data": {
            "text/plain": [
              "83.08"
            ]
          },
          "metadata": {},
          "execution_count": 51
        }
      ]
    },
    {
      "cell_type": "code",
      "source": [
        "tfidf = TfidfVectorizer(max_df=0.95,max_features=1000)\n",
        "tfidf_train = tfidf.fit_transform(clean_text_train)\n",
        "tfidf_test = tfidf.transform(clean_text_test)"
      ],
      "metadata": {
        "id": "j0FuIt0Hc9os"
      },
      "execution_count": null,
      "outputs": []
    },
    {
      "cell_type": "code",
      "source": [
        "tfidf_train.A"
      ],
      "metadata": {
        "colab": {
          "base_uri": "https://localhost:8080/"
        },
        "id": "MX9P3UDBc_53",
        "outputId": "0ee3718e-1a31-4a1f-8768-2783058990e7"
      },
      "execution_count": null,
      "outputs": [
        {
          "output_type": "execute_result",
          "data": {
            "text/plain": [
              "array([[0., 0., 0., ..., 0., 0., 0.],\n",
              "       [0., 0., 0., ..., 0., 0., 0.],\n",
              "       [0., 0., 0., ..., 0., 0., 0.],\n",
              "       ...,\n",
              "       [0., 0., 0., ..., 0., 0., 0.],\n",
              "       [0., 0., 0., ..., 0., 0., 0.],\n",
              "       [0., 0., 0., ..., 0., 0., 0.]])"
            ]
          },
          "metadata": {},
          "execution_count": 53
        }
      ]
    },
    {
      "cell_type": "code",
      "source": [
        "tfidf_train"
      ],
      "metadata": {
        "colab": {
          "base_uri": "https://localhost:8080/"
        },
        "id": "MpAt_sUGdDpN",
        "outputId": "67bf810e-29e6-4273-adb5-2811f5fc7473"
      },
      "execution_count": null,
      "outputs": [
        {
          "output_type": "execute_result",
          "data": {
            "text/plain": [
              "<30000x1000 sparse matrix of type '<class 'numpy.float64'>'\n",
              "\twith 1617756 stored elements in Compressed Sparse Row format>"
            ]
          },
          "metadata": {},
          "execution_count": 54
        }
      ]
    },
    {
      "cell_type": "code",
      "source": [
        "tfidf_train.toarray()"
      ],
      "metadata": {
        "colab": {
          "base_uri": "https://localhost:8080/"
        },
        "id": "yTncrFTVdGAc",
        "outputId": "a82d2e4f-1831-4fe4-9364-95569fcaf810"
      },
      "execution_count": null,
      "outputs": [
        {
          "output_type": "execute_result",
          "data": {
            "text/plain": [
              "array([[0., 0., 0., ..., 0., 0., 0.],\n",
              "       [0., 0., 0., ..., 0., 0., 0.],\n",
              "       [0., 0., 0., ..., 0., 0., 0.],\n",
              "       ...,\n",
              "       [0., 0., 0., ..., 0., 0., 0.],\n",
              "       [0., 0., 0., ..., 0., 0., 0.],\n",
              "       [0., 0., 0., ..., 0., 0., 0.]])"
            ]
          },
          "metadata": {},
          "execution_count": 55
        }
      ]
    },
    {
      "cell_type": "code",
      "source": [
        "tfidf.get_feature_names_out()"
      ],
      "metadata": {
        "colab": {
          "base_uri": "https://localhost:8080/"
        },
        "id": "zc2EPxLkdIEX",
        "outputId": "2f09ec0f-d207-4860-f98e-27c348844c10"
      },
      "execution_count": null,
      "outputs": [
        {
          "output_type": "execute_result",
          "data": {
            "text/plain": [
              "array(['ability', 'able', 'absolutely', 'accent', 'across', 'act',\n",
              "       'acted', 'acting', 'action', 'actor', 'actress', 'actual',\n",
              "       'actually', 'adaptation', 'add', 'admit', 'adult', 'adventure',\n",
              "       'age', 'ago', 'agree', 'air', 'alien', 'alive', 'almost', 'alone',\n",
              "       'along', 'already', 'also', 'although', 'always', 'amazing',\n",
              "       'america', 'american', 'among', 'amount', 'animal', 'animation',\n",
              "       'annoying', 'another', 'answer', 'anyone', 'anything', 'anyway',\n",
              "       'apart', 'apparently', 'appeal', 'appear', 'appearance', 'appears',\n",
              "       'appreciate', 'army', 'around', 'art', 'aside', 'ask', 'aspect',\n",
              "       'atmosphere', 'attack', 'attempt', 'attention', 'audience',\n",
              "       'average', 'avoid', 'award', 'away', 'awesome', 'awful', 'baby',\n",
              "       'back', 'background', 'bad', 'badly', 'band', 'barely', 'based',\n",
              "       'basic', 'basically', 'battle', 'beautiful', 'beauty', 'became',\n",
              "       'become', 'becomes', 'begin', 'beginning', 'behind', 'belief',\n",
              "       'believable', 'believe', 'best', 'better', 'beyond', 'big',\n",
              "       'biggest', 'bill', 'bit', 'bizarre', 'black', 'blood', 'blue',\n",
              "       'body', 'book', 'bored', 'boring', 'bother', 'box', 'boy', 'brain',\n",
              "       'break', 'brilliant', 'bring', 'brings', 'british', 'brother',\n",
              "       'brought', 'budget', 'bunch', 'business', 'buy', 'call', 'called',\n",
              "       'came', 'camera', 'camp', 'car', 'care', 'career', 'carry',\n",
              "       'cartoon', 'case', 'cast', 'casting', 'cat', 'catch', 'caught',\n",
              "       'century', 'certain', 'certainly', 'chance', 'change', 'changed',\n",
              "       'channel', 'character', 'chase', 'cheap', 'check', 'cheesy',\n",
              "       'child', 'choice', 'christmas', 'cinema', 'cinematography', 'city',\n",
              "       'class', 'classic', 'clear', 'clearly', 'clever', 'cliche',\n",
              "       'close', 'college', 'color', 'come', 'comedy', 'comic', 'coming',\n",
              "       'comment', 'common', 'company', 'compared', 'complete',\n",
              "       'completely', 'computer', 'concept', 'conclusion', 'consider',\n",
              "       'considering', 'control', 'convincing', 'cool', 'cop', 'copy',\n",
              "       'costume', 'could', 'country', 'couple', 'course', 'cover', 'crap',\n",
              "       'crazy', 'create', 'created', 'creature', 'credit', 'creepy',\n",
              "       'crew', 'crime', 'critic', 'cry', 'culture', 'cut', 'cute',\n",
              "       'dance', 'dancing', 'dark', 'date', 'daughter', 'david', 'day',\n",
              "       'dead', 'deal', 'death', 'decent', 'decide', 'decided', 'decides',\n",
              "       'deep', 'definitely', 'depth', 'deserves', 'despite', 'detail',\n",
              "       'development', 'dialog', 'dialogue', 'die', 'died', 'different',\n",
              "       'difficult', 'directed', 'directing', 'direction', 'director',\n",
              "       'disappointed', 'disney', 'doctor', 'documentary', 'dog', 'done',\n",
              "       'door', 'doubt', 'drama', 'dramatic', 'dream', 'drive', 'drug',\n",
              "       'due', 'dull', 'dumb', 'dvd', 'earlier', 'early', 'earth',\n",
              "       'easily', 'easy', 'editing', 'effect', 'effort', 'either',\n",
              "       'element', 'else', 'emotion', 'emotional', 'end', 'ended',\n",
              "       'ending', 'english', 'enjoy', 'enjoyable', 'enjoyed', 'enough',\n",
              "       'entertaining', 'entertainment', 'entire', 'entirely', 'episode',\n",
              "       'era', 'escape', 'especially', 'etc', 'even', 'event',\n",
              "       'eventually', 'ever', 'every', 'everyone', 'everything', 'evil',\n",
              "       'exactly', 'example', 'excellent', 'except', 'exciting', 'expect',\n",
              "       'expected', 'expecting', 'experience', 'extra', 'extremely', 'eye',\n",
              "       'face', 'fact', 'fails', 'fairly', 'fall', 'familiar', 'family',\n",
              "       'famous', 'fan', 'fantastic', 'fantasy', 'far', 'fast', 'father',\n",
              "       'favorite', 'fear', 'feature', 'feel', 'feeling', 'felt', 'female',\n",
              "       'fight', 'fighting', 'figure', 'filled', 'film', 'filmed',\n",
              "       'filmmaker', 'final', 'finally', 'find', 'fine', 'fire', 'first',\n",
              "       'fit', 'five', 'flat', 'flaw', 'flick', 'focus', 'follow',\n",
              "       'following', 'follows', 'footage', 'force', 'forced', 'forget',\n",
              "       'form', 'former', 'forward', 'found', 'four', 'free', 'french',\n",
              "       'friend', 'front', 'full', 'fun', 'funny', 'future', 'game',\n",
              "       'gang', 'gave', 'gay', 'general', 'genius', 'genre', 'george',\n",
              "       'german', 'get', 'getting', 'ghost', 'girl', 'girlfriend', 'give',\n",
              "       'given', 'giving', 'go', 'god', 'going', 'gone', 'good', 'gore',\n",
              "       'got', 'great', 'greatest', 'group', 'guess', 'gun', 'guy', 'hair',\n",
              "       'half', 'hand', 'happen', 'happened', 'happens', 'happy', 'hard',\n",
              "       'hardly', 'hate', 'head', 'hear', 'heard', 'heart', 'hell', 'help',\n",
              "       'hero', 'high', 'highly', 'hilarious', 'history', 'hit', 'hold',\n",
              "       'hole', 'hollywood', 'home', 'honest', 'hope', 'horrible',\n",
              "       'horror', 'hot', 'hour', 'house', 'however', 'huge', 'human',\n",
              "       'humor', 'humour', 'hurt', 'husband', 'idea', 'image', 'imagine',\n",
              "       'imdb', 'important', 'impressive', 'including', 'incredible',\n",
              "       'incredibly', 'indeed', 'indian', 'inside', 'instead',\n",
              "       'intelligent', 'interest', 'interested', 'interesting', 'involved',\n",
              "       'involving', 'island', 'issue', 'italian', 'jack', 'james', 'jane',\n",
              "       'japanese', 'job', 'joe', 'john', 'joke', 'keep', 'kept', 'kid',\n",
              "       'kill', 'killed', 'killer', 'killing', 'kind', 'king', 'knew',\n",
              "       'know', 'known', 'lack', 'lady', 'lame', 'land', 'language',\n",
              "       'large', 'last', 'late', 'later', 'laugh', 'laughing', 'law', 'le',\n",
              "       'lead', 'leading', 'leaf', 'learn', 'least', 'leave', 'lee',\n",
              "       'left', 'let', 'level', 'lie', 'life', 'light', 'like', 'liked',\n",
              "       'line', 'list', 'little', 'live', 'living', 'local', 'location',\n",
              "       'long', 'longer', 'look', 'looked', 'looking', 'lost', 'lot',\n",
              "       'love', 'loved', 'lover', 'low', 'mad', 'made', 'main', 'major',\n",
              "       'make', 'maker', 'making', 'male', 'man', 'manages', 'many',\n",
              "       'mark', 'married', 'master', 'masterpiece', 'match', 'material',\n",
              "       'matter', 'may', 'maybe', 'mean', 'meaning', 'meant', 'meet',\n",
              "       'member', 'memorable', 'memory', 'men', 'mention', 'mentioned',\n",
              "       'mess', 'message', 'michael', 'middle', 'might', 'million', 'mind',\n",
              "       'minute', 'miss', 'missed', 'missing', 'mistake', 'modern',\n",
              "       'moment', 'money', 'monster', 'mostly', 'mother', 'move', 'movie',\n",
              "       'moving', 'much', 'murder', 'music', 'musical', 'must', 'mystery',\n",
              "       'name', 'named', 'nature', 'near', 'nearly', 'need', 'needed',\n",
              "       'neither', 'never', 'new', 'next', 'nice', 'night', 'none', 'nor',\n",
              "       'not', 'note', 'nothing', 'novel', 'nudity', 'number', 'obvious',\n",
              "       'obviously', 'odd', 'offer', 'office', 'often', 'okay', 'old',\n",
              "       'older', 'one', 'open', 'opening', 'opinion', 'opportunity',\n",
              "       'order', 'original', 'oscar', 'others', 'otherwise', 'outside',\n",
              "       'overall', 'pace', 'parent', 'park', 'part', 'particular',\n",
              "       'particularly', 'party', 'past', 'pathetic', 'paul', 'pay',\n",
              "       'people', 'perfect', 'perfectly', 'performance', 'perhaps',\n",
              "       'period', 'person', 'personal', 'peter', 'pick', 'picture',\n",
              "       'piece', 'place', 'plain', 'plan', 'play', 'played', 'player',\n",
              "       'playing', 'please', 'plenty', 'plot', 'plus', 'point',\n",
              "       'pointless', 'police', 'political', 'poor', 'poorly', 'popular',\n",
              "       'portrayal', 'portrayed', 'positive', 'possible', 'possibly',\n",
              "       'potential', 'power', 'powerful', 'predictable', 'premise',\n",
              "       'present', 'pretty', 'previous', 'prison', 'probably', 'problem',\n",
              "       'produced', 'producer', 'production', 'project', 'public', 'pull',\n",
              "       'pure', 'purpose', 'put', 'quality', 'question', 'quickly',\n",
              "       'quite', 'rate', 'rather', 'rating', 'read', 'reading', 'real',\n",
              "       'realistic', 'reality', 'realize', 'really', 'reason', 'recent',\n",
              "       'recently', 'recommend', 'recommended', 'red', 'relationship',\n",
              "       'release', 'released', 'remake', 'remember', 'rent', 'respect',\n",
              "       'rest', 'result', 'return', 'review', 'reviewer', 'rich',\n",
              "       'richard', 'ride', 'ridiculous', 'right', 'ring', 'road', 'robert',\n",
              "       'rock', 'role', 'romance', 'romantic', 'room', 'run', 'running',\n",
              "       'sad', 'sadly', 'said', 'save', 'saw', 'say', 'saying', 'scary',\n",
              "       'scene', 'school', 'science', 'scientist', 'score', 'scott',\n",
              "       'screen', 'screenplay', 'script', 'season', 'second', 'secret',\n",
              "       'see', 'seeing', 'seem', 'seemed', 'seems', 'seen', 'sense',\n",
              "       'sequel', 'sequence', 'series', 'serious', 'seriously', 'set',\n",
              "       'setting', 'several', 'sex', 'sexual', 'shame', 'ship', 'shoot',\n",
              "       'shooting', 'short', 'shot', 'show', 'showing', 'shown', 'sick',\n",
              "       'side', 'silly', 'similar', 'simple', 'simply', 'since', 'singing',\n",
              "       'single', 'sister', 'sit', 'situation', 'slightly', 'slow',\n",
              "       'small', 'society', 'soldier', 'solid', 'somehow', 'someone',\n",
              "       'something', 'sometimes', 'somewhat', 'son', 'song', 'soon',\n",
              "       'sorry', 'sort', 'soul', 'sound', 'soundtrack', 'space', 'speak',\n",
              "       'special', 'spend', 'spent', 'spirit', 'spoiler', 'spot', 'stage',\n",
              "       'stand', 'standard', 'star', 'start', 'started', 'state', 'stay',\n",
              "       'stick', 'still', 'stop', 'store', 'story', 'storyline',\n",
              "       'straight', 'strange', 'street', 'strong', 'student', 'studio',\n",
              "       'stuff', 'stupid', 'style', 'subject', 'success', 'successful',\n",
              "       'suck', 'suddenly', 'superb', 'supporting', 'supposed', 'sure',\n",
              "       'surprise', 'surprised', 'suspense', 'sweet', 'take', 'taken',\n",
              "       'taking', 'tale', 'talent', 'talented', 'talk', 'talking', 'taste',\n",
              "       'team', 'teen', 'teenager', 'television', 'tell', 'telling', 'ten',\n",
              "       'tension', 'term', 'terrible', 'thanks', 'theater', 'theme',\n",
              "       'thing', 'think', 'thinking', 'third', 'though', 'thought',\n",
              "       'three', 'thriller', 'throughout', 'throw', 'time', 'title',\n",
              "       'today', 'together', 'told', 'tom', 'tone', 'took', 'top', 'total',\n",
              "       'totally', 'touch', 'towards', 'town', 'track', 'trailer', 'train',\n",
              "       'tried', 'trip', 'trouble', 'true', 'truly', 'truth', 'try',\n",
              "       'trying', 'turn', 'turned', 'twist', 'two', 'type', 'typical',\n",
              "       'ultimately', 'understand', 'unfortunately', 'unique', 'unless',\n",
              "       'unlike', 'upon', 'us', 'use', 'used', 'using', 'usual', 'usually',\n",
              "       'value', 'vampire', 'van', 'various', 'version', 'victim', 'video',\n",
              "       'view', 'viewer', 'viewing', 'villain', 'violence', 'violent',\n",
              "       'visual', 'voice', 'wait', 'waiting', 'walk', 'want', 'wanted',\n",
              "       'war', 'waste', 'wasted', 'watch', 'watched', 'watching', 'water',\n",
              "       'way', 'weak', 'week', 'weird', 'well', 'went', 'western',\n",
              "       'whatever', 'whether', 'white', 'whole', 'whose', 'wife',\n",
              "       'william', 'win', 'wish', 'within', 'without', 'woman', 'wonder',\n",
              "       'wonderful', 'wood', 'word', 'work', 'worked', 'working', 'world',\n",
              "       'worse', 'worst', 'worth', 'would', 'write', 'writer', 'writing',\n",
              "       'written', 'wrong', 'wrote', 'yeah', 'year', 'yes', 'yet', 'york',\n",
              "       'young', 'younger', 'zombie'], dtype=object)"
            ]
          },
          "metadata": {},
          "execution_count": 56
        }
      ]
    },
    {
      "cell_type": "code",
      "source": [
        "len(tfidf.get_feature_names_out())"
      ],
      "metadata": {
        "colab": {
          "base_uri": "https://localhost:8080/"
        },
        "id": "QGg0aFyCdKFF",
        "outputId": "632571ef-8f29-4246-a97c-a9db8d64f018"
      },
      "execution_count": null,
      "outputs": [
        {
          "output_type": "execute_result",
          "data": {
            "text/plain": [
              "1000"
            ]
          },
          "metadata": {},
          "execution_count": 57
        }
      ]
    },
    {
      "cell_type": "code",
      "source": [
        "pd.DataFrame(tfidf_train.A,columns=tfidf.get_feature_names_out())"
      ],
      "metadata": {
        "colab": {
          "base_uri": "https://localhost:8080/",
          "height": 443
        },
        "id": "CsO_iL4SdNDX",
        "outputId": "b9e891c2-f368-4308-a68f-3361e57253ff"
      },
      "execution_count": null,
      "outputs": [
        {
          "output_type": "execute_result",
          "data": {
            "text/plain": [
              "       ability  able  absolutely    accent  across       act  acted    acting  \\\n",
              "0          0.0   0.0    0.000000  0.000000     0.0  0.000000    0.0  0.182468   \n",
              "1          0.0   0.0    0.000000  0.000000     0.0  0.000000    0.0  0.000000   \n",
              "2          0.0   0.0    0.000000  0.000000     0.0  0.000000    0.0  0.000000   \n",
              "3          0.0   0.0    0.000000  0.137926     0.0  0.000000    0.0  0.000000   \n",
              "4          0.0   0.0    0.321531  0.000000     0.0  0.000000    0.0  0.000000   \n",
              "...        ...   ...         ...       ...     ...       ...    ...       ...   \n",
              "29995      0.0   0.0    0.000000  0.000000     0.0  0.135608    0.0  0.088057   \n",
              "29996      0.0   0.0    0.000000  0.000000     0.0  0.000000    0.0  0.000000   \n",
              "29997      0.0   0.0    0.000000  0.000000     0.0  0.000000    0.0  0.000000   \n",
              "29998      0.0   0.0    0.000000  0.000000     0.0  0.000000    0.0  0.050570   \n",
              "29999      0.0   0.0    0.000000  0.000000     0.0  0.000000    0.0  0.097604   \n",
              "\n",
              "       action  actor  ...    wrong     wrote  yeah      year  yes  yet  york  \\\n",
              "0         0.0    0.0  ...  0.00000  0.000000   0.0  0.000000  0.0  0.0   0.0   \n",
              "1         0.0    0.0  ...  0.00000  0.000000   0.0  0.000000  0.0  0.0   0.0   \n",
              "2         0.0    0.0  ...  0.00000  0.000000   0.0  0.055835  0.0  0.0   0.0   \n",
              "3         0.0    0.0  ...  0.00000  0.000000   0.0  0.000000  0.0  0.0   0.0   \n",
              "4         0.0    0.0  ...  0.00000  0.000000   0.0  0.000000  0.0  0.0   0.0   \n",
              "...       ...    ...  ...      ...       ...   ...       ...  ...  ...   ...   \n",
              "29995     0.0    0.0  ...  0.00000  0.000000   0.0  0.000000  0.0  0.0   0.0   \n",
              "29996     0.0    0.0  ...  0.00000  0.000000   0.0  0.000000  0.0  0.0   0.0   \n",
              "29997     0.0    0.0  ...  0.00000  0.000000   0.0  0.074143  0.0  0.0   0.0   \n",
              "29998     0.0    0.0  ...  0.07508  0.000000   0.0  0.000000  0.0  0.0   0.0   \n",
              "29999     0.0    0.0  ...  0.00000  0.189091   0.0  0.102630  0.0  0.0   0.0   \n",
              "\n",
              "       young  younger  zombie  \n",
              "0        0.0      0.0     0.0  \n",
              "1        0.0      0.0     0.0  \n",
              "2        0.0      0.0     0.0  \n",
              "3        0.0      0.0     0.0  \n",
              "4        0.0      0.0     0.0  \n",
              "...      ...      ...     ...  \n",
              "29995    0.0      0.0     0.0  \n",
              "29996    0.0      0.0     0.0  \n",
              "29997    0.0      0.0     0.0  \n",
              "29998    0.0      0.0     0.0  \n",
              "29999    0.0      0.0     0.0  \n",
              "\n",
              "[30000 rows x 1000 columns]"
            ],
            "text/html": [
              "\n",
              "  <div id=\"df-5546d046-32fd-4873-b78e-09f7b9338fc5\" class=\"colab-df-container\">\n",
              "    <div>\n",
              "<style scoped>\n",
              "    .dataframe tbody tr th:only-of-type {\n",
              "        vertical-align: middle;\n",
              "    }\n",
              "\n",
              "    .dataframe tbody tr th {\n",
              "        vertical-align: top;\n",
              "    }\n",
              "\n",
              "    .dataframe thead th {\n",
              "        text-align: right;\n",
              "    }\n",
              "</style>\n",
              "<table border=\"1\" class=\"dataframe\">\n",
              "  <thead>\n",
              "    <tr style=\"text-align: right;\">\n",
              "      <th></th>\n",
              "      <th>ability</th>\n",
              "      <th>able</th>\n",
              "      <th>absolutely</th>\n",
              "      <th>accent</th>\n",
              "      <th>across</th>\n",
              "      <th>act</th>\n",
              "      <th>acted</th>\n",
              "      <th>acting</th>\n",
              "      <th>action</th>\n",
              "      <th>actor</th>\n",
              "      <th>...</th>\n",
              "      <th>wrong</th>\n",
              "      <th>wrote</th>\n",
              "      <th>yeah</th>\n",
              "      <th>year</th>\n",
              "      <th>yes</th>\n",
              "      <th>yet</th>\n",
              "      <th>york</th>\n",
              "      <th>young</th>\n",
              "      <th>younger</th>\n",
              "      <th>zombie</th>\n",
              "    </tr>\n",
              "  </thead>\n",
              "  <tbody>\n",
              "    <tr>\n",
              "      <th>0</th>\n",
              "      <td>0.0</td>\n",
              "      <td>0.0</td>\n",
              "      <td>0.000000</td>\n",
              "      <td>0.000000</td>\n",
              "      <td>0.0</td>\n",
              "      <td>0.000000</td>\n",
              "      <td>0.0</td>\n",
              "      <td>0.182468</td>\n",
              "      <td>0.0</td>\n",
              "      <td>0.0</td>\n",
              "      <td>...</td>\n",
              "      <td>0.00000</td>\n",
              "      <td>0.000000</td>\n",
              "      <td>0.0</td>\n",
              "      <td>0.000000</td>\n",
              "      <td>0.0</td>\n",
              "      <td>0.0</td>\n",
              "      <td>0.0</td>\n",
              "      <td>0.0</td>\n",
              "      <td>0.0</td>\n",
              "      <td>0.0</td>\n",
              "    </tr>\n",
              "    <tr>\n",
              "      <th>1</th>\n",
              "      <td>0.0</td>\n",
              "      <td>0.0</td>\n",
              "      <td>0.000000</td>\n",
              "      <td>0.000000</td>\n",
              "      <td>0.0</td>\n",
              "      <td>0.000000</td>\n",
              "      <td>0.0</td>\n",
              "      <td>0.000000</td>\n",
              "      <td>0.0</td>\n",
              "      <td>0.0</td>\n",
              "      <td>...</td>\n",
              "      <td>0.00000</td>\n",
              "      <td>0.000000</td>\n",
              "      <td>0.0</td>\n",
              "      <td>0.000000</td>\n",
              "      <td>0.0</td>\n",
              "      <td>0.0</td>\n",
              "      <td>0.0</td>\n",
              "      <td>0.0</td>\n",
              "      <td>0.0</td>\n",
              "      <td>0.0</td>\n",
              "    </tr>\n",
              "    <tr>\n",
              "      <th>2</th>\n",
              "      <td>0.0</td>\n",
              "      <td>0.0</td>\n",
              "      <td>0.000000</td>\n",
              "      <td>0.000000</td>\n",
              "      <td>0.0</td>\n",
              "      <td>0.000000</td>\n",
              "      <td>0.0</td>\n",
              "      <td>0.000000</td>\n",
              "      <td>0.0</td>\n",
              "      <td>0.0</td>\n",
              "      <td>...</td>\n",
              "      <td>0.00000</td>\n",
              "      <td>0.000000</td>\n",
              "      <td>0.0</td>\n",
              "      <td>0.055835</td>\n",
              "      <td>0.0</td>\n",
              "      <td>0.0</td>\n",
              "      <td>0.0</td>\n",
              "      <td>0.0</td>\n",
              "      <td>0.0</td>\n",
              "      <td>0.0</td>\n",
              "    </tr>\n",
              "    <tr>\n",
              "      <th>3</th>\n",
              "      <td>0.0</td>\n",
              "      <td>0.0</td>\n",
              "      <td>0.000000</td>\n",
              "      <td>0.137926</td>\n",
              "      <td>0.0</td>\n",
              "      <td>0.000000</td>\n",
              "      <td>0.0</td>\n",
              "      <td>0.000000</td>\n",
              "      <td>0.0</td>\n",
              "      <td>0.0</td>\n",
              "      <td>...</td>\n",
              "      <td>0.00000</td>\n",
              "      <td>0.000000</td>\n",
              "      <td>0.0</td>\n",
              "      <td>0.000000</td>\n",
              "      <td>0.0</td>\n",
              "      <td>0.0</td>\n",
              "      <td>0.0</td>\n",
              "      <td>0.0</td>\n",
              "      <td>0.0</td>\n",
              "      <td>0.0</td>\n",
              "    </tr>\n",
              "    <tr>\n",
              "      <th>4</th>\n",
              "      <td>0.0</td>\n",
              "      <td>0.0</td>\n",
              "      <td>0.321531</td>\n",
              "      <td>0.000000</td>\n",
              "      <td>0.0</td>\n",
              "      <td>0.000000</td>\n",
              "      <td>0.0</td>\n",
              "      <td>0.000000</td>\n",
              "      <td>0.0</td>\n",
              "      <td>0.0</td>\n",
              "      <td>...</td>\n",
              "      <td>0.00000</td>\n",
              "      <td>0.000000</td>\n",
              "      <td>0.0</td>\n",
              "      <td>0.000000</td>\n",
              "      <td>0.0</td>\n",
              "      <td>0.0</td>\n",
              "      <td>0.0</td>\n",
              "      <td>0.0</td>\n",
              "      <td>0.0</td>\n",
              "      <td>0.0</td>\n",
              "    </tr>\n",
              "    <tr>\n",
              "      <th>...</th>\n",
              "      <td>...</td>\n",
              "      <td>...</td>\n",
              "      <td>...</td>\n",
              "      <td>...</td>\n",
              "      <td>...</td>\n",
              "      <td>...</td>\n",
              "      <td>...</td>\n",
              "      <td>...</td>\n",
              "      <td>...</td>\n",
              "      <td>...</td>\n",
              "      <td>...</td>\n",
              "      <td>...</td>\n",
              "      <td>...</td>\n",
              "      <td>...</td>\n",
              "      <td>...</td>\n",
              "      <td>...</td>\n",
              "      <td>...</td>\n",
              "      <td>...</td>\n",
              "      <td>...</td>\n",
              "      <td>...</td>\n",
              "      <td>...</td>\n",
              "    </tr>\n",
              "    <tr>\n",
              "      <th>29995</th>\n",
              "      <td>0.0</td>\n",
              "      <td>0.0</td>\n",
              "      <td>0.000000</td>\n",
              "      <td>0.000000</td>\n",
              "      <td>0.0</td>\n",
              "      <td>0.135608</td>\n",
              "      <td>0.0</td>\n",
              "      <td>0.088057</td>\n",
              "      <td>0.0</td>\n",
              "      <td>0.0</td>\n",
              "      <td>...</td>\n",
              "      <td>0.00000</td>\n",
              "      <td>0.000000</td>\n",
              "      <td>0.0</td>\n",
              "      <td>0.000000</td>\n",
              "      <td>0.0</td>\n",
              "      <td>0.0</td>\n",
              "      <td>0.0</td>\n",
              "      <td>0.0</td>\n",
              "      <td>0.0</td>\n",
              "      <td>0.0</td>\n",
              "    </tr>\n",
              "    <tr>\n",
              "      <th>29996</th>\n",
              "      <td>0.0</td>\n",
              "      <td>0.0</td>\n",
              "      <td>0.000000</td>\n",
              "      <td>0.000000</td>\n",
              "      <td>0.0</td>\n",
              "      <td>0.000000</td>\n",
              "      <td>0.0</td>\n",
              "      <td>0.000000</td>\n",
              "      <td>0.0</td>\n",
              "      <td>0.0</td>\n",
              "      <td>...</td>\n",
              "      <td>0.00000</td>\n",
              "      <td>0.000000</td>\n",
              "      <td>0.0</td>\n",
              "      <td>0.000000</td>\n",
              "      <td>0.0</td>\n",
              "      <td>0.0</td>\n",
              "      <td>0.0</td>\n",
              "      <td>0.0</td>\n",
              "      <td>0.0</td>\n",
              "      <td>0.0</td>\n",
              "    </tr>\n",
              "    <tr>\n",
              "      <th>29997</th>\n",
              "      <td>0.0</td>\n",
              "      <td>0.0</td>\n",
              "      <td>0.000000</td>\n",
              "      <td>0.000000</td>\n",
              "      <td>0.0</td>\n",
              "      <td>0.000000</td>\n",
              "      <td>0.0</td>\n",
              "      <td>0.000000</td>\n",
              "      <td>0.0</td>\n",
              "      <td>0.0</td>\n",
              "      <td>...</td>\n",
              "      <td>0.00000</td>\n",
              "      <td>0.000000</td>\n",
              "      <td>0.0</td>\n",
              "      <td>0.074143</td>\n",
              "      <td>0.0</td>\n",
              "      <td>0.0</td>\n",
              "      <td>0.0</td>\n",
              "      <td>0.0</td>\n",
              "      <td>0.0</td>\n",
              "      <td>0.0</td>\n",
              "    </tr>\n",
              "    <tr>\n",
              "      <th>29998</th>\n",
              "      <td>0.0</td>\n",
              "      <td>0.0</td>\n",
              "      <td>0.000000</td>\n",
              "      <td>0.000000</td>\n",
              "      <td>0.0</td>\n",
              "      <td>0.000000</td>\n",
              "      <td>0.0</td>\n",
              "      <td>0.050570</td>\n",
              "      <td>0.0</td>\n",
              "      <td>0.0</td>\n",
              "      <td>...</td>\n",
              "      <td>0.07508</td>\n",
              "      <td>0.000000</td>\n",
              "      <td>0.0</td>\n",
              "      <td>0.000000</td>\n",
              "      <td>0.0</td>\n",
              "      <td>0.0</td>\n",
              "      <td>0.0</td>\n",
              "      <td>0.0</td>\n",
              "      <td>0.0</td>\n",
              "      <td>0.0</td>\n",
              "    </tr>\n",
              "    <tr>\n",
              "      <th>29999</th>\n",
              "      <td>0.0</td>\n",
              "      <td>0.0</td>\n",
              "      <td>0.000000</td>\n",
              "      <td>0.000000</td>\n",
              "      <td>0.0</td>\n",
              "      <td>0.000000</td>\n",
              "      <td>0.0</td>\n",
              "      <td>0.097604</td>\n",
              "      <td>0.0</td>\n",
              "      <td>0.0</td>\n",
              "      <td>...</td>\n",
              "      <td>0.00000</td>\n",
              "      <td>0.189091</td>\n",
              "      <td>0.0</td>\n",
              "      <td>0.102630</td>\n",
              "      <td>0.0</td>\n",
              "      <td>0.0</td>\n",
              "      <td>0.0</td>\n",
              "      <td>0.0</td>\n",
              "      <td>0.0</td>\n",
              "      <td>0.0</td>\n",
              "    </tr>\n",
              "  </tbody>\n",
              "</table>\n",
              "<p>30000 rows × 1000 columns</p>\n",
              "</div>\n",
              "    <div class=\"colab-df-buttons\">\n",
              "\n",
              "  <div class=\"colab-df-container\">\n",
              "    <button class=\"colab-df-convert\" onclick=\"convertToInteractive('df-5546d046-32fd-4873-b78e-09f7b9338fc5')\"\n",
              "            title=\"Convert this dataframe to an interactive table.\"\n",
              "            style=\"display:none;\">\n",
              "\n",
              "  <svg xmlns=\"http://www.w3.org/2000/svg\" height=\"24px\" viewBox=\"0 -960 960 960\">\n",
              "    <path d=\"M120-120v-720h720v720H120Zm60-500h600v-160H180v160Zm220 220h160v-160H400v160Zm0 220h160v-160H400v160ZM180-400h160v-160H180v160Zm440 0h160v-160H620v160ZM180-180h160v-160H180v160Zm440 0h160v-160H620v160Z\"/>\n",
              "  </svg>\n",
              "    </button>\n",
              "\n",
              "  <style>\n",
              "    .colab-df-container {\n",
              "      display:flex;\n",
              "      gap: 12px;\n",
              "    }\n",
              "\n",
              "    .colab-df-convert {\n",
              "      background-color: #E8F0FE;\n",
              "      border: none;\n",
              "      border-radius: 50%;\n",
              "      cursor: pointer;\n",
              "      display: none;\n",
              "      fill: #1967D2;\n",
              "      height: 32px;\n",
              "      padding: 0 0 0 0;\n",
              "      width: 32px;\n",
              "    }\n",
              "\n",
              "    .colab-df-convert:hover {\n",
              "      background-color: #E2EBFA;\n",
              "      box-shadow: 0px 1px 2px rgba(60, 64, 67, 0.3), 0px 1px 3px 1px rgba(60, 64, 67, 0.15);\n",
              "      fill: #174EA6;\n",
              "    }\n",
              "\n",
              "    .colab-df-buttons div {\n",
              "      margin-bottom: 4px;\n",
              "    }\n",
              "\n",
              "    [theme=dark] .colab-df-convert {\n",
              "      background-color: #3B4455;\n",
              "      fill: #D2E3FC;\n",
              "    }\n",
              "\n",
              "    [theme=dark] .colab-df-convert:hover {\n",
              "      background-color: #434B5C;\n",
              "      box-shadow: 0px 1px 3px 1px rgba(0, 0, 0, 0.15);\n",
              "      filter: drop-shadow(0px 1px 2px rgba(0, 0, 0, 0.3));\n",
              "      fill: #FFFFFF;\n",
              "    }\n",
              "  </style>\n",
              "\n",
              "    <script>\n",
              "      const buttonEl =\n",
              "        document.querySelector('#df-5546d046-32fd-4873-b78e-09f7b9338fc5 button.colab-df-convert');\n",
              "      buttonEl.style.display =\n",
              "        google.colab.kernel.accessAllowed ? 'block' : 'none';\n",
              "\n",
              "      async function convertToInteractive(key) {\n",
              "        const element = document.querySelector('#df-5546d046-32fd-4873-b78e-09f7b9338fc5');\n",
              "        const dataTable =\n",
              "          await google.colab.kernel.invokeFunction('convertToInteractive',\n",
              "                                                    [key], {});\n",
              "        if (!dataTable) return;\n",
              "\n",
              "        const docLinkHtml = 'Like what you see? Visit the ' +\n",
              "          '<a target=\"_blank\" href=https://colab.research.google.com/notebooks/data_table.ipynb>data table notebook</a>'\n",
              "          + ' to learn more about interactive tables.';\n",
              "        element.innerHTML = '';\n",
              "        dataTable['output_type'] = 'display_data';\n",
              "        await google.colab.output.renderOutput(dataTable, element);\n",
              "        const docLink = document.createElement('div');\n",
              "        docLink.innerHTML = docLinkHtml;\n",
              "        element.appendChild(docLink);\n",
              "      }\n",
              "    </script>\n",
              "  </div>\n",
              "\n",
              "\n",
              "<div id=\"df-42b4afc7-83d9-4277-8e18-70ce9511cb1a\">\n",
              "  <button class=\"colab-df-quickchart\" onclick=\"quickchart('df-42b4afc7-83d9-4277-8e18-70ce9511cb1a')\"\n",
              "            title=\"Suggest charts.\"\n",
              "            style=\"display:none;\">\n",
              "\n",
              "<svg xmlns=\"http://www.w3.org/2000/svg\" height=\"24px\"viewBox=\"0 0 24 24\"\n",
              "     width=\"24px\">\n",
              "    <g>\n",
              "        <path d=\"M19 3H5c-1.1 0-2 .9-2 2v14c0 1.1.9 2 2 2h14c1.1 0 2-.9 2-2V5c0-1.1-.9-2-2-2zM9 17H7v-7h2v7zm4 0h-2V7h2v10zm4 0h-2v-4h2v4z\"/>\n",
              "    </g>\n",
              "</svg>\n",
              "  </button>\n",
              "\n",
              "<style>\n",
              "  .colab-df-quickchart {\n",
              "      --bg-color: #E8F0FE;\n",
              "      --fill-color: #1967D2;\n",
              "      --hover-bg-color: #E2EBFA;\n",
              "      --hover-fill-color: #174EA6;\n",
              "      --disabled-fill-color: #AAA;\n",
              "      --disabled-bg-color: #DDD;\n",
              "  }\n",
              "\n",
              "  [theme=dark] .colab-df-quickchart {\n",
              "      --bg-color: #3B4455;\n",
              "      --fill-color: #D2E3FC;\n",
              "      --hover-bg-color: #434B5C;\n",
              "      --hover-fill-color: #FFFFFF;\n",
              "      --disabled-bg-color: #3B4455;\n",
              "      --disabled-fill-color: #666;\n",
              "  }\n",
              "\n",
              "  .colab-df-quickchart {\n",
              "    background-color: var(--bg-color);\n",
              "    border: none;\n",
              "    border-radius: 50%;\n",
              "    cursor: pointer;\n",
              "    display: none;\n",
              "    fill: var(--fill-color);\n",
              "    height: 32px;\n",
              "    padding: 0;\n",
              "    width: 32px;\n",
              "  }\n",
              "\n",
              "  .colab-df-quickchart:hover {\n",
              "    background-color: var(--hover-bg-color);\n",
              "    box-shadow: 0 1px 2px rgba(60, 64, 67, 0.3), 0 1px 3px 1px rgba(60, 64, 67, 0.15);\n",
              "    fill: var(--button-hover-fill-color);\n",
              "  }\n",
              "\n",
              "  .colab-df-quickchart-complete:disabled,\n",
              "  .colab-df-quickchart-complete:disabled:hover {\n",
              "    background-color: var(--disabled-bg-color);\n",
              "    fill: var(--disabled-fill-color);\n",
              "    box-shadow: none;\n",
              "  }\n",
              "\n",
              "  .colab-df-spinner {\n",
              "    border: 2px solid var(--fill-color);\n",
              "    border-color: transparent;\n",
              "    border-bottom-color: var(--fill-color);\n",
              "    animation:\n",
              "      spin 1s steps(1) infinite;\n",
              "  }\n",
              "\n",
              "  @keyframes spin {\n",
              "    0% {\n",
              "      border-color: transparent;\n",
              "      border-bottom-color: var(--fill-color);\n",
              "      border-left-color: var(--fill-color);\n",
              "    }\n",
              "    20% {\n",
              "      border-color: transparent;\n",
              "      border-left-color: var(--fill-color);\n",
              "      border-top-color: var(--fill-color);\n",
              "    }\n",
              "    30% {\n",
              "      border-color: transparent;\n",
              "      border-left-color: var(--fill-color);\n",
              "      border-top-color: var(--fill-color);\n",
              "      border-right-color: var(--fill-color);\n",
              "    }\n",
              "    40% {\n",
              "      border-color: transparent;\n",
              "      border-right-color: var(--fill-color);\n",
              "      border-top-color: var(--fill-color);\n",
              "    }\n",
              "    60% {\n",
              "      border-color: transparent;\n",
              "      border-right-color: var(--fill-color);\n",
              "    }\n",
              "    80% {\n",
              "      border-color: transparent;\n",
              "      border-right-color: var(--fill-color);\n",
              "      border-bottom-color: var(--fill-color);\n",
              "    }\n",
              "    90% {\n",
              "      border-color: transparent;\n",
              "      border-bottom-color: var(--fill-color);\n",
              "    }\n",
              "  }\n",
              "</style>\n",
              "\n",
              "  <script>\n",
              "    async function quickchart(key) {\n",
              "      const quickchartButtonEl =\n",
              "        document.querySelector('#' + key + ' button');\n",
              "      quickchartButtonEl.disabled = true;  // To prevent multiple clicks.\n",
              "      quickchartButtonEl.classList.add('colab-df-spinner');\n",
              "      try {\n",
              "        const charts = await google.colab.kernel.invokeFunction(\n",
              "            'suggestCharts', [key], {});\n",
              "      } catch (error) {\n",
              "        console.error('Error during call to suggestCharts:', error);\n",
              "      }\n",
              "      quickchartButtonEl.classList.remove('colab-df-spinner');\n",
              "      quickchartButtonEl.classList.add('colab-df-quickchart-complete');\n",
              "    }\n",
              "    (() => {\n",
              "      let quickchartButtonEl =\n",
              "        document.querySelector('#df-42b4afc7-83d9-4277-8e18-70ce9511cb1a button');\n",
              "      quickchartButtonEl.style.display =\n",
              "        google.colab.kernel.accessAllowed ? 'block' : 'none';\n",
              "    })();\n",
              "  </script>\n",
              "</div>\n",
              "    </div>\n",
              "  </div>\n"
            ]
          },
          "metadata": {},
          "execution_count": 58
        }
      ]
    },
    {
      "cell_type": "code",
      "source": [
        "tfidf_mnb = MultinomialNB()\n",
        "tfidf_mnb.fit(tfidf_train.A,y_train)\n",
        "predict_tfidf=tfidf_mnb.predict(tfidf_test.A)\n",
        "accuracy_tfidf = accuracy_score(y_test,predict_tfidf)*100\n",
        "accuracy_tfidf"
      ],
      "metadata": {
        "colab": {
          "base_uri": "https://localhost:8080/"
        },
        "id": "RSvi06zCdPMl",
        "outputId": "8f0a0315-48d9-4eef-a346-d41307da87f4"
      },
      "execution_count": null,
      "outputs": [
        {
          "output_type": "execute_result",
          "data": {
            "text/plain": [
              "83.67"
            ]
          },
          "metadata": {},
          "execution_count": 60
        }
      ]
    },
    {
      "cell_type": "code",
      "source": [
        "accuracy_count"
      ],
      "metadata": {
        "colab": {
          "base_uri": "https://localhost:8080/"
        },
        "id": "7yoT_50hdTcp",
        "outputId": "d87f8a5b-6878-43de-d0ca-948ddbbdda73"
      },
      "execution_count": null,
      "outputs": [
        {
          "output_type": "execute_result",
          "data": {
            "text/plain": [
              "83.08"
            ]
          },
          "metadata": {},
          "execution_count": 61
        }
      ]
    },
    {
      "cell_type": "code",
      "source": [
        "from nltk.util import ngrams\n",
        "# [w1 w2 w3]\n",
        "def splitting_dataframe(data):\n",
        "    tokens = data.split()\n",
        "    return tokens\n",
        "\n",
        "data = clean_text_test.apply(splitting_dataframe)\n",
        "\n",
        "def ngram_list(data,ngram_range):\n",
        "    ngram = ngrams(data,ngram_range) # zip file\n",
        "    ngram_list1 = []\n",
        "    for ngram1 in ngram: #opening the zip file\n",
        "        ngram_list1.append(' '.join(ngram1))\n",
        "    return ngram_list1"
      ],
      "metadata": {
        "id": "V3bj64TndY0q"
      },
      "execution_count": null,
      "outputs": []
    },
    {
      "cell_type": "code",
      "source": [
        "unigrams = data.apply(lambda x : ngram_list(x,1)) # x >> single review\n",
        "unigrams"
      ],
      "metadata": {
        "id": "Fa8n-YHZis5a",
        "colab": {
          "base_uri": "https://localhost:8080/"
        },
        "outputId": "a64e7c0b-0fbf-4062-e990-fb4684afb03a"
      },
      "execution_count": null,
      "outputs": [
        {
          "output_type": "execute_result",
          "data": {
            "text/plain": [
              "32823    [central, theme, movie, seems, confusion, rela...\n",
              "16298    [excellent, example, cowboy, noir, called, une...\n",
              "28505    [ending, made, heart, jump, throat, proceeded,...\n",
              "6689     [chosen, one, appreciate, quality, story, char...\n",
              "26893    [really, funny, film, especially, second, thir...\n",
              "                               ...                        \n",
              "29415    [film, came, gift, offering, blue, unlike, rev...\n",
              "11359    [first, started, watching, movie, looking, kin...\n",
              "575      [big, mark, music, neil, young, glowing, prais...\n",
              "17398    [watching, lady, ermine, wondering, betty, gra...\n",
              "4189     [crappy, miserably, acted, movie, based, subli...\n",
              "Name: text, Length: 10000, dtype: object"
            ]
          },
          "metadata": {},
          "execution_count": 63
        }
      ]
    },
    {
      "cell_type": "code",
      "source": [
        "#bigrams = data.apply(lambda x : ngram_list1(x,2)) # x >> single review\n",
        "#bigrams"
      ],
      "metadata": {
        "id": "3yYowlOjjn-V"
      },
      "execution_count": null,
      "outputs": []
    },
    {
      "cell_type": "code",
      "source": [
        "#bigrams = data.apply(lambda x : ngram_list1(x,2)) # x >> single review\n",
        "#bigrams"
      ],
      "metadata": {
        "id": "1pHCmT9Yjoj9"
      },
      "execution_count": null,
      "outputs": []
    },
    {
      "cell_type": "code",
      "source": [
        "!mkdir -p ~/.kaggle\n",
        "!cp kaggle.json ~/.kaggle/"
      ],
      "metadata": {
        "id": "lHuyMRISlY-J"
      },
      "execution_count": null,
      "outputs": []
    },
    {
      "cell_type": "code",
      "source": [
        "!kaggle datasets download -d shaunthesheep/microsoft-catsvsdogs-dataset"
      ],
      "metadata": {
        "colab": {
          "base_uri": "https://localhost:8080/"
        },
        "id": "z9PZEp_JlXRb",
        "outputId": "4862d6cc-d611-49e9-b57e-566d65a3d074"
      },
      "execution_count": null,
      "outputs": [
        {
          "output_type": "stream",
          "name": "stdout",
          "text": [
            "Warning: Your Kaggle API key is readable by other users on this system! To fix this, you can run 'chmod 600 /root/.kaggle/kaggle.json'\n",
            "Downloading microsoft-catsvsdogs-dataset.zip to /content\n",
            " 99% 780M/788M [00:13<00:00, 166MB/s]\n",
            "100% 788M/788M [00:13<00:00, 59.8MB/s]\n"
          ]
        }
      ]
    },
    {
      "cell_type": "code",
      "source": [],
      "metadata": {
        "id": "xlmzAQcLllOX"
      },
      "execution_count": null,
      "outputs": []
    }
  ]
}